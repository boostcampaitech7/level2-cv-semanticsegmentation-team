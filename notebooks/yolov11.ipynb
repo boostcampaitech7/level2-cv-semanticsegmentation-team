{
 "cells": [
  {
   "cell_type": "code",
   "execution_count": 3,
   "metadata": {},
   "outputs": [
    {
     "name": "stdout",
     "output_type": "stream",
     "text": [
      "Ultralytics YOLOv8.2.14  Python-3.10.8 torch-1.13.1+cpu CPU (12th Gen Intel Core(TM) i7-12700H)\n",
      "Setup complete  (20 CPUs, 31.7 GB RAM, 725.2/930.9 GB disk)\n",
      "\u001b[31m\u001b[1mrequirements:\u001b[0m Ultralytics requirement ['hub-sdk>=0.0.6'] not found, attempting AutoUpdate...\n",
      "Collecting hub-sdk>=0.0.6\n",
      "  Downloading hub_sdk-0.0.15-py3-none-any.whl.metadata (10 kB)\n",
      "Requirement already satisfied: requests in c:\\users\\z\\anaconda3\\envs\\drct\\lib\\site-packages (from hub-sdk>=0.0.6) (2.32.3)\n",
      "Requirement already satisfied: charset-normalizer<4,>=2 in c:\\users\\z\\anaconda3\\envs\\drct\\lib\\site-packages (from requests->hub-sdk>=0.0.6) (3.4.0)\n",
      "Requirement already satisfied: idna<4,>=2.5 in c:\\users\\z\\anaconda3\\envs\\drct\\lib\\site-packages (from requests->hub-sdk>=0.0.6) (3.10)\n",
      "Requirement already satisfied: urllib3<3,>=1.21.1 in c:\\users\\z\\anaconda3\\envs\\drct\\lib\\site-packages (from requests->hub-sdk>=0.0.6) (2.2.3)\n",
      "Requirement already satisfied: certifi>=2017.4.17 in c:\\users\\z\\anaconda3\\envs\\drct\\lib\\site-packages (from requests->hub-sdk>=0.0.6) (2024.8.30)\n",
      "Downloading hub_sdk-0.0.15-py3-none-any.whl (42 kB)\n",
      "Installing collected packages: hub-sdk\n",
      "Successfully installed hub-sdk-0.0.15\n",
      "\n",
      "\u001b[31m\u001b[1mrequirements:\u001b[0m AutoUpdate success  1.8s, installed 1 package: ['hub-sdk>=0.0.6']\n",
      "\u001b[31m\u001b[1mrequirements:\u001b[0m  \u001b[1mRestart runtime or rerun command for updates to take effect\u001b[0m\n",
      "\n"
     ]
    },
    {
     "ename": "ModuleNotFoundError",
     "evalue": "No module named 'hub_sdk'",
     "output_type": "error",
     "traceback": [
      "\u001b[1;31m---------------------------------------------------------------------------\u001b[0m",
      "\u001b[1;31mModuleNotFoundError\u001b[0m                       Traceback (most recent call last)",
      "Cell \u001b[1;32mIn[3], line 4\u001b[0m\n\u001b[0;32m      1\u001b[0m \u001b[38;5;28;01mfrom\u001b[39;00m \u001b[38;5;21;01multralytics\u001b[39;00m \u001b[38;5;28;01mimport\u001b[39;00m YOLO, checks, hub\n\u001b[0;32m      2\u001b[0m checks()\n\u001b[1;32m----> 4\u001b[0m \u001b[43mhub\u001b[49m\u001b[38;5;241;43m.\u001b[39;49m\u001b[43mlogin\u001b[49m\u001b[43m(\u001b[49m\u001b[38;5;124;43m'\u001b[39;49m\u001b[38;5;124;43m65bbc9483082eef4207b18d12e40c86ce9774548c9\u001b[39;49m\u001b[38;5;124;43m'\u001b[39;49m\u001b[43m)\u001b[49m\n\u001b[0;32m      6\u001b[0m model \u001b[38;5;241m=\u001b[39m YOLO(\u001b[38;5;124m'\u001b[39m\u001b[38;5;124mhttps://hub.ultralytics.com/models/m9MdEb71tJL5SRCTmDFA\u001b[39m\u001b[38;5;124m'\u001b[39m)\n\u001b[0;32m      7\u001b[0m \u001b[38;5;66;03m#results = model.train()\u001b[39;00m\n",
      "File \u001b[1;32m~\\AppData\\Local\\Programs\\Python\\Python310\\lib\\site-packages\\ultralytics\\hub\\__init__.py:27\u001b[0m, in \u001b[0;36mlogin\u001b[1;34m(api_key, save)\u001b[0m\n\u001b[0;32m     12\u001b[0m \u001b[38;5;250m\u001b[39m\u001b[38;5;124;03m\"\"\"\u001b[39;00m\n\u001b[0;32m     13\u001b[0m \u001b[38;5;124;03mLog in to the Ultralytics HUB API using the provided API key.\u001b[39;00m\n\u001b[0;32m     14\u001b[0m \n\u001b[1;32m   (...)\u001b[0m\n\u001b[0;32m     24\u001b[0m \u001b[38;5;124;03m    (bool): True if authentication is successful, False otherwise.\u001b[39;00m\n\u001b[0;32m     25\u001b[0m \u001b[38;5;124;03m\"\"\"\u001b[39;00m\n\u001b[0;32m     26\u001b[0m checks\u001b[38;5;241m.\u001b[39mcheck_requirements(\u001b[38;5;124m\"\u001b[39m\u001b[38;5;124mhub-sdk>=0.0.6\u001b[39m\u001b[38;5;124m\"\u001b[39m)\n\u001b[1;32m---> 27\u001b[0m \u001b[38;5;28;01mfrom\u001b[39;00m \u001b[38;5;21;01mhub_sdk\u001b[39;00m \u001b[38;5;28;01mimport\u001b[39;00m HUBClient\n\u001b[0;32m     29\u001b[0m api_key_url \u001b[38;5;241m=\u001b[39m \u001b[38;5;124mf\u001b[39m\u001b[38;5;124m\"\u001b[39m\u001b[38;5;132;01m{\u001b[39;00mHUB_WEB_ROOT\u001b[38;5;132;01m}\u001b[39;00m\u001b[38;5;124m/settings?tab=api+keys\u001b[39m\u001b[38;5;124m\"\u001b[39m  \u001b[38;5;66;03m# set the redirect URL\u001b[39;00m\n\u001b[0;32m     30\u001b[0m saved_key \u001b[38;5;241m=\u001b[39m SETTINGS\u001b[38;5;241m.\u001b[39mget(\u001b[38;5;124m\"\u001b[39m\u001b[38;5;124mapi_key\u001b[39m\u001b[38;5;124m\"\u001b[39m)\n",
      "\u001b[1;31mModuleNotFoundError\u001b[0m: No module named 'hub_sdk'"
     ]
    }
   ],
   "source": [
    "from ultralytics import YOLO, checks, hub\n",
    "checks()\n",
    "\n",
    "hub.login('65bbc9483082eef4207b18d12e40c86ce9774548c9')\n",
    "\n",
    "model = YOLO('https://hub.ultralytics.com/models/m9MdEb71tJL5SRCTmDFA')\n",
    "#results = model.train()"
   ]
  },
  {
   "cell_type": "code",
   "execution_count": null,
   "metadata": {},
   "outputs": [
    {
     "name": "stderr",
     "output_type": "stream",
     "text": [
      "0it [00:00, ?it/s]"
     ]
    },
    {
     "name": "stdout",
     "output_type": "stream",
     "text": [
      "\n",
      "image 1/1 E:\\4\\data\\data\\test\\DCM\\ID040\\image1661319116107.png: 2048x2048 1 finger-1, 1 finger-2, 1 finger-3, 1 finger-4, 1 finger-5, 1 finger-6, 1 finger-7, 1 finger-8, 1 finger-9, 1 finger-10, 1 finger-11, 1 finger-12, 1 finger-13, 1 finger-14, 1 finger-15, 1 finger-16, 1 finger-17, 1 finger-18, 1 finger-19, 1 Trapezium, 1 Trapezoid, 1 Capitate, 1 Hamate, 1 Scaphoid, 1 Lunate, 1 Triquetrum, 1 Pisiform, 1 Radius, 1 Ulna, 6121.1ms\n",
      "Speed: 15.0ms preprocess, 6121.1ms inference, 238.0ms postprocess per image at shape (1, 3, 2048, 2048)\n"
     ]
    },
    {
     "name": "stderr",
     "output_type": "stream",
     "text": [
      "1it [00:13, 13.75s/it]"
     ]
    },
    {
     "name": "stdout",
     "output_type": "stream",
     "text": [
      "\n",
      "image 1/1 E:\\4\\data\\data\\test\\DCM\\ID040\\image1661319145363.png: 2048x2048 1 finger-1, 1 finger-2, 1 finger-3, 1 finger-4, 1 finger-5, 1 finger-6, 1 finger-7, 1 finger-8, 1 finger-9, 1 finger-10, 1 finger-11, 1 finger-12, 1 finger-13, 1 finger-14, 1 finger-15, 1 finger-16, 1 finger-17, 1 finger-18, 1 finger-19, 1 Trapezium, 1 Trapezoid, 1 Capitate, 1 Hamate, 1 Scaphoid, 1 Lunate, 1 Triquetrum, 1 Pisiform, 1 Radius, 1 Ulna, 5769.6ms\n",
      "Speed: 22.0ms preprocess, 5769.6ms inference, 205.0ms postprocess per image at shape (1, 3, 2048, 2048)\n"
     ]
    },
    {
     "name": "stderr",
     "output_type": "stream",
     "text": [
      "2it [00:20,  9.63s/it]"
     ]
    },
    {
     "name": "stdout",
     "output_type": "stream",
     "text": [
      "\n",
      "image 1/1 E:\\4\\data\\data\\test\\DCM\\ID041\\image1661319356239.png: 2048x2048 1 finger-1, 1 finger-2, 1 finger-3, 1 finger-4, 1 finger-5, 1 finger-6, 1 finger-7, 1 finger-8, 1 finger-9, 1 finger-10, 1 finger-11, 1 finger-12, 1 finger-13, 1 finger-14, 1 finger-15, 1 finger-16, 1 finger-17, 1 finger-18, 1 finger-19, 1 Trapezium, 1 Trapezoid, 1 Capitate, 1 Hamate, 1 Scaphoid, 1 Lunate, 1 Triquetrum, 1 Pisiform, 1 Radius, 1 Ulna, 6429.2ms\n",
      "Speed: 17.0ms preprocess, 6429.2ms inference, 241.8ms postprocess per image at shape (1, 3, 2048, 2048)\n"
     ]
    },
    {
     "name": "stderr",
     "output_type": "stream",
     "text": [
      "3it [00:27,  8.61s/it]"
     ]
    },
    {
     "name": "stdout",
     "output_type": "stream",
     "text": [
      "\n",
      "image 1/1 E:\\4\\data\\data\\test\\DCM\\ID041\\image1661319390106.png: 2048x2048 1 finger-1, 1 finger-2, 1 finger-3, 1 finger-4, 1 finger-5, 1 finger-6, 1 finger-7, 1 finger-8, 1 finger-9, 1 finger-10, 1 finger-11, 1 finger-12, 1 finger-13, 1 finger-14, 1 finger-15, 1 finger-16, 1 finger-17, 1 finger-18, 1 finger-19, 1 Trapezium, 1 Trapezoid, 1 Capitate, 1 Hamate, 1 Scaphoid, 1 Lunate, 1 Triquetrum, 1 Pisiform, 1 Radius, 1 Ulna, 6135.5ms\n",
      "Speed: 13.1ms preprocess, 6135.5ms inference, 239.0ms postprocess per image at shape (1, 3, 2048, 2048)\n"
     ]
    },
    {
     "name": "stderr",
     "output_type": "stream",
     "text": [
      "4it [00:34,  8.00s/it]"
     ]
    },
    {
     "name": "stdout",
     "output_type": "stream",
     "text": [
      "\n",
      "image 1/1 E:\\4\\data\\data\\test\\DCM\\ID042\\image1661320372752.png: 2048x2048 1 finger-1, 1 finger-2, 1 finger-3, 1 finger-4, 1 finger-5, 1 finger-6, 1 finger-7, 1 finger-8, 1 finger-9, 1 finger-10, 1 finger-11, 1 finger-12, 1 finger-13, 1 finger-14, 1 finger-15, 1 finger-16, 1 finger-17, 1 finger-18, 1 finger-19, 1 Trapezium, 1 Trapezoid, 1 Capitate, 1 Hamate, 1 Scaphoid, 1 Lunate, 1 Triquetrum, 1 Pisiform, 1 Radius, 1 Ulna, 6093.8ms\n",
      "Speed: 14.0ms preprocess, 6093.8ms inference, 244.0ms postprocess per image at shape (1, 3, 2048, 2048)\n"
     ]
    },
    {
     "name": "stderr",
     "output_type": "stream",
     "text": [
      "5it [00:41,  7.65s/it]"
     ]
    },
    {
     "name": "stdout",
     "output_type": "stream",
     "text": [
      "\n",
      "image 1/1 E:\\4\\data\\data\\test\\DCM\\ID042\\image1661320397148.png: 2048x2048 1 finger-1, 1 finger-2, 1 finger-3, 1 finger-4, 1 finger-5, 1 finger-6, 1 finger-7, 1 finger-8, 1 finger-9, 1 finger-10, 1 finger-11, 1 finger-12, 1 finger-13, 1 finger-14, 1 finger-15, 1 finger-16, 1 finger-17, 1 finger-18, 1 finger-19, 1 Trapezium, 1 Trapezoid, 1 Capitate, 1 Hamate, 1 Scaphoid, 1 Lunate, 1 Triquetrum, 1 Pisiform, 1 Radius, 1 Ulna, 6057.4ms\n",
      "Speed: 21.0ms preprocess, 6057.4ms inference, 230.0ms postprocess per image at shape (1, 3, 2048, 2048)\n"
     ]
    },
    {
     "name": "stderr",
     "output_type": "stream",
     "text": [
      "6it [00:48,  7.43s/it]"
     ]
    },
    {
     "name": "stdout",
     "output_type": "stream",
     "text": [
      "\n",
      "image 1/1 E:\\4\\data\\data\\test\\DCM\\ID043\\image1661320538919.png: 2048x2048 1 finger-1, 1 finger-2, 1 finger-3, 1 finger-4, 1 finger-5, 1 finger-6, 1 finger-7, 1 finger-8, 1 finger-9, 1 finger-10, 1 finger-11, 1 finger-12, 1 finger-13, 1 finger-14, 1 finger-15, 1 finger-16, 1 finger-17, 1 finger-18, 1 finger-19, 1 Trapezium, 1 Trapezoid, 1 Capitate, 1 Hamate, 1 Scaphoid, 1 Lunate, 1 Triquetrum, 1 Pisiform, 1 Radius, 1 Ulna, 6055.6ms\n",
      "Speed: 18.0ms preprocess, 6055.6ms inference, 240.0ms postprocess per image at shape (1, 3, 2048, 2048)\n"
     ]
    },
    {
     "name": "stderr",
     "output_type": "stream",
     "text": [
      "7it [00:55,  7.28s/it]"
     ]
    },
    {
     "name": "stdout",
     "output_type": "stream",
     "text": [
      "\n",
      "image 1/1 E:\\4\\data\\data\\test\\DCM\\ID043\\image1661320557045.png: 2048x2048 1 finger-1, 1 finger-2, 1 finger-3, 1 finger-4, 1 finger-5, 1 finger-6, 1 finger-7, 1 finger-8, 1 finger-9, 1 finger-10, 1 finger-11, 1 finger-12, 1 finger-13, 1 finger-14, 1 finger-15, 1 finger-16, 1 finger-17, 1 finger-18, 1 finger-19, 1 Trapezium, 1 Trapezoid, 1 Capitate, 1 Hamate, 1 Scaphoid, 1 Lunate, 1 Triquetrum, 1 Pisiform, 1 Radius, 1 Ulna, 6060.8ms\n",
      "Speed: 15.0ms preprocess, 6060.8ms inference, 250.9ms postprocess per image at shape (1, 3, 2048, 2048)\n"
     ]
    },
    {
     "name": "stderr",
     "output_type": "stream",
     "text": [
      "8it [01:02,  7.20s/it]"
     ]
    },
    {
     "name": "stdout",
     "output_type": "stream",
     "text": [
      "\n",
      "image 1/1 E:\\4\\data\\data\\test\\DCM\\ID044\\image1661320671343.png: 2048x2048 1 finger-1, 1 finger-2, 1 finger-3, 1 finger-4, 1 finger-5, 1 finger-6, 1 finger-7, 1 finger-8, 1 finger-9, 1 finger-10, 1 finger-11, 1 finger-12, 1 finger-13, 1 finger-14, 1 finger-15, 1 finger-16, 1 finger-17, 1 finger-18, 1 finger-19, 1 Trapezium, 1 Trapezoid, 1 Capitate, 1 Hamate, 1 Scaphoid, 1 Lunate, 1 Triquetrum, 1 Pisiform, 1 Radius, 1 Ulna, 6034.2ms\n",
      "Speed: 17.0ms preprocess, 6034.2ms inference, 245.1ms postprocess per image at shape (1, 3, 2048, 2048)\n"
     ]
    },
    {
     "name": "stderr",
     "output_type": "stream",
     "text": [
      "9it [01:09,  7.13s/it]"
     ]
    },
    {
     "name": "stdout",
     "output_type": "stream",
     "text": [
      "\n",
      "image 1/1 E:\\4\\data\\data\\test\\DCM\\ID044\\image1661320722689.png: 2048x2048 1 finger-1, 1 finger-2, 1 finger-3, 1 finger-4, 1 finger-5, 1 finger-6, 1 finger-7, 1 finger-8, 1 finger-9, 1 finger-10, 1 finger-11, 1 finger-12, 1 finger-13, 1 finger-14, 1 finger-15, 1 finger-16, 1 finger-17, 1 finger-18, 1 finger-19, 1 Trapezium, 1 Trapezoid, 1 Capitate, 1 Hamate, 1 Scaphoid, 1 Lunate, 1 Triquetrum, 1 Pisiform, 1 Radius, 1 Ulna, 6105.1ms\n",
      "Speed: 19.0ms preprocess, 6105.1ms inference, 228.0ms postprocess per image at shape (1, 3, 2048, 2048)\n"
     ]
    },
    {
     "name": "stderr",
     "output_type": "stream",
     "text": [
      "10it [01:16,  7.10s/it]"
     ]
    },
    {
     "name": "stdout",
     "output_type": "stream",
     "text": [
      "\n",
      "image 1/1 E:\\4\\data\\data\\test\\DCM\\ID045\\image1661320864475.png: 2048x2048 1 finger-1, 1 finger-2, 1 finger-3, 1 finger-4, 1 finger-5, 1 finger-6, 1 finger-7, 1 finger-8, 1 finger-9, 1 finger-10, 1 finger-11, 1 finger-12, 1 finger-13, 1 finger-14, 1 finger-15, 1 finger-16, 1 finger-17, 1 finger-18, 1 finger-19, 1 Trapezium, 1 Trapezoid, 1 Capitate, 1 Hamate, 1 Scaphoid, 1 Lunate, 1 Triquetrum, 1 Pisiform, 1 Radius, 1 Ulna, 6229.1ms\n",
      "Speed: 15.0ms preprocess, 6229.1ms inference, 237.0ms postprocess per image at shape (1, 3, 2048, 2048)\n"
     ]
    },
    {
     "name": "stderr",
     "output_type": "stream",
     "text": [
      "11it [01:24,  7.16s/it]"
     ]
    },
    {
     "name": "stdout",
     "output_type": "stream",
     "text": [
      "\n",
      "image 1/1 E:\\4\\data\\data\\test\\DCM\\ID045\\image1661320892395.png: 2048x2048 1 finger-1, 1 finger-2, 1 finger-3, 1 finger-4, 1 finger-5, 1 finger-6, 1 finger-7, 1 finger-8, 1 finger-9, 1 finger-10, 1 finger-11, 1 finger-12, 1 finger-13, 1 finger-14, 1 finger-15, 1 finger-16, 1 finger-17, 1 finger-18, 1 finger-19, 1 Trapezium, 1 Trapezoid, 1 Capitate, 1 Hamate, 1 Scaphoid, 1 Lunate, 1 Triquetrum, 1 Pisiform, 1 Radius, 1 Ulna, 7307.0ms\n",
      "Speed: 16.1ms preprocess, 7307.0ms inference, 371.0ms postprocess per image at shape (1, 3, 2048, 2048)\n"
     ]
    },
    {
     "name": "stderr",
     "output_type": "stream",
     "text": [
      "12it [01:32,  7.55s/it]"
     ]
    },
    {
     "name": "stdout",
     "output_type": "stream",
     "text": [
      "\n",
      "image 1/1 E:\\4\\data\\data\\test\\DCM\\ID046\\image1661320944318.png: 2048x2048 1 finger-1, 1 finger-2, 1 finger-3, 1 finger-4, 1 finger-5, 1 finger-6, 1 finger-7, 1 finger-8, 1 finger-9, 1 finger-10, 1 finger-11, 1 finger-12, 1 finger-13, 1 finger-14, 1 finger-15, 1 finger-16, 1 finger-17, 1 finger-18, 1 finger-19, 1 Trapezium, 1 Trapezoid, 1 Capitate, 1 Hamate, 1 Scaphoid, 1 Lunate, 1 Triquetrum, 1 Pisiform, 1 Radius, 1 Ulna, 5781.9ms\n",
      "Speed: 16.0ms preprocess, 5781.9ms inference, 211.1ms postprocess per image at shape (1, 3, 2048, 2048)\n"
     ]
    },
    {
     "name": "stderr",
     "output_type": "stream",
     "text": [
      "13it [01:39,  7.29s/it]"
     ]
    },
    {
     "name": "stdout",
     "output_type": "stream",
     "text": [
      "\n",
      "image 1/1 E:\\4\\data\\data\\test\\DCM\\ID046\\image1661320972355.png: 2048x2048 1 finger-1, 1 finger-2, 1 finger-3, 1 finger-4, 1 finger-5, 1 finger-6, 1 finger-7, 1 finger-8, 1 finger-9, 1 finger-10, 1 finger-11, 1 finger-12, 1 finger-13, 1 finger-14, 1 finger-15, 1 finger-16, 1 finger-17, 1 finger-18, 1 finger-19, 1 Trapezium, 1 Trapezoid, 1 Capitate, 1 Hamate, 1 Scaphoid, 1 Lunate, 1 Triquetrum, 1 Pisiform, 1 Radius, 1 Ulna, 5746.8ms\n",
      "Speed: 12.1ms preprocess, 5746.8ms inference, 214.0ms postprocess per image at shape (1, 3, 2048, 2048)\n"
     ]
    },
    {
     "name": "stderr",
     "output_type": "stream",
     "text": [
      "14it [01:46,  7.10s/it]"
     ]
    },
    {
     "name": "stdout",
     "output_type": "stream",
     "text": [
      "\n",
      "image 1/1 E:\\4\\data\\data\\test\\DCM\\ID047\\image1661389291522.png: 2048x2048 1 finger-1, 1 finger-2, 1 finger-3, 1 finger-4, 1 finger-5, 1 finger-6, 1 finger-7, 1 finger-8, 1 finger-9, 1 finger-10, 1 finger-11, 1 finger-12, 1 finger-13, 1 finger-14, 1 finger-15, 1 finger-16, 1 finger-17, 1 finger-18, 1 finger-19, 1 Trapezium, 1 Trapezoid, 1 Capitate, 1 Hamate, 1 Scaphoid, 1 Lunate, 1 Triquetrum, 1 Pisiform, 1 Radius, 1 Ulna, 5668.1ms\n",
      "Speed: 14.0ms preprocess, 5668.1ms inference, 219.0ms postprocess per image at shape (1, 3, 2048, 2048)\n"
     ]
    },
    {
     "name": "stderr",
     "output_type": "stream",
     "text": [
      "15it [01:52,  6.93s/it]"
     ]
    },
    {
     "name": "stdout",
     "output_type": "stream",
     "text": [
      "\n",
      "image 1/1 E:\\4\\data\\data\\test\\DCM\\ID047\\image1661389310383.png: 2048x2048 1 finger-1, 1 finger-2, 1 finger-3, 1 finger-4, 1 finger-5, 1 finger-6, 1 finger-7, 1 finger-8, 1 finger-9, 1 finger-10, 1 finger-11, 1 finger-12, 1 finger-13, 1 finger-14, 1 finger-15, 1 finger-16, 1 finger-17, 1 finger-18, 1 finger-19, 1 Trapezium, 1 Trapezoid, 1 Capitate, 1 Hamate, 1 Scaphoid, 1 Lunate, 1 Triquetrum, 1 Pisiform, 1 Radius, 1 Ulna, 5725.8ms\n",
      "Speed: 14.0ms preprocess, 5725.8ms inference, 207.1ms postprocess per image at shape (1, 3, 2048, 2048)\n"
     ]
    },
    {
     "name": "stderr",
     "output_type": "stream",
     "text": [
      "16it [01:59,  6.84s/it]"
     ]
    },
    {
     "name": "stdout",
     "output_type": "stream",
     "text": [
      "\n",
      "image 1/1 E:\\4\\data\\data\\test\\DCM\\ID048\\image1661389524954.png: 2048x2048 1 finger-1, 1 finger-2, 1 finger-3, 1 finger-4, 1 finger-5, 1 finger-6, 1 finger-7, 1 finger-8, 1 finger-9, 1 finger-10, 1 finger-11, 1 finger-12, 1 finger-13, 1 finger-14, 1 finger-15, 1 finger-16, 1 finger-17, 1 finger-18, 1 finger-19, 1 Trapezium, 1 Trapezoid, 1 Capitate, 1 Hamate, 1 Scaphoid, 1 Lunate, 1 Triquetrum, 1 Pisiform, 1 Radius, 1 Ulna, 5679.8ms\n",
      "Speed: 13.0ms preprocess, 5679.8ms inference, 210.1ms postprocess per image at shape (1, 3, 2048, 2048)\n"
     ]
    },
    {
     "name": "stderr",
     "output_type": "stream",
     "text": [
      "17it [02:05,  6.77s/it]"
     ]
    },
    {
     "name": "stdout",
     "output_type": "stream",
     "text": [
      "\n",
      "image 1/1 E:\\4\\data\\data\\test\\DCM\\ID048\\image1661389553713.png: 2048x2048 1 finger-1, 1 finger-2, 1 finger-3, 1 finger-4, 1 finger-5, 1 finger-6, 1 finger-7, 1 finger-8, 1 finger-9, 1 finger-10, 1 finger-11, 1 finger-12, 1 finger-13, 1 finger-14, 1 finger-15, 1 finger-16, 1 finger-17, 1 finger-18, 1 finger-19, 1 Trapezium, 1 Trapezoid, 1 Capitate, 1 Hamate, 1 Scaphoid, 1 Lunate, 1 Triquetrum, 1 Pisiform, 1 Radius, 1 Ulna, 5755.6ms\n",
      "Speed: 14.0ms preprocess, 5755.6ms inference, 213.0ms postprocess per image at shape (1, 3, 2048, 2048)\n"
     ]
    },
    {
     "name": "stderr",
     "output_type": "stream",
     "text": [
      "18it [02:12,  6.73s/it]"
     ]
    },
    {
     "name": "stdout",
     "output_type": "stream",
     "text": [
      "\n",
      "image 1/1 E:\\4\\data\\data\\test\\DCM\\ID049\\image1661389595277.png: 2048x2048 1 finger-1, 1 finger-2, 1 finger-3, 1 finger-4, 1 finger-5, 1 finger-6, 1 finger-7, 1 finger-8, 1 finger-9, 1 finger-10, 1 finger-11, 1 finger-12, 1 finger-13, 1 finger-14, 1 finger-15, 1 finger-16, 1 finger-17, 1 finger-18, 1 finger-19, 1 Trapezium, 1 Trapezoid, 1 Capitate, 1 Hamate, 1 Scaphoid, 1 Lunate, 1 Triquetrum, 1 Pisiform, 1 Radius, 1 Ulna, 5685.9ms\n",
      "Speed: 15.0ms preprocess, 5685.9ms inference, 213.4ms postprocess per image at shape (1, 3, 2048, 2048)\n"
     ]
    },
    {
     "name": "stderr",
     "output_type": "stream",
     "text": [
      "19it [02:19,  6.70s/it]"
     ]
    },
    {
     "name": "stdout",
     "output_type": "stream",
     "text": [
      "\n",
      "image 1/1 E:\\4\\data\\data\\test\\DCM\\ID049\\image1661389621012.png: 2048x2048 1 finger-1, 1 finger-2, 1 finger-3, 1 finger-4, 1 finger-5, 1 finger-6, 1 finger-7, 1 finger-8, 1 finger-9, 1 finger-10, 1 finger-11, 1 finger-12, 1 finger-13, 1 finger-14, 1 finger-15, 1 finger-16, 1 finger-17, 1 finger-18, 1 finger-19, 1 Trapezium, 1 Trapezoid, 1 Capitate, 1 Hamate, 1 Scaphoid, 1 Lunate, 1 Triquetrum, 1 Pisiform, 1 Radius, 1 Ulna, 5718.9ms\n",
      "Speed: 14.0ms preprocess, 5718.9ms inference, 203.9ms postprocess per image at shape (1, 3, 2048, 2048)\n"
     ]
    },
    {
     "name": "stderr",
     "output_type": "stream",
     "text": [
      "20it [02:25,  6.67s/it]"
     ]
    },
    {
     "name": "stdout",
     "output_type": "stream",
     "text": [
      "\n",
      "image 1/1 E:\\4\\data\\data\\test\\DCM\\ID068\\image1661735854451.png: 2048x2048 1 finger-1, 1 finger-2, 1 finger-3, 1 finger-4, 1 finger-5, 1 finger-6, 1 finger-7, 1 finger-8, 1 finger-9, 1 finger-10, 1 finger-11, 1 finger-12, 1 finger-13, 1 finger-14, 1 finger-15, 1 finger-16, 1 finger-17, 1 finger-18, 1 finger-19, 1 Trapezium, 1 Trapezoid, 1 Capitate, 1 Hamate, 1 Scaphoid, 1 Lunate, 1 Triquetrum, 1 Pisiform, 1 Radius, 1 Ulna, 5659.1ms\n",
      "Speed: 15.0ms preprocess, 5659.1ms inference, 215.0ms postprocess per image at shape (1, 3, 2048, 2048)\n"
     ]
    },
    {
     "name": "stderr",
     "output_type": "stream",
     "text": [
      "21it [02:32,  6.63s/it]"
     ]
    },
    {
     "name": "stdout",
     "output_type": "stream",
     "text": [
      "\n",
      "image 1/1 E:\\4\\data\\data\\test\\DCM\\ID068\\image1661735882043.png: 2048x2048 1 finger-1, 1 finger-2, 1 finger-3, 1 finger-4, 1 finger-5, 1 finger-6, 1 finger-7, 1 finger-8, 1 finger-9, 1 finger-10, 1 finger-11, 1 finger-12, 1 finger-13, 1 finger-14, 1 finger-15, 1 finger-16, 1 finger-17, 1 finger-18, 1 finger-19, 1 Trapezium, 1 Trapezoid, 1 Capitate, 1 Hamate, 1 Scaphoid, 1 Lunate, 1 Triquetrum, 1 Pisiform, 1 Radius, 1 Ulna, 5697.2ms\n",
      "Speed: 14.0ms preprocess, 5697.2ms inference, 211.0ms postprocess per image at shape (1, 3, 2048, 2048)\n"
     ]
    },
    {
     "name": "stderr",
     "output_type": "stream",
     "text": [
      "22it [02:38,  6.63s/it]"
     ]
    },
    {
     "name": "stdout",
     "output_type": "stream",
     "text": [
      "\n",
      "image 1/1 E:\\4\\data\\data\\test\\DCM\\ID137\\image1662340967509.png: 2048x2048 1 finger-1, 1 finger-2, 1 finger-3, 1 finger-4, 1 finger-5, 1 finger-6, 1 finger-7, 1 finger-8, 1 finger-9, 1 finger-10, 1 finger-11, 1 finger-12, 1 finger-13, 1 finger-14, 1 finger-15, 1 finger-16, 1 finger-17, 1 finger-18, 1 finger-19, 1 Trapezium, 1 Trapezoid, 1 Capitate, 1 Hamate, 1 Scaphoid, 1 Lunate, 1 Triquetrum, 1 Pisiform, 1 Radius, 1 Ulna, 5716.2ms\n",
      "Speed: 19.0ms preprocess, 5716.2ms inference, 216.2ms postprocess per image at shape (1, 3, 2048, 2048)\n"
     ]
    },
    {
     "name": "stderr",
     "output_type": "stream",
     "text": [
      "23it [02:45,  6.62s/it]"
     ]
    },
    {
     "name": "stdout",
     "output_type": "stream",
     "text": [
      "\n",
      "image 1/1 E:\\4\\data\\data\\test\\DCM\\ID137\\image1662340984526.png: 2048x2048 1 finger-1, 1 finger-2, 1 finger-3, 1 finger-4, 1 finger-5, 1 finger-6, 1 finger-7, 1 finger-8, 1 finger-9, 1 finger-10, 1 finger-11, 1 finger-12, 1 finger-13, 1 finger-14, 1 finger-15, 1 finger-16, 1 finger-17, 1 finger-18, 1 finger-19, 1 Trapezium, 1 Trapezoid, 1 Capitate, 1 Hamate, 1 Scaphoid, 1 Lunate, 1 Triquetrum, 1 Pisiform, 1 Radius, 1 Ulna, 5684.3ms\n",
      "Speed: 15.0ms preprocess, 5684.3ms inference, 214.1ms postprocess per image at shape (1, 3, 2048, 2048)\n"
     ]
    },
    {
     "name": "stderr",
     "output_type": "stream",
     "text": [
      "24it [02:52,  6.61s/it]"
     ]
    },
    {
     "name": "stdout",
     "output_type": "stream",
     "text": [
      "\n",
      "image 1/1 E:\\4\\data\\data\\test\\DCM\\ID138\\image1662341048902.png: 2048x2048 1 finger-1, 1 finger-2, 1 finger-3, 1 finger-4, 1 finger-5, 1 finger-6, 1 finger-7, 1 finger-8, 1 finger-9, 1 finger-10, 1 finger-11, 1 finger-12, 1 finger-13, 1 finger-14, 1 finger-15, 1 finger-16, 1 finger-17, 1 finger-18, 1 finger-19, 1 Trapezium, 1 Trapezoid, 1 Capitate, 1 Hamate, 1 Scaphoid, 1 Lunate, 1 Triquetrum, 1 Pisiform, 1 Radius, 1 Ulna, 5671.7ms\n",
      "Speed: 15.0ms preprocess, 5671.7ms inference, 206.1ms postprocess per image at shape (1, 3, 2048, 2048)\n"
     ]
    },
    {
     "name": "stderr",
     "output_type": "stream",
     "text": [
      "25it [02:58,  6.59s/it]"
     ]
    },
    {
     "name": "stdout",
     "output_type": "stream",
     "text": [
      "\n",
      "image 1/1 E:\\4\\data\\data\\test\\DCM\\ID138\\image1662341087474.png: 2048x2048 1 finger-1, 1 finger-2, 1 finger-3, 1 finger-4, 1 finger-5, 1 finger-6, 1 finger-7, 1 finger-8, 1 finger-9, 1 finger-10, 1 finger-11, 1 finger-12, 1 finger-13, 1 finger-14, 1 finger-15, 1 finger-16, 1 finger-17, 1 finger-18, 1 finger-19, 1 Trapezium, 1 Trapezoid, 1 Capitate, 1 Hamate, 1 Scaphoid, 1 Lunate, 1 Triquetrum, 1 Pisiform, 1 Radius, 1 Ulna, 5709.1ms\n",
      "Speed: 14.0ms preprocess, 5709.1ms inference, 214.0ms postprocess per image at shape (1, 3, 2048, 2048)\n"
     ]
    },
    {
     "name": "stderr",
     "output_type": "stream",
     "text": [
      "26it [03:05,  6.59s/it]"
     ]
    },
    {
     "name": "stdout",
     "output_type": "stream",
     "text": [
      "\n",
      "image 1/1 E:\\4\\data\\data\\test\\DCM\\ID139\\image1662341167750.png: 2048x2048 1 finger-1, 1 finger-2, 1 finger-3, 1 finger-4, 1 finger-5, 1 finger-6, 1 finger-7, 1 finger-8, 1 finger-9, 1 finger-10, 1 finger-11, 1 finger-12, 1 finger-13, 1 finger-14, 1 finger-15, 1 finger-16, 1 finger-17, 1 finger-18, 1 finger-19, 1 Trapezium, 1 Trapezoid, 1 Capitate, 1 Hamate, 1 Scaphoid, 1 Lunate, 1 Triquetrum, 1 Pisiform, 1 Radius, 1 Ulna, 5738.7ms\n",
      "Speed: 14.0ms preprocess, 5738.7ms inference, 226.0ms postprocess per image at shape (1, 3, 2048, 2048)\n"
     ]
    },
    {
     "name": "stderr",
     "output_type": "stream",
     "text": [
      "27it [03:11,  6.60s/it]"
     ]
    },
    {
     "name": "stdout",
     "output_type": "stream",
     "text": [
      "\n",
      "image 1/1 E:\\4\\data\\data\\test\\DCM\\ID139\\image1662341205574.png: 2048x2048 1 finger-1, 1 finger-2, 1 finger-3, 1 finger-4, 1 finger-5, 1 finger-6, 1 finger-7, 1 finger-8, 1 finger-9, 1 finger-10, 1 finger-11, 1 finger-12, 1 finger-13, 1 finger-14, 1 finger-15, 1 finger-16, 1 finger-17, 1 finger-18, 1 finger-19, 1 Trapezium, 1 Trapezoid, 1 Capitate, 1 Hamate, 1 Scaphoid, 1 Lunate, 1 Triquetrum, 1 Pisiform, 1 Radius, 1 Ulna, 5725.1ms\n",
      "Speed: 13.1ms preprocess, 5725.1ms inference, 204.4ms postprocess per image at shape (1, 3, 2048, 2048)\n"
     ]
    },
    {
     "name": "stderr",
     "output_type": "stream",
     "text": [
      "28it [03:18,  6.66s/it]"
     ]
    },
    {
     "name": "stdout",
     "output_type": "stream",
     "text": [
      "\n",
      "image 1/1 E:\\4\\data\\data\\test\\DCM\\ID140\\image1662341263517.png: 2048x2048 1 finger-1, 1 finger-2, 1 finger-3, 1 finger-4, 1 finger-5, 1 finger-6, 1 finger-7, 1 finger-8, 1 finger-9, 1 finger-10, 1 finger-11, 1 finger-12, 1 finger-13, 1 finger-14, 1 finger-15, 1 finger-16, 1 finger-17, 1 finger-18, 1 finger-19, 1 Trapezium, 1 Trapezoid, 1 Capitate, 1 Hamate, 1 Scaphoid, 1 Lunate, 1 Triquetrum, 1 Pisiform, 1 Radius, 1 Ulna, 5659.6ms\n",
      "Speed: 12.9ms preprocess, 5659.6ms inference, 222.1ms postprocess per image at shape (1, 3, 2048, 2048)\n"
     ]
    },
    {
     "name": "stderr",
     "output_type": "stream",
     "text": [
      "29it [03:25,  6.63s/it]"
     ]
    },
    {
     "name": "stdout",
     "output_type": "stream",
     "text": [
      "\n",
      "image 1/1 E:\\4\\data\\data\\test\\DCM\\ID140\\image1662341292950.png: 2048x2048 1 finger-1, 1 finger-2, 1 finger-3, 1 finger-4, 1 finger-5, 1 finger-6, 1 finger-7, 1 finger-8, 1 finger-9, 1 finger-10, 1 finger-11, 1 finger-12, 1 finger-13, 1 finger-14, 1 finger-15, 1 finger-16, 1 finger-17, 1 finger-18, 1 finger-19, 1 Trapezium, 1 Trapezoid, 1 Capitate, 1 Hamate, 1 Scaphoid, 1 Lunate, 1 Triquetrum, 1 Pisiform, 1 Radius, 1 Ulna, 5665.3ms\n",
      "Speed: 14.0ms preprocess, 5665.3ms inference, 211.0ms postprocess per image at shape (1, 3, 2048, 2048)\n"
     ]
    },
    {
     "name": "stderr",
     "output_type": "stream",
     "text": [
      "30it [03:31,  6.61s/it]"
     ]
    },
    {
     "name": "stdout",
     "output_type": "stream",
     "text": [
      "\n",
      "image 1/1 E:\\4\\data\\data\\test\\DCM\\ID141\\image1662341360854.png: 2048x2048 1 finger-1, 1 finger-2, 1 finger-3, 1 finger-4, 1 finger-5, 1 finger-6, 1 finger-7, 1 finger-8, 1 finger-9, 1 finger-10, 1 finger-11, 1 finger-12, 1 finger-13, 1 finger-14, 1 finger-15, 1 finger-16, 1 finger-17, 1 finger-18, 1 finger-19, 1 Trapezium, 1 Trapezoid, 1 Capitate, 1 Hamate, 1 Scaphoid, 1 Lunate, 1 Triquetrum, 1 Pisiform, 1 Radius, 1 Ulna, 5632.8ms\n",
      "Speed: 15.0ms preprocess, 5632.8ms inference, 219.0ms postprocess per image at shape (1, 3, 2048, 2048)\n"
     ]
    },
    {
     "name": "stderr",
     "output_type": "stream",
     "text": [
      "31it [03:38,  6.60s/it]"
     ]
    },
    {
     "name": "stdout",
     "output_type": "stream",
     "text": [
      "\n",
      "image 1/1 E:\\4\\data\\data\\test\\DCM\\ID141\\image1662341377096.png: 2048x2048 1 finger-1, 1 finger-2, 1 finger-3, 1 finger-4, 1 finger-5, 1 finger-6, 1 finger-7, 1 finger-8, 1 finger-9, 1 finger-10, 1 finger-11, 1 finger-12, 1 finger-13, 1 finger-14, 1 finger-15, 1 finger-16, 1 finger-17, 1 finger-18, 1 finger-19, 1 Trapezium, 1 Trapezoid, 1 Capitate, 1 Hamate, 1 Scaphoid, 1 Lunate, 1 Triquetrum, 1 Pisiform, 1 Radius, 1 Ulna, 5645.2ms\n",
      "Speed: 14.0ms preprocess, 5645.2ms inference, 211.0ms postprocess per image at shape (1, 3, 2048, 2048)\n"
     ]
    },
    {
     "name": "stderr",
     "output_type": "stream",
     "text": [
      "32it [03:44,  6.58s/it]"
     ]
    },
    {
     "name": "stdout",
     "output_type": "stream",
     "text": [
      "\n",
      "image 1/1 E:\\4\\data\\data\\test\\DCM\\ID142\\image1662341616527.png: 2048x2048 1 finger-1, 1 finger-2, 1 finger-3, 1 finger-4, 1 finger-5, 1 finger-6, 1 finger-7, 1 finger-8, 1 finger-9, 1 finger-10, 1 finger-11, 1 finger-12, 1 finger-13, 1 finger-14, 1 finger-15, 1 finger-16, 1 finger-17, 1 finger-18, 1 finger-19, 1 Trapezium, 1 Trapezoid, 1 Capitate, 1 Hamate, 1 Scaphoid, 1 Lunate, 1 Triquetrum, 1 Pisiform, 1 Radius, 1 Ulna, 5677.0ms\n",
      "Speed: 13.0ms preprocess, 5677.0ms inference, 222.0ms postprocess per image at shape (1, 3, 2048, 2048)\n"
     ]
    },
    {
     "name": "stderr",
     "output_type": "stream",
     "text": [
      "33it [03:51,  6.58s/it]"
     ]
    },
    {
     "name": "stdout",
     "output_type": "stream",
     "text": [
      "\n",
      "image 1/1 E:\\4\\data\\data\\test\\DCM\\ID142\\image1662341653233.png: 2048x2048 1 finger-1, 1 finger-2, 1 finger-3, 1 finger-4, 1 finger-5, 1 finger-6, 1 finger-7, 1 finger-8, 1 finger-9, 1 finger-10, 1 finger-11, 1 finger-12, 1 finger-13, 1 finger-14, 1 finger-15, 1 finger-16, 1 finger-17, 1 finger-18, 1 finger-19, 1 Trapezium, 1 Trapezoid, 1 Capitate, 1 Hamate, 1 Scaphoid, 1 Lunate, 1 Triquetrum, 1 Pisiform, 1 Radius, 1 Ulna, 5914.2ms\n",
      "Speed: 13.1ms preprocess, 5914.2ms inference, 207.0ms postprocess per image at shape (1, 3, 2048, 2048)\n"
     ]
    },
    {
     "name": "stderr",
     "output_type": "stream",
     "text": [
      "34it [03:58,  6.65s/it]"
     ]
    },
    {
     "name": "stdout",
     "output_type": "stream",
     "text": [
      "\n",
      "image 1/1 E:\\4\\data\\data\\test\\DCM\\ID143\\image1662341848883.png: 2048x2048 1 finger-1, 1 finger-2, 1 finger-3, 1 finger-4, 1 finger-5, 1 finger-6, 1 finger-7, 1 finger-8, 1 finger-9, 1 finger-10, 1 finger-11, 1 finger-12, 1 finger-13, 1 finger-14, 1 finger-15, 1 finger-16, 1 finger-17, 1 finger-18, 1 finger-19, 1 Trapezium, 1 Trapezoid, 1 Capitate, 1 Hamate, 1 Scaphoid, 1 Lunate, 1 Triquetrum, 1 Pisiform, 1 Radius, 1 Ulna, 5931.6ms\n",
      "Speed: 15.0ms preprocess, 5931.6ms inference, 211.0ms postprocess per image at shape (1, 3, 2048, 2048)\n"
     ]
    },
    {
     "name": "stderr",
     "output_type": "stream",
     "text": [
      "35it [04:05,  6.72s/it]"
     ]
    },
    {
     "name": "stdout",
     "output_type": "stream",
     "text": [
      "\n",
      "image 1/1 E:\\4\\data\\data\\test\\DCM\\ID143\\image1662341889065.png: 2048x2048 1 finger-1, 1 finger-2, 1 finger-3, 1 finger-4, 1 finger-5, 1 finger-6, 1 finger-7, 1 finger-8, 1 finger-9, 1 finger-10, 1 finger-11, 1 finger-12, 1 finger-13, 1 finger-14, 1 finger-15, 1 finger-16, 1 finger-17, 1 finger-18, 1 finger-19, 1 Trapezium, 1 Trapezoid, 1 Capitate, 1 Hamate, 1 Scaphoid, 1 Lunate, 1 Triquetrum, 2 Pisiforms, 1 Radius, 1 Ulna, 5701.5ms\n",
      "Speed: 15.0ms preprocess, 5701.5ms inference, 219.7ms postprocess per image at shape (1, 3, 2048, 2048)\n"
     ]
    },
    {
     "name": "stderr",
     "output_type": "stream",
     "text": [
      "36it [04:11,  6.68s/it]"
     ]
    },
    {
     "name": "stdout",
     "output_type": "stream",
     "text": [
      "\n",
      "image 1/1 E:\\4\\data\\data\\test\\DCM\\ID144\\image1662342205281.png: 2048x2048 1 finger-1, 1 finger-2, 1 finger-3, 1 finger-4, 1 finger-5, 1 finger-6, 1 finger-7, 1 finger-8, 1 finger-9, 1 finger-10, 1 finger-11, 1 finger-12, 1 finger-13, 1 finger-14, 1 finger-15, 1 finger-16, 1 finger-17, 1 finger-18, 1 finger-19, 1 Trapezium, 1 Trapezoid, 1 Capitate, 1 Hamate, 1 Scaphoid, 1 Lunate, 1 Triquetrum, 1 Pisiform, 1 Radius, 1 Ulna, 5620.8ms\n",
      "Speed: 17.0ms preprocess, 5620.8ms inference, 207.2ms postprocess per image at shape (1, 3, 2048, 2048)\n"
     ]
    },
    {
     "name": "stderr",
     "output_type": "stream",
     "text": [
      "37it [04:18,  6.64s/it]"
     ]
    },
    {
     "name": "stdout",
     "output_type": "stream",
     "text": [
      "\n",
      "image 1/1 E:\\4\\data\\data\\test\\DCM\\ID144\\image1662342232684.png: 2048x2048 1 finger-1, 1 finger-2, 1 finger-3, 1 finger-4, 1 finger-5, 1 finger-6, 1 finger-7, 1 finger-8, 1 finger-9, 1 finger-10, 1 finger-11, 1 finger-12, 1 finger-13, 1 finger-14, 1 finger-15, 1 finger-16, 1 finger-17, 1 finger-18, 1 finger-19, 1 Trapezium, 1 Trapezoid, 1 Capitate, 1 Hamate, 1 Scaphoid, 1 Lunate, 1 Triquetrum, 1 Pisiform, 1 Radius, 1 Ulna, 5975.0ms\n",
      "Speed: 68.6ms preprocess, 5975.0ms inference, 335.0ms postprocess per image at shape (1, 3, 2048, 2048)\n"
     ]
    },
    {
     "name": "stderr",
     "output_type": "stream",
     "text": [
      "38it [04:25,  6.83s/it]"
     ]
    },
    {
     "name": "stdout",
     "output_type": "stream",
     "text": [
      "\n",
      "image 1/1 E:\\4\\data\\data\\test\\DCM\\ID145\\image1662342284287.png: 2048x2048 1 finger-1, 1 finger-2, 1 finger-3, 1 finger-4, 1 finger-5, 1 finger-6, 1 finger-7, 1 finger-8, 1 finger-9, 1 finger-10, 1 finger-11, 1 finger-12, 1 finger-13, 1 finger-14, 1 finger-15, 1 finger-16, 1 finger-17, 1 finger-18, 1 finger-19, 1 Trapezium, 1 Trapezoid, 1 Capitate, 1 Hamate, 1 Scaphoid, 1 Lunate, 1 Triquetrum, 1 Pisiform, 1 Radius, 1 Ulna, 5897.4ms\n",
      "Speed: 18.0ms preprocess, 5897.4ms inference, 218.0ms postprocess per image at shape (1, 3, 2048, 2048)\n"
     ]
    },
    {
     "name": "stderr",
     "output_type": "stream",
     "text": [
      "39it [04:32,  6.83s/it]"
     ]
    },
    {
     "name": "stdout",
     "output_type": "stream",
     "text": [
      "\n",
      "image 1/1 E:\\4\\data\\data\\test\\DCM\\ID145\\image1662342311850.png: 2048x2048 1 finger-1, 1 finger-2, 1 finger-3, 1 finger-4, 1 finger-5, 1 finger-6, 1 finger-7, 1 finger-8, 1 finger-9, 1 finger-10, 1 finger-11, 1 finger-12, 1 finger-13, 1 finger-14, 1 finger-15, 1 finger-16, 1 finger-17, 1 finger-18, 1 finger-19, 1 Trapezium, 1 Trapezoid, 1 Capitate, 1 Hamate, 1 Scaphoid, 1 Lunate, 1 Triquetrum, 1 Pisiform, 1 Radius, 1 Ulna, 6134.6ms\n",
      "Speed: 14.0ms preprocess, 6134.6ms inference, 210.0ms postprocess per image at shape (1, 3, 2048, 2048)\n"
     ]
    },
    {
     "name": "stderr",
     "output_type": "stream",
     "text": [
      "40it [04:39,  6.89s/it]"
     ]
    },
    {
     "name": "stdout",
     "output_type": "stream",
     "text": [
      "\n",
      "image 1/1 E:\\4\\data\\data\\test\\DCM\\ID146\\image1662342369059.png: 2048x2048 1 finger-1, 1 finger-2, 1 finger-3, 1 finger-4, 1 finger-5, 1 finger-6, 1 finger-7, 1 finger-8, 1 finger-9, 1 finger-10, 1 finger-11, 1 finger-12, 1 finger-13, 1 finger-14, 1 finger-15, 1 finger-16, 1 finger-17, 1 finger-18, 1 finger-19, 1 Trapezium, 1 Trapezoid, 1 Capitate, 1 Hamate, 1 Scaphoid, 1 Lunate, 1 Triquetrum, 1 Pisiform, 1 Radius, 1 Ulna, 6295.0ms\n",
      "Speed: 17.0ms preprocess, 6295.0ms inference, 214.1ms postprocess per image at shape (1, 3, 2048, 2048)\n"
     ]
    },
    {
     "name": "stderr",
     "output_type": "stream",
     "text": [
      "41it [04:46,  6.98s/it]"
     ]
    },
    {
     "name": "stdout",
     "output_type": "stream",
     "text": [
      "\n",
      "image 1/1 E:\\4\\data\\data\\test\\DCM\\ID146\\image1662342396399.png: 2048x2048 1 finger-1, 1 finger-2, 1 finger-3, 1 finger-4, 1 finger-5, 1 finger-6, 1 finger-7, 1 finger-8, 1 finger-9, 1 finger-10, 1 finger-11, 1 finger-12, 1 finger-13, 1 finger-14, 1 finger-15, 1 finger-16, 1 finger-17, 1 finger-18, 1 finger-19, 1 Trapezium, 1 Trapezoid, 1 Capitate, 1 Hamate, 1 Scaphoid, 1 Lunate, 1 Triquetrum, 1 Pisiform, 1 Radius, 1 Ulna, 5763.3ms\n",
      "Speed: 14.0ms preprocess, 5763.3ms inference, 215.9ms postprocess per image at shape (1, 3, 2048, 2048)\n"
     ]
    },
    {
     "name": "stderr",
     "output_type": "stream",
     "text": [
      "42it [04:53,  6.89s/it]"
     ]
    },
    {
     "name": "stdout",
     "output_type": "stream",
     "text": [
      "\n",
      "image 1/1 E:\\4\\data\\data\\test\\DCM\\ID147\\image1662342486105.png: 2048x2048 1 finger-1, 1 finger-2, 1 finger-3, 1 finger-4, 1 finger-5, 1 finger-6, 1 finger-7, 1 finger-8, 1 finger-9, 1 finger-10, 1 finger-11, 1 finger-12, 1 finger-13, 1 finger-14, 1 finger-15, 1 finger-16, 1 finger-17, 1 finger-18, 1 finger-19, 1 Trapezium, 1 Trapezoid, 1 Capitate, 1 Hamate, 1 Scaphoid, 1 Lunate, 1 Triquetrum, 1 Pisiform, 1 Radius, 1 Ulna, 5764.6ms\n",
      "Speed: 15.0ms preprocess, 5764.6ms inference, 207.0ms postprocess per image at shape (1, 3, 2048, 2048)\n"
     ]
    },
    {
     "name": "stderr",
     "output_type": "stream",
     "text": [
      "43it [04:59,  6.82s/it]"
     ]
    },
    {
     "name": "stdout",
     "output_type": "stream",
     "text": [
      "\n",
      "image 1/1 E:\\4\\data\\data\\test\\DCM\\ID147\\image1662342504123.png: 2048x2048 1 finger-1, 1 finger-2, 1 finger-3, 1 finger-4, 1 finger-5, 1 finger-6, 1 finger-7, 1 finger-8, 1 finger-9, 1 finger-10, 1 finger-11, 1 finger-12, 1 finger-13, 1 finger-14, 1 finger-15, 1 finger-16, 1 finger-17, 1 finger-18, 1 finger-19, 1 Trapezium, 1 Trapezoid, 1 Capitate, 1 Hamate, 1 Scaphoid, 1 Lunate, 1 Triquetrum, 1 Pisiform, 1 Radius, 1 Ulna, 6554.7ms\n",
      "Speed: 16.0ms preprocess, 6554.7ms inference, 248.1ms postprocess per image at shape (1, 3, 2048, 2048)\n"
     ]
    },
    {
     "name": "stderr",
     "output_type": "stream",
     "text": [
      "44it [05:07,  7.04s/it]"
     ]
    },
    {
     "name": "stdout",
     "output_type": "stream",
     "text": [
      "\n",
      "image 1/1 E:\\4\\data\\data\\test\\DCM\\ID148\\image1662342557856.png: 2048x2048 1 finger-1, 1 finger-2, 1 finger-3, 1 finger-4, 1 finger-5, 1 finger-6, 1 finger-7, 1 finger-8, 1 finger-9, 1 finger-10, 1 finger-11, 1 finger-12, 1 finger-13, 1 finger-14, 1 finger-15, 1 finger-16, 1 finger-17, 1 finger-18, 1 finger-19, 1 Trapezium, 1 Trapezoid, 1 Capitate, 1 Hamate, 1 Scaphoid, 1 Lunate, 1 Triquetrum, 1 Pisiform, 1 Radius, 1 Ulna, 5946.7ms\n",
      "Speed: 16.0ms preprocess, 5946.7ms inference, 223.0ms postprocess per image at shape (1, 3, 2048, 2048)\n"
     ]
    },
    {
     "name": "stderr",
     "output_type": "stream",
     "text": [
      "45it [05:14,  6.98s/it]"
     ]
    },
    {
     "name": "stdout",
     "output_type": "stream",
     "text": [
      "\n",
      "image 1/1 E:\\4\\data\\data\\test\\DCM\\ID148\\image1662342597802.png: 2048x2048 1 finger-1, 1 finger-2, 1 finger-3, 1 finger-4, 1 finger-5, 1 finger-6, 1 finger-7, 1 finger-8, 1 finger-9, 1 finger-10, 1 finger-11, 1 finger-12, 1 finger-13, 1 finger-14, 1 finger-15, 1 finger-16, 1 finger-17, 1 finger-18, 1 finger-19, 1 Trapezium, 1 Trapezoid, 1 Capitate, 1 Hamate, 1 Scaphoid, 1 Lunate, 1 Triquetrum, 1 Pisiform, 1 Radius, 1 Ulna, 5781.5ms\n",
      "Speed: 16.0ms preprocess, 5781.5ms inference, 220.0ms postprocess per image at shape (1, 3, 2048, 2048)\n"
     ]
    },
    {
     "name": "stderr",
     "output_type": "stream",
     "text": [
      "46it [05:21,  6.89s/it]"
     ]
    },
    {
     "name": "stdout",
     "output_type": "stream",
     "text": [
      "\n",
      "image 1/1 E:\\4\\data\\data\\test\\DCM\\ID150\\image1662342787622.png: 2048x2048 1 finger-1, 1 finger-2, 1 finger-3, 1 finger-4, 1 finger-5, 1 finger-6, 1 finger-7, 1 finger-8, 1 finger-9, 1 finger-10, 1 finger-11, 1 finger-12, 1 finger-13, 1 finger-14, 1 finger-15, 1 finger-16, 1 finger-17, 1 finger-18, 1 finger-19, 1 Trapezium, 1 Trapezoid, 1 Capitate, 1 Hamate, 1 Scaphoid, 1 Lunate, 1 Triquetrum, 1 Pisiform, 1 Radius, 1 Ulna, 5888.0ms\n",
      "Speed: 40.0ms preprocess, 5888.0ms inference, 213.0ms postprocess per image at shape (1, 3, 2048, 2048)\n"
     ]
    },
    {
     "name": "stderr",
     "output_type": "stream",
     "text": [
      "47it [05:27,  6.86s/it]"
     ]
    },
    {
     "name": "stdout",
     "output_type": "stream",
     "text": [
      "\n",
      "image 1/1 E:\\4\\data\\data\\test\\DCM\\ID150\\image1662342803512.png: 2048x2048 1 finger-1, 1 finger-2, 1 finger-3, 1 finger-4, 1 finger-5, 1 finger-6, 1 finger-7, 1 finger-8, 1 finger-9, 1 finger-10, 1 finger-11, 1 finger-12, 1 finger-13, 1 finger-14, 1 finger-15, 1 finger-16, 1 finger-17, 1 finger-18, 1 finger-19, 1 Trapezium, 1 Trapezoid, 1 Capitate, 1 Hamate, 1 Scaphoid, 1 Lunate, 1 Triquetrum, 1 Pisiform, 1 Radius, 1 Ulna, 5737.9ms\n",
      "Speed: 15.0ms preprocess, 5737.9ms inference, 223.0ms postprocess per image at shape (1, 3, 2048, 2048)\n"
     ]
    },
    {
     "name": "stderr",
     "output_type": "stream",
     "text": [
      "48it [05:34,  6.80s/it]"
     ]
    },
    {
     "name": "stdout",
     "output_type": "stream",
     "text": [
      "\n",
      "image 1/1 E:\\4\\data\\data\\test\\DCM\\ID151\\image1662342855916.png: 2048x2048 1 finger-1, 1 finger-2, 1 finger-3, 1 finger-4, 1 finger-5, 1 finger-6, 1 finger-7, 1 finger-8, 1 finger-9, 1 finger-10, 1 finger-11, 1 finger-12, 1 finger-13, 1 finger-14, 1 finger-15, 1 finger-16, 1 finger-17, 1 finger-18, 1 finger-19, 1 Trapezium, 1 Trapezoid, 1 Capitate, 1 Hamate, 1 Scaphoid, 1 Lunate, 1 Triquetrum, 1 Pisiform, 1 Radius, 1 Ulna, 5692.2ms\n",
      "Speed: 15.0ms preprocess, 5692.2ms inference, 208.0ms postprocess per image at shape (1, 3, 2048, 2048)\n"
     ]
    },
    {
     "name": "stderr",
     "output_type": "stream",
     "text": [
      "49it [05:41,  6.74s/it]"
     ]
    },
    {
     "name": "stdout",
     "output_type": "stream",
     "text": [
      "\n",
      "image 1/1 E:\\4\\data\\data\\test\\DCM\\ID151\\image1662342883637.png: 2048x2048 1 finger-1, 1 finger-2, 1 finger-3, 1 finger-4, 1 finger-5, 1 finger-6, 1 finger-7, 1 finger-8, 1 finger-9, 1 finger-10, 1 finger-11, 1 finger-12, 1 finger-13, 1 finger-14, 1 finger-15, 1 finger-16, 1 finger-17, 1 finger-18, 1 finger-19, 1 Trapezium, 1 Trapezoid, 1 Capitate, 1 Hamate, 1 Scaphoid, 1 Lunate, 1 Triquetrum, 1 Pisiform, 1 Radius, 1 Ulna, 5762.0ms\n",
      "Speed: 14.0ms preprocess, 5762.0ms inference, 209.0ms postprocess per image at shape (1, 3, 2048, 2048)\n"
     ]
    },
    {
     "name": "stderr",
     "output_type": "stream",
     "text": [
      "50it [05:47,  6.71s/it]"
     ]
    },
    {
     "name": "stdout",
     "output_type": "stream",
     "text": [
      "\n",
      "image 1/1 E:\\4\\data\\data\\test\\DCM\\ID152\\image1662342925774.png: 2048x2048 1 finger-1, 1 finger-2, 1 finger-3, 1 finger-4, 1 finger-5, 1 finger-6, 1 finger-7, 1 finger-8, 1 finger-9, 1 finger-10, 1 finger-11, 1 finger-12, 1 finger-13, 1 finger-14, 1 finger-15, 1 finger-16, 1 finger-17, 1 finger-18, 1 finger-19, 1 Trapezium, 1 Trapezoid, 1 Capitate, 1 Hamate, 1 Scaphoid, 1 Lunate, 1 Triquetrum, 1 Pisiform, 1 Radius, 1 Ulna, 5712.9ms\n",
      "Speed: 14.0ms preprocess, 5712.9ms inference, 210.1ms postprocess per image at shape (1, 3, 2048, 2048)\n"
     ]
    },
    {
     "name": "stderr",
     "output_type": "stream",
     "text": [
      "51it [05:54,  6.69s/it]"
     ]
    },
    {
     "name": "stdout",
     "output_type": "stream",
     "text": [
      "\n",
      "image 1/1 E:\\4\\data\\data\\test\\DCM\\ID152\\image1662342952534.png: 2048x2048 1 finger-1, 1 finger-2, 1 finger-3, 1 finger-4, 1 finger-5, 1 finger-6, 1 finger-7, 1 finger-8, 1 finger-9, 1 finger-10, 1 finger-11, 1 finger-12, 1 finger-13, 1 finger-14, 1 finger-15, 1 finger-16, 1 finger-17, 1 finger-18, 1 finger-19, 1 Trapezium, 1 Trapezoid, 1 Capitate, 1 Hamate, 1 Scaphoid, 1 Lunate, 1 Triquetrum, 1 Pisiform, 1 Radius, 1 Ulna, 5766.3ms\n",
      "Speed: 12.9ms preprocess, 5766.3ms inference, 221.0ms postprocess per image at shape (1, 3, 2048, 2048)\n"
     ]
    },
    {
     "name": "stderr",
     "output_type": "stream",
     "text": [
      "52it [06:01,  6.68s/it]"
     ]
    },
    {
     "name": "stdout",
     "output_type": "stream",
     "text": [
      "\n",
      "image 1/1 E:\\4\\data\\data\\test\\DCM\\ID153\\image1662343006466.png: 2048x2048 1 finger-1, 1 finger-2, 1 finger-3, 1 finger-4, 1 finger-5, 1 finger-6, 1 finger-7, 1 finger-8, 1 finger-9, 1 finger-10, 1 finger-11, 1 finger-12, 1 finger-13, 1 finger-14, 1 finger-15, 1 finger-16, 1 finger-17, 1 finger-18, 1 finger-19, 1 Trapezium, 1 Trapezoid, 1 Capitate, 1 Hamate, 1 Scaphoid, 1 Lunate, 1 Triquetrum, 1 Pisiform, 1 Radius, 1 Ulna, 5770.6ms\n",
      "Speed: 13.0ms preprocess, 5770.6ms inference, 211.0ms postprocess per image at shape (1, 3, 2048, 2048)\n"
     ]
    },
    {
     "name": "stderr",
     "output_type": "stream",
     "text": [
      "53it [06:07,  6.68s/it]"
     ]
    },
    {
     "name": "stdout",
     "output_type": "stream",
     "text": [
      "\n",
      "image 1/1 E:\\4\\data\\data\\test\\DCM\\ID153\\image1662343045337.png: 2048x2048 1 finger-1, 1 finger-2, 1 finger-3, 1 finger-4, 1 finger-5, 1 finger-6, 1 finger-7, 1 finger-8, 1 finger-9, 1 finger-10, 1 finger-11, 1 finger-12, 1 finger-13, 1 finger-14, 1 finger-15, 1 finger-16, 1 finger-17, 1 finger-18, 1 finger-19, 1 Trapezium, 1 Trapezoid, 1 Capitate, 1 Hamate, 1 Scaphoid, 1 Lunate, 1 Triquetrum, 1 Pisiform, 1 Radius, 1 Ulna, 5795.0ms\n",
      "Speed: 13.0ms preprocess, 5795.0ms inference, 210.0ms postprocess per image at shape (1, 3, 2048, 2048)\n"
     ]
    },
    {
     "name": "stderr",
     "output_type": "stream",
     "text": [
      "54it [06:14,  6.67s/it]"
     ]
    },
    {
     "name": "stdout",
     "output_type": "stream",
     "text": [
      "\n",
      "image 1/1 E:\\4\\data\\data\\test\\DCM\\ID154\\image1662343161641.png: 2048x2048 1 finger-1, 1 finger-2, 1 finger-3, 1 finger-4, 1 finger-5, 1 finger-6, 1 finger-7, 1 finger-8, 1 finger-9, 1 finger-10, 1 finger-11, 1 finger-12, 1 finger-13, 1 finger-14, 1 finger-15, 1 finger-16, 1 finger-17, 1 finger-18, 1 finger-19, 1 Trapezium, 1 Trapezoid, 1 Capitate, 1 Hamate, 1 Scaphoid, 1 Lunate, 1 Triquetrum, 1 Pisiform, 1 Radius, 1 Ulna, 5774.0ms\n",
      "Speed: 14.0ms preprocess, 5774.0ms inference, 216.0ms postprocess per image at shape (1, 3, 2048, 2048)\n"
     ]
    },
    {
     "name": "stderr",
     "output_type": "stream",
     "text": [
      "55it [06:21,  6.68s/it]"
     ]
    },
    {
     "name": "stdout",
     "output_type": "stream",
     "text": [
      "\n",
      "image 1/1 E:\\4\\data\\data\\test\\DCM\\ID154\\image1662343190033.png: 2048x2048 1 finger-1, 1 finger-2, 1 finger-3, 1 finger-4, 1 finger-5, 1 finger-6, 1 finger-7, 1 finger-8, 1 finger-9, 1 finger-10, 1 finger-11, 1 finger-12, 1 finger-13, 1 finger-14, 1 finger-15, 1 finger-16, 1 finger-17, 1 finger-18, 1 finger-19, 1 Trapezium, 1 Trapezoid, 1 Capitate, 1 Hamate, 1 Scaphoid, 1 Lunate, 1 Triquetrum, 1 Pisiform, 1 Radius, 1 Ulna, 5792.9ms\n",
      "Speed: 13.0ms preprocess, 5792.9ms inference, 212.0ms postprocess per image at shape (1, 3, 2048, 2048)\n"
     ]
    },
    {
     "name": "stderr",
     "output_type": "stream",
     "text": [
      "56it [06:27,  6.69s/it]"
     ]
    },
    {
     "name": "stdout",
     "output_type": "stream",
     "text": [
      "\n",
      "image 1/1 E:\\4\\data\\data\\test\\DCM\\ID155\\image1662343340009.png: 2048x2048 1 finger-1, 1 finger-2, 1 finger-3, 1 finger-4, 1 finger-5, 1 finger-6, 1 finger-7, 1 finger-8, 1 finger-9, 1 finger-10, 1 finger-11, 1 finger-12, 1 finger-13, 1 finger-14, 1 finger-15, 1 finger-16, 1 finger-17, 1 finger-18, 1 finger-19, 1 Trapezium, 1 Trapezoid, 1 Capitate, 1 Hamate, 1 Scaphoid, 1 Lunate, 1 Triquetrum, 1 Pisiform, 1 Radius, 1 Ulna, 5680.1ms\n",
      "Speed: 15.0ms preprocess, 5680.1ms inference, 210.0ms postprocess per image at shape (1, 3, 2048, 2048)\n"
     ]
    },
    {
     "name": "stderr",
     "output_type": "stream",
     "text": [
      "57it [06:34,  6.65s/it]"
     ]
    },
    {
     "name": "stdout",
     "output_type": "stream",
     "text": [
      "\n",
      "image 1/1 E:\\4\\data\\data\\test\\DCM\\ID155\\image1662343358428.png: 2048x2048 1 finger-1, 1 finger-2, 1 finger-3, 1 finger-4, 1 finger-5, 1 finger-6, 1 finger-7, 1 finger-8, 1 finger-9, 1 finger-10, 1 finger-11, 1 finger-12, 1 finger-13, 1 finger-14, 1 finger-15, 1 finger-16, 1 finger-17, 1 finger-18, 1 finger-19, 1 Trapezium, 1 Trapezoid, 1 Capitate, 1 Hamate, 1 Scaphoid, 1 Lunate, 1 Triquetrum, 1 Pisiform, 1 Radius, 1 Ulna, 5710.0ms\n",
      "Speed: 15.0ms preprocess, 5710.0ms inference, 207.0ms postprocess per image at shape (1, 3, 2048, 2048)\n"
     ]
    },
    {
     "name": "stderr",
     "output_type": "stream",
     "text": [
      "58it [06:40,  6.64s/it]"
     ]
    },
    {
     "name": "stdout",
     "output_type": "stream",
     "text": [
      "\n",
      "image 1/1 E:\\4\\data\\data\\test\\DCM\\ID156\\image1662344039446.png: 2048x2048 1 finger-1, 1 finger-2, 1 finger-3, 1 finger-4, 1 finger-5, 1 finger-6, 1 finger-7, 1 finger-8, 1 finger-9, 1 finger-10, 1 finger-11, 1 finger-12, 1 finger-13, 1 finger-14, 1 finger-15, 1 finger-16, 1 finger-17, 1 finger-18, 1 finger-19, 1 Trapezium, 1 Trapezoid, 1 Capitate, 1 Hamate, 1 Scaphoid, 1 Lunate, 1 Triquetrum, 1 Pisiform, 1 Radius, 1 Ulna, 5773.1ms\n",
      "Speed: 16.0ms preprocess, 5773.1ms inference, 211.0ms postprocess per image at shape (1, 3, 2048, 2048)\n"
     ]
    },
    {
     "name": "stderr",
     "output_type": "stream",
     "text": [
      "59it [06:47,  6.64s/it]"
     ]
    },
    {
     "name": "stdout",
     "output_type": "stream",
     "text": [
      "\n",
      "image 1/1 E:\\4\\data\\data\\test\\DCM\\ID156\\image1662344065321.png: 2048x2048 1 finger-1, 1 finger-2, 1 finger-3, 1 finger-4, 1 finger-5, 1 finger-6, 1 finger-7, 1 finger-8, 1 finger-9, 1 finger-10, 1 finger-11, 1 finger-12, 1 finger-13, 1 finger-14, 1 finger-15, 1 finger-16, 1 finger-17, 1 finger-18, 1 finger-19, 1 Trapezium, 1 Trapezoid, 1 Capitate, 1 Hamate, 1 Scaphoid, 1 Lunate, 1 Triquetrum, 1 Pisiform, 1 Radius, 1 Ulna, 5762.0ms\n",
      "Speed: 14.0ms preprocess, 5762.0ms inference, 204.9ms postprocess per image at shape (1, 3, 2048, 2048)\n"
     ]
    },
    {
     "name": "stderr",
     "output_type": "stream",
     "text": [
      "60it [06:54,  6.64s/it]"
     ]
    },
    {
     "name": "stdout",
     "output_type": "stream",
     "text": [
      "\n",
      "image 1/1 E:\\4\\data\\data\\test\\DCM\\ID157\\image1662344117299.png: 2048x2048 1 finger-1, 1 finger-2, 1 finger-3, 1 finger-4, 1 finger-5, 1 finger-6, 1 finger-7, 1 finger-8, 1 finger-9, 1 finger-10, 1 finger-11, 1 finger-12, 1 finger-13, 1 finger-14, 1 finger-15, 1 finger-16, 1 finger-17, 1 finger-18, 1 finger-19, 1 Trapezium, 1 Trapezoid, 1 Capitate, 1 Hamate, 1 Scaphoid, 1 Lunate, 1 Triquetrum, 1 Pisiform, 1 Radius, 1 Ulna, 5726.8ms\n",
      "Speed: 14.0ms preprocess, 5726.8ms inference, 207.0ms postprocess per image at shape (1, 3, 2048, 2048)\n"
     ]
    },
    {
     "name": "stderr",
     "output_type": "stream",
     "text": [
      "61it [07:00,  6.63s/it]"
     ]
    },
    {
     "name": "stdout",
     "output_type": "stream",
     "text": [
      "\n",
      "image 1/1 E:\\4\\data\\data\\test\\DCM\\ID157\\image1662344133744.png: 2048x2048 1 finger-1, 1 finger-2, 1 finger-3, 1 finger-4, 1 finger-5, 1 finger-6, 1 finger-7, 1 finger-8, 1 finger-9, 1 finger-10, 1 finger-11, 1 finger-12, 1 finger-13, 1 finger-14, 1 finger-15, 1 finger-16, 1 finger-17, 1 finger-18, 1 finger-19, 1 Trapezium, 1 Trapezoid, 1 Capitate, 1 Hamate, 1 Scaphoid, 1 Lunate, 1 Triquetrum, 1 Pisiform, 1 Radius, 1 Ulna, 5763.6ms\n",
      "Speed: 16.0ms preprocess, 5763.6ms inference, 211.0ms postprocess per image at shape (1, 3, 2048, 2048)\n"
     ]
    },
    {
     "name": "stderr",
     "output_type": "stream",
     "text": [
      "62it [07:07,  6.63s/it]"
     ]
    },
    {
     "name": "stdout",
     "output_type": "stream",
     "text": [
      "\n",
      "image 1/1 E:\\4\\data\\data\\test\\DCM\\ID158\\image1662347647599.png: 2048x2048 1 finger-1, 1 finger-2, 1 finger-3, 1 finger-4, 1 finger-5, 1 finger-6, 1 finger-7, 1 finger-8, 1 finger-9, 1 finger-10, 1 finger-11, 1 finger-12, 1 finger-13, 1 finger-14, 1 finger-15, 1 finger-16, 1 finger-17, 1 finger-18, 1 finger-19, 1 Trapezium, 1 Trapezoid, 1 Capitate, 1 Hamate, 1 Scaphoid, 1 Lunate, 1 Triquetrum, 1 Pisiform, 1 Radius, 1 Ulna, 5763.5ms\n",
      "Speed: 14.0ms preprocess, 5763.5ms inference, 216.9ms postprocess per image at shape (1, 3, 2048, 2048)\n"
     ]
    },
    {
     "name": "stderr",
     "output_type": "stream",
     "text": [
      "63it [07:14,  6.64s/it]"
     ]
    },
    {
     "name": "stdout",
     "output_type": "stream",
     "text": [
      "\n",
      "image 1/1 E:\\4\\data\\data\\test\\DCM\\ID158\\image1662347684401.png: 2048x2048 1 finger-1, 1 finger-2, 1 finger-3, 1 finger-4, 1 finger-5, 1 finger-6, 1 finger-7, 1 finger-8, 1 finger-9, 1 finger-10, 1 finger-11, 1 finger-12, 1 finger-13, 1 finger-14, 1 finger-15, 1 finger-16, 1 finger-17, 1 finger-18, 1 finger-19, 1 Trapezium, 1 Trapezoid, 1 Capitate, 1 Hamate, 1 Scaphoid, 1 Lunate, 1 Triquetrum, 1 Pisiform, 1 Radius, 1 Ulna, 5778.0ms\n",
      "Speed: 14.0ms preprocess, 5778.0ms inference, 214.7ms postprocess per image at shape (1, 3, 2048, 2048)\n"
     ]
    },
    {
     "name": "stderr",
     "output_type": "stream",
     "text": [
      "64it [07:20,  6.65s/it]"
     ]
    },
    {
     "name": "stdout",
     "output_type": "stream",
     "text": [
      "\n",
      "image 1/1 E:\\4\\data\\data\\test\\DCM\\ID159\\image1662512730066.png: 2048x2048 1 finger-1, 1 finger-2, 1 finger-3, 1 finger-4, 1 finger-5, 1 finger-6, 1 finger-7, 1 finger-8, 1 finger-9, 1 finger-10, 1 finger-11, 1 finger-12, 1 finger-13, 1 finger-14, 1 finger-15, 1 finger-16, 1 finger-17, 1 finger-18, 1 finger-19, 1 Trapezium, 1 Trapezoid, 1 Capitate, 1 Hamate, 1 Scaphoid, 1 Lunate, 1 Triquetrum, 1 Pisiform, 1 Radius, 1 Ulna, 5779.3ms\n",
      "Speed: 16.0ms preprocess, 5779.3ms inference, 214.0ms postprocess per image at shape (1, 3, 2048, 2048)\n"
     ]
    },
    {
     "name": "stderr",
     "output_type": "stream",
     "text": [
      "65it [07:27,  6.66s/it]"
     ]
    },
    {
     "name": "stdout",
     "output_type": "stream",
     "text": [
      "\n",
      "image 1/1 E:\\4\\data\\data\\test\\DCM\\ID159\\image1662512750105.png: 2048x2048 1 finger-1, 1 finger-2, 1 finger-3, 1 finger-4, 1 finger-5, 1 finger-6, 1 finger-7, 1 finger-8, 1 finger-9, 1 finger-10, 1 finger-11, 1 finger-12, 1 finger-13, 1 finger-14, 1 finger-15, 1 finger-16, 1 finger-17, 1 finger-18, 1 finger-19, 1 Trapezium, 1 Trapezoid, 1 Capitate, 1 Hamate, 1 Scaphoid, 1 Lunate, 1 Triquetrum, 1 Pisiform, 1 Radius, 1 Ulna, 5795.7ms\n",
      "Speed: 16.0ms preprocess, 5795.7ms inference, 217.0ms postprocess per image at shape (1, 3, 2048, 2048)\n"
     ]
    },
    {
     "name": "stderr",
     "output_type": "stream",
     "text": [
      "66it [07:34,  6.67s/it]"
     ]
    },
    {
     "name": "stdout",
     "output_type": "stream",
     "text": [
      "\n",
      "image 1/1 E:\\4\\data\\data\\test\\DCM\\ID160\\image1662512801013.png: 2048x2048 1 finger-1, 1 finger-2, 1 finger-3, 1 finger-4, 1 finger-5, 1 finger-6, 1 finger-7, 1 finger-8, 1 finger-9, 1 finger-10, 1 finger-11, 1 finger-12, 1 finger-13, 1 finger-14, 1 finger-15, 1 finger-16, 1 finger-17, 1 finger-18, 1 finger-19, 1 Trapezium, 1 Trapezoid, 1 Capitate, 1 Hamate, 1 Scaphoid, 1 Lunate, 1 Triquetrum, 2 Pisiforms, 1 Radius, 1 Ulna, 5759.8ms\n",
      "Speed: 14.0ms preprocess, 5759.8ms inference, 222.2ms postprocess per image at shape (1, 3, 2048, 2048)\n"
     ]
    },
    {
     "name": "stderr",
     "output_type": "stream",
     "text": [
      "67it [07:40,  6.67s/it]"
     ]
    },
    {
     "name": "stdout",
     "output_type": "stream",
     "text": [
      "\n",
      "image 1/1 E:\\4\\data\\data\\test\\DCM\\ID160\\image1662512817834.png: 2048x2048 1 finger-1, 1 finger-2, 1 finger-3, 1 finger-4, 1 finger-5, 1 finger-6, 1 finger-7, 1 finger-8, 1 finger-9, 1 finger-10, 1 finger-11, 1 finger-12, 1 finger-13, 1 finger-14, 1 finger-15, 1 finger-16, 1 finger-17, 1 finger-18, 1 finger-19, 1 Trapezium, 1 Trapezoid, 1 Capitate, 1 Hamate, 1 Scaphoid, 1 Lunate, 1 Triquetrum, 1 Radius, 1 Ulna, 5720.8ms\n",
      "Speed: 14.0ms preprocess, 5720.8ms inference, 12.0ms postprocess per image at shape (1, 3, 2048, 2048)\n"
     ]
    },
    {
     "name": "stderr",
     "output_type": "stream",
     "text": [
      "68it [07:47,  6.57s/it]"
     ]
    },
    {
     "name": "stdout",
     "output_type": "stream",
     "text": [
      "\n",
      "image 1/1 E:\\4\\data\\data\\test\\DCM\\ID161\\image1662512859960.png: 2048x2048 1 finger-1, 1 finger-2, 1 finger-3, 1 finger-4, 1 finger-5, 1 finger-6, 1 finger-7, 1 finger-8, 1 finger-9, 1 finger-10, 1 finger-11, 1 finger-12, 1 finger-13, 1 finger-14, 1 finger-15, 1 finger-16, 1 finger-17, 1 finger-18, 1 finger-19, 1 Trapezium, 1 Trapezoid, 1 Capitate, 1 Hamate, 1 Scaphoid, 1 Lunate, 1 Triquetrum, 1 Pisiform, 1 Radius, 1 Ulna, 7030.7ms\n",
      "Speed: 16.0ms preprocess, 7030.7ms inference, 221.0ms postprocess per image at shape (1, 3, 2048, 2048)\n"
     ]
    },
    {
     "name": "stderr",
     "output_type": "stream",
     "text": [
      "69it [07:55,  6.97s/it]"
     ]
    },
    {
     "name": "stdout",
     "output_type": "stream",
     "text": [
      "\n",
      "image 1/1 E:\\4\\data\\data\\test\\DCM\\ID161\\image1662512886928.png: 2048x2048 1 finger-1, 1 finger-2, 1 finger-3, 1 finger-4, 1 finger-5, 1 finger-6, 1 finger-7, 1 finger-8, 1 finger-9, 1 finger-10, 1 finger-11, 1 finger-12, 1 finger-13, 1 finger-14, 1 finger-15, 1 finger-16, 1 finger-17, 1 finger-18, 1 finger-19, 1 Trapezium, 1 Trapezoid, 1 Capitate, 1 Hamate, 1 Scaphoid, 1 Lunate, 1 Triquetrum, 1 Pisiform, 1 Radius, 1 Ulna, 5778.4ms\n",
      "Speed: 14.0ms preprocess, 5778.4ms inference, 211.1ms postprocess per image at shape (1, 3, 2048, 2048)\n"
     ]
    },
    {
     "name": "stderr",
     "output_type": "stream",
     "text": [
      "70it [08:01,  6.88s/it]"
     ]
    },
    {
     "name": "stdout",
     "output_type": "stream",
     "text": [
      "\n",
      "image 1/1 E:\\4\\data\\data\\test\\DCM\\ID162\\image1662512937750.png: 2048x2048 1 finger-1, 1 finger-2, 1 finger-3, 1 finger-4, 1 finger-5, 1 finger-6, 1 finger-7, 1 finger-8, 1 finger-9, 1 finger-10, 1 finger-11, 1 finger-12, 1 finger-13, 1 finger-14, 1 finger-15, 1 finger-16, 1 finger-17, 1 finger-18, 1 finger-19, 1 Trapezium, 1 Trapezoid, 1 Capitate, 1 Hamate, 1 Scaphoid, 1 Lunate, 1 Triquetrum, 1 Pisiform, 1 Radius, 1 Ulna, 5758.1ms\n",
      "Speed: 15.1ms preprocess, 5758.1ms inference, 220.0ms postprocess per image at shape (1, 3, 2048, 2048)\n"
     ]
    },
    {
     "name": "stderr",
     "output_type": "stream",
     "text": [
      "71it [08:08,  6.82s/it]"
     ]
    },
    {
     "name": "stdout",
     "output_type": "stream",
     "text": [
      "\n",
      "image 1/1 E:\\4\\data\\data\\test\\DCM\\ID162\\image1662512967586.png: 2048x2048 1 finger-1, 1 finger-2, 1 finger-3, 1 finger-4, 1 finger-5, 1 finger-6, 1 finger-7, 1 finger-8, 1 finger-9, 1 finger-10, 1 finger-11, 1 finger-12, 1 finger-13, 1 finger-14, 1 finger-15, 1 finger-16, 1 finger-17, 1 finger-18, 1 finger-19, 1 Trapezium, 1 Trapezoid, 1 Capitate, 1 Hamate, 1 Scaphoid, 1 Lunate, 1 Triquetrum, 1 Pisiform, 1 Radius, 1 Ulna, 5796.2ms\n",
      "Speed: 15.0ms preprocess, 5796.2ms inference, 224.1ms postprocess per image at shape (1, 3, 2048, 2048)\n"
     ]
    },
    {
     "name": "stderr",
     "output_type": "stream",
     "text": [
      "72it [08:15,  6.79s/it]"
     ]
    },
    {
     "name": "stdout",
     "output_type": "stream",
     "text": [
      "\n",
      "image 1/1 E:\\4\\data\\data\\test\\DCM\\ID163\\image1662513199334.png: 2048x2048 1 finger-1, 1 finger-2, 1 finger-3, 1 finger-4, 1 finger-5, 1 finger-6, 1 finger-7, 1 finger-8, 1 finger-9, 1 finger-10, 1 finger-11, 1 finger-12, 1 finger-13, 1 finger-14, 1 finger-15, 1 finger-16, 1 finger-17, 1 finger-18, 1 finger-19, 1 Trapezium, 1 Trapezoid, 1 Capitate, 1 Hamate, 1 Scaphoid, 1 Lunate, 1 Triquetrum, 1 Pisiform, 1 Radius, 1 Ulna, 5725.5ms\n",
      "Speed: 15.0ms preprocess, 5725.5ms inference, 213.9ms postprocess per image at shape (1, 3, 2048, 2048)\n"
     ]
    },
    {
     "name": "stderr",
     "output_type": "stream",
     "text": [
      "73it [08:21,  6.74s/it]"
     ]
    },
    {
     "name": "stdout",
     "output_type": "stream",
     "text": [
      "\n",
      "image 1/1 E:\\4\\data\\data\\test\\DCM\\ID163\\image1662513216199.png: 2048x2048 1 finger-1, 1 finger-2, 1 finger-3, 1 finger-4, 1 finger-5, 1 finger-6, 1 finger-7, 1 finger-8, 1 finger-9, 1 finger-10, 1 finger-11, 1 finger-12, 1 finger-13, 1 finger-14, 1 finger-15, 1 finger-16, 1 finger-17, 1 finger-18, 1 finger-19, 1 Trapezium, 1 Trapezoid, 1 Capitate, 1 Hamate, 1 Scaphoid, 1 Lunate, 1 Triquetrum, 1 Pisiform, 1 Radius, 1 Ulna, 5776.3ms\n",
      "Speed: 15.0ms preprocess, 5776.3ms inference, 212.0ms postprocess per image at shape (1, 3, 2048, 2048)\n"
     ]
    },
    {
     "name": "stderr",
     "output_type": "stream",
     "text": [
      "74it [08:28,  6.73s/it]"
     ]
    },
    {
     "name": "stdout",
     "output_type": "stream",
     "text": [
      "\n",
      "image 1/1 E:\\4\\data\\data\\test\\DCM\\ID164\\image1662513667368.png: 2048x2048 1 finger-1, 1 finger-2, 1 finger-3, 1 finger-4, 1 finger-5, 1 finger-6, 1 finger-7, 1 finger-8, 1 finger-9, 1 finger-10, 1 finger-11, 1 finger-12, 1 finger-13, 1 finger-14, 1 finger-15, 1 finger-16, 1 finger-17, 1 finger-18, 1 finger-19, 1 Trapezium, 1 Trapezoid, 1 Capitate, 1 Hamate, 1 Scaphoid, 1 Lunate, 1 Triquetrum, 1 Pisiform, 1 Radius, 1 Ulna, 5749.9ms\n",
      "Speed: 15.0ms preprocess, 5749.9ms inference, 212.0ms postprocess per image at shape (1, 3, 2048, 2048)\n"
     ]
    },
    {
     "name": "stderr",
     "output_type": "stream",
     "text": [
      "75it [08:35,  6.70s/it]"
     ]
    },
    {
     "name": "stdout",
     "output_type": "stream",
     "text": [
      "\n",
      "image 1/1 E:\\4\\data\\data\\test\\DCM\\ID164\\image1662513697452.png: 2048x2048 1 finger-1, 1 finger-2, 1 finger-3, 1 finger-4, 1 finger-5, 1 finger-6, 1 finger-7, 1 finger-8, 1 finger-9, 1 finger-10, 1 finger-11, 1 finger-12, 1 finger-13, 1 finger-14, 1 finger-15, 1 finger-16, 1 finger-17, 1 finger-18, 1 finger-19, 1 Trapezium, 1 Trapezoid, 1 Capitate, 1 Hamate, 1 Scaphoid, 1 Lunate, 1 Triquetrum, 1 Pisiform, 1 Radius, 1 Ulna, 5781.0ms\n",
      "Speed: 14.0ms preprocess, 5781.0ms inference, 218.0ms postprocess per image at shape (1, 3, 2048, 2048)\n"
     ]
    },
    {
     "name": "stderr",
     "output_type": "stream",
     "text": [
      "76it [08:41,  6.69s/it]"
     ]
    },
    {
     "name": "stdout",
     "output_type": "stream",
     "text": [
      "\n",
      "image 1/1 E:\\4\\data\\data\\test\\DCM\\ID165\\image1662513911258.png: 2048x2048 1 finger-1, 1 finger-2, 1 finger-3, 1 finger-4, 1 finger-5, 1 finger-6, 1 finger-7, 1 finger-8, 1 finger-9, 1 finger-10, 1 finger-11, 1 finger-12, 1 finger-13, 1 finger-14, 1 finger-15, 1 finger-16, 1 finger-17, 1 finger-18, 1 finger-19, 1 Trapezium, 1 Trapezoid, 1 Capitate, 1 Hamate, 1 Scaphoid, 1 Lunate, 1 Triquetrum, 1 Pisiform, 1 Radius, 1 Ulna, 5779.7ms\n",
      "Speed: 14.0ms preprocess, 5779.7ms inference, 213.1ms postprocess per image at shape (1, 3, 2048, 2048)\n"
     ]
    },
    {
     "name": "stderr",
     "output_type": "stream",
     "text": [
      "77it [08:48,  6.69s/it]"
     ]
    },
    {
     "name": "stdout",
     "output_type": "stream",
     "text": [
      "\n",
      "image 1/1 E:\\4\\data\\data\\test\\DCM\\ID165\\image1662513938885.png: 2048x2048 1 finger-1, 1 finger-2, 1 finger-3, 1 finger-4, 1 finger-5, 1 finger-6, 1 finger-7, 1 finger-8, 1 finger-9, 1 finger-10, 1 finger-11, 1 finger-12, 1 finger-13, 1 finger-14, 1 finger-15, 1 finger-16, 1 finger-17, 1 finger-18, 1 finger-19, 1 Trapezium, 1 Trapezoid, 1 Capitate, 1 Hamate, 1 Scaphoid, 1 Lunate, 1 Triquetrum, 1 Pisiform, 1 Radius, 1 Ulna, 5807.2ms\n",
      "Speed: 14.9ms preprocess, 5807.2ms inference, 225.1ms postprocess per image at shape (1, 3, 2048, 2048)\n"
     ]
    },
    {
     "name": "stderr",
     "output_type": "stream",
     "text": [
      "78it [08:55,  6.70s/it]"
     ]
    },
    {
     "name": "stdout",
     "output_type": "stream",
     "text": [
      "\n",
      "image 1/1 E:\\4\\data\\data\\test\\DCM\\ID166\\image1662513979006.png: 2048x2048 1 finger-1, 1 finger-2, 1 finger-3, 1 finger-4, 1 finger-5, 1 finger-6, 1 finger-7, 1 finger-8, 1 finger-9, 1 finger-10, 1 finger-11, 1 finger-12, 1 finger-13, 1 finger-14, 1 finger-15, 1 finger-16, 1 finger-17, 1 finger-18, 1 finger-19, 1 Trapezium, 1 Trapezoid, 1 Capitate, 1 Hamate, 1 Scaphoid, 1 Lunate, 1 Triquetrum, 1 Pisiform, 1 Radius, 1 Ulna, 5760.2ms\n",
      "Speed: 15.0ms preprocess, 5760.2ms inference, 218.0ms postprocess per image at shape (1, 3, 2048, 2048)\n"
     ]
    },
    {
     "name": "stderr",
     "output_type": "stream",
     "text": [
      "79it [09:01,  6.69s/it]"
     ]
    },
    {
     "name": "stdout",
     "output_type": "stream",
     "text": [
      "\n",
      "image 1/1 E:\\4\\data\\data\\test\\DCM\\ID166\\image1662514007054.png: 2048x2048 1 finger-1, 1 finger-2, 1 finger-3, 1 finger-4, 1 finger-5, 1 finger-6, 1 finger-7, 1 finger-8, 1 finger-9, 1 finger-10, 1 finger-11, 1 finger-12, 1 finger-13, 1 finger-14, 1 finger-15, 1 finger-16, 1 finger-17, 1 finger-18, 1 finger-19, 1 Trapezium, 1 Trapezoid, 1 Capitate, 1 Hamate, 1 Scaphoid, 1 Lunate, 1 Triquetrum, 1 Pisiform, 1 Radius, 1 Ulna, 5793.3ms\n",
      "Speed: 20.0ms preprocess, 5793.3ms inference, 213.0ms postprocess per image at shape (1, 3, 2048, 2048)\n"
     ]
    },
    {
     "name": "stderr",
     "output_type": "stream",
     "text": [
      "80it [09:08,  6.69s/it]"
     ]
    },
    {
     "name": "stdout",
     "output_type": "stream",
     "text": [
      "\n",
      "image 1/1 E:\\4\\data\\data\\test\\DCM\\ID167\\image1662514085478.png: 2048x2048 1 finger-1, 1 finger-2, 1 finger-3, 1 finger-4, 1 finger-5, 1 finger-6, 1 finger-7, 1 finger-8, 1 finger-9, 1 finger-10, 1 finger-11, 1 finger-12, 1 finger-13, 1 finger-14, 1 finger-15, 1 finger-16, 1 finger-17, 1 finger-18, 1 finger-19, 1 Trapezium, 1 Trapezoid, 1 Capitate, 1 Hamate, 1 Scaphoid, 1 Lunate, 1 Triquetrum, 1 Pisiform, 1 Radius, 1 Ulna, 5771.5ms\n",
      "Speed: 14.0ms preprocess, 5771.5ms inference, 216.0ms postprocess per image at shape (1, 3, 2048, 2048)\n"
     ]
    },
    {
     "name": "stderr",
     "output_type": "stream",
     "text": [
      "81it [09:15,  6.68s/it]"
     ]
    },
    {
     "name": "stdout",
     "output_type": "stream",
     "text": [
      "\n",
      "image 1/1 E:\\4\\data\\data\\test\\DCM\\ID167\\image1662514111809.png: 2048x2048 1 finger-1, 1 finger-2, 1 finger-3, 1 finger-4, 1 finger-5, 1 finger-6, 1 finger-7, 1 finger-8, 1 finger-9, 1 finger-10, 1 finger-11, 1 finger-12, 1 finger-13, 1 finger-14, 1 finger-15, 1 finger-16, 1 finger-17, 1 finger-18, 1 finger-19, 1 Trapezium, 1 Trapezoid, 1 Capitate, 1 Hamate, 1 Scaphoid, 1 Lunate, 1 Triquetrum, 1 Pisiform, 1 Radius, 1 Ulna, 5789.4ms\n",
      "Speed: 14.0ms preprocess, 5789.4ms inference, 215.0ms postprocess per image at shape (1, 3, 2048, 2048)\n"
     ]
    },
    {
     "name": "stderr",
     "output_type": "stream",
     "text": [
      "82it [09:21,  6.68s/it]"
     ]
    },
    {
     "name": "stdout",
     "output_type": "stream",
     "text": [
      "\n",
      "image 1/1 E:\\4\\data\\data\\test\\DCM\\ID168\\image1662514163925.png: 2048x2048 1 finger-1, 1 finger-2, 1 finger-3, 1 finger-4, 1 finger-5, 1 finger-6, 1 finger-7, 1 finger-8, 1 finger-9, 1 finger-10, 1 finger-11, 1 finger-12, 1 finger-13, 1 finger-14, 1 finger-15, 1 finger-16, 1 finger-17, 1 finger-18, 1 finger-19, 1 Trapezium, 1 Trapezoid, 1 Capitate, 1 Hamate, 1 Scaphoid, 1 Lunate, 1 Triquetrum, 1 Pisiform, 1 Radius, 1 Ulna, 5779.9ms\n",
      "Speed: 15.0ms preprocess, 5779.9ms inference, 224.0ms postprocess per image at shape (1, 3, 2048, 2048)\n"
     ]
    },
    {
     "name": "stderr",
     "output_type": "stream",
     "text": [
      "83it [09:28,  6.68s/it]"
     ]
    },
    {
     "name": "stdout",
     "output_type": "stream",
     "text": [
      "\n",
      "image 1/1 E:\\4\\data\\data\\test\\DCM\\ID168\\image1662514202560.png: 2048x2048 1 finger-1, 1 finger-2, 1 finger-3, 1 finger-4, 1 finger-5, 1 finger-6, 1 finger-7, 1 finger-8, 1 finger-9, 1 finger-10, 1 finger-11, 1 finger-12, 1 finger-13, 1 finger-14, 1 finger-15, 1 finger-16, 1 finger-17, 1 finger-18, 1 finger-19, 1 Trapezium, 1 Trapezoid, 1 Capitate, 1 Hamate, 1 Scaphoid, 1 Lunate, 1 Triquetrum, 1 Pisiform, 1 Radius, 1 Ulna, 5811.1ms\n",
      "Speed: 14.0ms preprocess, 5811.1ms inference, 222.0ms postprocess per image at shape (1, 3, 2048, 2048)\n"
     ]
    },
    {
     "name": "stderr",
     "output_type": "stream",
     "text": [
      "84it [09:35,  6.69s/it]"
     ]
    },
    {
     "name": "stdout",
     "output_type": "stream",
     "text": [
      "\n",
      "image 1/1 E:\\4\\data\\data\\test\\DCM\\ID169\\image1662514420730.png: 2048x2048 1 finger-1, 1 finger-2, 1 finger-3, 1 finger-4, 1 finger-5, 1 finger-6, 1 finger-7, 1 finger-8, 1 finger-9, 1 finger-10, 1 finger-11, 1 finger-12, 1 finger-13, 1 finger-14, 1 finger-15, 1 finger-16, 1 finger-17, 1 finger-18, 1 finger-19, 1 Trapezium, 1 Trapezoid, 1 Capitate, 1 Hamate, 1 Scaphoid, 1 Lunate, 1 Triquetrum, 1 Pisiform, 1 Radius, 1 Ulna, 5766.3ms\n",
      "Speed: 14.0ms preprocess, 5766.3ms inference, 215.0ms postprocess per image at shape (1, 3, 2048, 2048)\n"
     ]
    },
    {
     "name": "stderr",
     "output_type": "stream",
     "text": [
      "85it [09:41,  6.67s/it]"
     ]
    },
    {
     "name": "stdout",
     "output_type": "stream",
     "text": [
      "\n",
      "image 1/1 E:\\4\\data\\data\\test\\DCM\\ID169\\image1662514460692.png: 2048x2048 1 finger-1, 1 finger-2, 1 finger-3, 1 finger-4, 1 finger-5, 1 finger-6, 1 finger-7, 1 finger-8, 1 finger-9, 1 finger-10, 1 finger-11, 1 finger-12, 1 finger-13, 1 finger-14, 1 finger-15, 1 finger-16, 1 finger-17, 1 finger-18, 1 finger-19, 1 Trapezium, 1 Trapezoid, 1 Capitate, 1 Hamate, 1 Scaphoid, 1 Lunate, 1 Triquetrum, 1 Pisiform, 1 Radius, 1 Ulna, 5777.9ms\n",
      "Speed: 15.0ms preprocess, 5777.9ms inference, 225.0ms postprocess per image at shape (1, 3, 2048, 2048)\n"
     ]
    },
    {
     "name": "stderr",
     "output_type": "stream",
     "text": [
      "86it [09:48,  6.68s/it]"
     ]
    },
    {
     "name": "stdout",
     "output_type": "stream",
     "text": [
      "\n",
      "image 1/1 E:\\4\\data\\data\\test\\DCM\\ID170\\image1662514615500.png: 2048x2048 1 finger-1, 1 finger-2, 1 finger-3, 1 finger-4, 1 finger-5, 1 finger-6, 1 finger-7, 1 finger-8, 1 finger-9, 1 finger-10, 1 finger-11, 1 finger-12, 1 finger-13, 1 finger-14, 1 finger-15, 1 finger-16, 1 finger-17, 1 finger-18, 1 finger-19, 1 Trapezium, 1 Trapezoid, 1 Capitate, 1 Hamate, 1 Scaphoid, 1 Lunate, 1 Triquetrum, 1 Pisiform, 1 Radius, 1 Ulna, 5793.6ms\n",
      "Speed: 15.0ms preprocess, 5793.6ms inference, 216.0ms postprocess per image at shape (1, 3, 2048, 2048)\n"
     ]
    },
    {
     "name": "stderr",
     "output_type": "stream",
     "text": [
      "87it [09:55,  6.68s/it]"
     ]
    },
    {
     "name": "stdout",
     "output_type": "stream",
     "text": [
      "\n",
      "image 1/1 E:\\4\\data\\data\\test\\DCM\\ID170\\image1662514645874.png: 2048x2048 1 finger-1, 1 finger-2, 1 finger-3, 1 finger-4, 1 finger-5, 1 finger-6, 1 finger-7, 1 finger-8, 1 finger-9, 1 finger-10, 1 finger-11, 1 finger-12, 1 finger-13, 1 finger-14, 1 finger-15, 1 finger-16, 1 finger-17, 1 finger-18, 1 finger-19, 1 Trapezium, 1 Trapezoid, 1 Capitate, 1 Hamate, 1 Scaphoid, 1 Lunate, 1 Triquetrum, 1 Pisiform, 1 Radius, 1 Ulna, 5812.9ms\n",
      "Speed: 14.0ms preprocess, 5812.9ms inference, 222.0ms postprocess per image at shape (1, 3, 2048, 2048)\n"
     ]
    },
    {
     "name": "stderr",
     "output_type": "stream",
     "text": [
      "88it [10:01,  6.69s/it]"
     ]
    },
    {
     "name": "stdout",
     "output_type": "stream",
     "text": [
      "\n",
      "image 1/1 E:\\4\\data\\data\\test\\DCM\\ID171\\image1662514709715.png: 2048x2048 1 finger-1, 1 finger-2, 1 finger-3, 1 finger-4, 1 finger-5, 1 finger-6, 1 finger-7, 1 finger-8, 1 finger-9, 1 finger-10, 1 finger-11, 1 finger-12, 1 finger-13, 1 finger-14, 1 finger-15, 1 finger-16, 1 finger-17, 1 finger-18, 1 finger-19, 1 Trapezium, 1 Trapezoid, 1 Capitate, 1 Hamate, 1 Scaphoid, 1 Lunate, 1 Triquetrum, 1 Pisiform, 1 Radius, 1 Ulna, 5784.3ms\n",
      "Speed: 17.0ms preprocess, 5784.3ms inference, 216.0ms postprocess per image at shape (1, 3, 2048, 2048)\n"
     ]
    },
    {
     "name": "stderr",
     "output_type": "stream",
     "text": [
      "89it [10:08,  6.69s/it]"
     ]
    },
    {
     "name": "stdout",
     "output_type": "stream",
     "text": [
      "\n",
      "image 1/1 E:\\4\\data\\data\\test\\DCM\\ID171\\image1662514750170.png: 2048x2048 1 finger-1, 1 finger-2, 1 finger-3, 1 finger-4, 1 finger-5, 1 finger-6, 1 finger-7, 1 finger-8, 1 finger-9, 1 finger-10, 1 finger-11, 1 finger-12, 1 finger-13, 1 finger-14, 1 finger-15, 1 finger-16, 1 finger-17, 1 finger-18, 1 finger-19, 1 Trapezium, 1 Trapezoid, 1 Capitate, 1 Hamate, 1 Scaphoid, 1 Lunate, 1 Triquetrum, 1 Pisiform, 1 Radius, 1 Ulna, 5790.6ms\n",
      "Speed: 15.0ms preprocess, 5790.6ms inference, 216.0ms postprocess per image at shape (1, 3, 2048, 2048)\n"
     ]
    },
    {
     "name": "stderr",
     "output_type": "stream",
     "text": [
      "90it [10:15,  6.68s/it]"
     ]
    },
    {
     "name": "stdout",
     "output_type": "stream",
     "text": [
      "\n",
      "image 1/1 E:\\4\\data\\data\\test\\DCM\\ID172\\image1662514815967.png: 2048x2048 1 finger-1, 1 finger-2, 1 finger-3, 1 finger-4, 1 finger-5, 1 finger-6, 1 finger-7, 1 finger-8, 1 finger-9, 1 finger-10, 1 finger-11, 1 finger-12, 1 finger-13, 1 finger-14, 1 finger-15, 1 finger-16, 1 finger-17, 1 finger-18, 1 finger-19, 1 Trapezium, 1 Trapezoid, 1 Capitate, 1 Hamate, 1 Scaphoid, 1 Lunate, 1 Triquetrum, 1 Pisiform, 1 Radius, 1 Ulna, 5742.7ms\n",
      "Speed: 13.9ms preprocess, 5742.7ms inference, 217.0ms postprocess per image at shape (1, 3, 2048, 2048)\n"
     ]
    },
    {
     "name": "stderr",
     "output_type": "stream",
     "text": [
      "91it [10:21,  6.67s/it]"
     ]
    },
    {
     "name": "stdout",
     "output_type": "stream",
     "text": [
      "\n",
      "image 1/1 E:\\4\\data\\data\\test\\DCM\\ID172\\image1662514845640.png: 2048x2048 1 finger-1, 1 finger-2, 1 finger-3, 1 finger-4, 1 finger-5, 1 finger-6, 1 finger-7, 1 finger-8, 1 finger-9, 1 finger-10, 1 finger-11, 1 finger-12, 1 finger-13, 1 finger-14, 1 finger-15, 1 finger-16, 1 finger-17, 1 finger-18, 1 finger-19, 1 Trapezium, 1 Trapezoid, 1 Capitate, 1 Hamate, 1 Scaphoid, 1 Lunate, 1 Triquetrum, 1 Pisiform, 1 Radius, 1 Ulna, 5798.8ms\n",
      "Speed: 15.0ms preprocess, 5798.8ms inference, 226.0ms postprocess per image at shape (1, 3, 2048, 2048)\n"
     ]
    },
    {
     "name": "stderr",
     "output_type": "stream",
     "text": [
      "92it [10:28,  6.68s/it]"
     ]
    },
    {
     "name": "stdout",
     "output_type": "stream",
     "text": [
      "\n",
      "image 1/1 E:\\4\\data\\data\\test\\DCM\\ID173\\image1662514907444.png: 2048x2048 1 finger-1, 1 finger-2, 1 finger-3, 1 finger-4, 1 finger-5, 1 finger-6, 1 finger-7, 1 finger-8, 1 finger-9, 1 finger-10, 1 finger-11, 1 finger-12, 1 finger-13, 1 finger-14, 1 finger-15, 1 finger-16, 1 finger-17, 1 finger-18, 1 finger-19, 1 Trapezium, 1 Trapezoid, 1 Capitate, 1 Hamate, 1 Scaphoid, 1 Lunate, 1 Triquetrum, 1 Pisiform, 1 Radius, 1 Ulna, 5770.5ms\n",
      "Speed: 15.0ms preprocess, 5770.5ms inference, 215.0ms postprocess per image at shape (1, 3, 2048, 2048)\n"
     ]
    },
    {
     "name": "stderr",
     "output_type": "stream",
     "text": [
      "93it [10:35,  6.69s/it]"
     ]
    },
    {
     "name": "stdout",
     "output_type": "stream",
     "text": [
      "\n",
      "image 1/1 E:\\4\\data\\data\\test\\DCM\\ID173\\image1662514947169.png: 2048x2048 1 finger-1, 1 finger-2, 1 finger-3, 1 finger-4, 1 finger-5, 1 finger-6, 1 finger-7, 1 finger-8, 1 finger-9, 1 finger-10, 1 finger-11, 1 finger-12, 1 finger-13, 1 finger-14, 1 finger-15, 1 finger-16, 1 finger-17, 1 finger-18, 1 finger-19, 1 Trapezium, 1 Trapezoid, 1 Capitate, 1 Hamate, 1 Scaphoid, 1 Lunate, 1 Triquetrum, 1 Pisiform, 1 Radius, 1 Ulna, 5800.9ms\n",
      "Speed: 15.0ms preprocess, 5800.9ms inference, 215.1ms postprocess per image at shape (1, 3, 2048, 2048)\n"
     ]
    },
    {
     "name": "stderr",
     "output_type": "stream",
     "text": [
      "94it [10:42,  6.69s/it]"
     ]
    },
    {
     "name": "stdout",
     "output_type": "stream",
     "text": [
      "\n",
      "image 1/1 E:\\4\\data\\data\\test\\DCM\\ID174\\image1662515001202.png: 2048x2048 1 finger-1, 1 finger-2, 1 finger-3, 1 finger-4, 1 finger-5, 1 finger-6, 1 finger-7, 1 finger-8, 1 finger-9, 1 finger-10, 1 finger-11, 1 finger-12, 1 finger-13, 1 finger-14, 1 finger-15, 1 finger-16, 1 finger-17, 1 finger-18, 1 finger-19, 1 Trapezium, 1 Trapezoid, 1 Capitate, 1 Hamate, 1 Scaphoid, 1 Lunate, 1 Triquetrum, 1 Pisiform, 1 Radius, 1 Ulna, 5764.8ms\n",
      "Speed: 14.0ms preprocess, 5764.8ms inference, 215.0ms postprocess per image at shape (1, 3, 2048, 2048)\n"
     ]
    },
    {
     "name": "stderr",
     "output_type": "stream",
     "text": [
      "95it [10:48,  6.69s/it]"
     ]
    },
    {
     "name": "stdout",
     "output_type": "stream",
     "text": [
      "\n",
      "image 1/1 E:\\4\\data\\data\\test\\DCM\\ID174\\image1662515031657.png: 2048x2048 1 finger-1, 1 finger-2, 1 finger-3, 1 finger-4, 1 finger-5, 1 finger-6, 1 finger-7, 1 finger-8, 1 finger-9, 1 finger-10, 1 finger-11, 1 finger-12, 1 finger-13, 1 finger-14, 1 finger-15, 1 finger-16, 1 finger-17, 1 finger-18, 1 finger-19, 1 Trapezium, 1 Trapezoid, 1 Capitate, 1 Hamate, 1 Scaphoid, 1 Lunate, 1 Triquetrum, 1 Pisiform, 1 Radius, 1 Ulna, 5834.1ms\n",
      "Speed: 13.3ms preprocess, 5834.1ms inference, 214.0ms postprocess per image at shape (1, 3, 2048, 2048)\n"
     ]
    },
    {
     "name": "stderr",
     "output_type": "stream",
     "text": [
      "96it [10:55,  6.70s/it]"
     ]
    },
    {
     "name": "stdout",
     "output_type": "stream",
     "text": [
      "\n",
      "image 1/1 E:\\4\\data\\data\\test\\DCM\\ID175\\image1662515100899.png: 2048x2048 1 finger-1, 1 finger-2, 1 finger-3, 1 finger-4, 1 finger-5, 1 finger-6, 1 finger-7, 1 finger-8, 1 finger-9, 1 finger-10, 1 finger-11, 1 finger-12, 1 finger-13, 1 finger-14, 1 finger-15, 1 finger-16, 1 finger-17, 1 finger-18, 1 finger-19, 1 Trapezium, 1 Trapezoid, 1 Capitate, 1 Hamate, 1 Scaphoid, 1 Lunate, 1 Triquetrum, 1 Pisiform, 1 Radius, 1 Ulna, 5898.8ms\n",
      "Speed: 15.0ms preprocess, 5898.8ms inference, 216.9ms postprocess per image at shape (1, 3, 2048, 2048)\n"
     ]
    },
    {
     "name": "stderr",
     "output_type": "stream",
     "text": [
      "97it [11:02,  6.73s/it]"
     ]
    },
    {
     "name": "stdout",
     "output_type": "stream",
     "text": [
      "\n",
      "image 1/1 E:\\4\\data\\data\\test\\DCM\\ID175\\image1662515131201.png: 2048x2048 1 finger-1, 1 finger-2, 1 finger-3, 1 finger-4, 1 finger-5, 1 finger-6, 1 finger-7, 1 finger-8, 1 finger-9, 1 finger-10, 1 finger-11, 1 finger-12, 1 finger-13, 1 finger-14, 1 finger-15, 1 finger-16, 1 finger-17, 1 finger-18, 1 finger-19, 1 Trapezium, 1 Trapezoid, 1 Capitate, 1 Hamate, 1 Scaphoid, 1 Lunate, 1 Triquetrum, 1 Pisiform, 1 Radius, 1 Ulna, 5887.9ms\n",
      "Speed: 14.0ms preprocess, 5887.9ms inference, 215.0ms postprocess per image at shape (1, 3, 2048, 2048)\n"
     ]
    },
    {
     "name": "stderr",
     "output_type": "stream",
     "text": [
      "98it [11:09,  6.75s/it]"
     ]
    },
    {
     "name": "stdout",
     "output_type": "stream",
     "text": [
      "\n",
      "image 1/1 E:\\4\\data\\data\\test\\DCM\\ID176\\image1662515481973.png: 2048x2048 1 finger-1, 1 finger-2, 1 finger-3, 1 finger-4, 1 finger-5, 1 finger-6, 1 finger-7, 1 finger-8, 1 finger-9, 1 finger-10, 1 finger-11, 1 finger-12, 1 finger-13, 1 finger-14, 1 finger-15, 1 finger-16, 1 finger-17, 1 finger-18, 1 finger-19, 1 Trapezium, 1 Trapezoid, 1 Capitate, 1 Hamate, 1 Scaphoid, 1 Lunate, 1 Triquetrum, 1 Pisiform, 1 Radius, 1 Ulna, 5875.6ms\n",
      "Speed: 15.0ms preprocess, 5875.6ms inference, 224.1ms postprocess per image at shape (1, 3, 2048, 2048)\n"
     ]
    },
    {
     "name": "stderr",
     "output_type": "stream",
     "text": [
      "99it [11:15,  6.76s/it]"
     ]
    },
    {
     "name": "stdout",
     "output_type": "stream",
     "text": [
      "\n",
      "image 1/1 E:\\4\\data\\data\\test\\DCM\\ID176\\image1662515522722.png: 2048x2048 1 finger-1, 1 finger-2, 1 finger-3, 1 finger-4, 1 finger-5, 1 finger-6, 1 finger-7, 1 finger-8, 1 finger-9, 1 finger-10, 1 finger-11, 1 finger-12, 1 finger-13, 1 finger-14, 1 finger-15, 1 finger-16, 1 finger-17, 1 finger-18, 1 finger-19, 1 Trapezium, 1 Trapezoid, 1 Capitate, 1 Hamate, 1 Scaphoid, 1 Lunate, 1 Triquetrum, 1 Pisiform, 1 Radius, 1 Ulna, 5886.5ms\n",
      "Speed: 18.0ms preprocess, 5886.5ms inference, 227.0ms postprocess per image at shape (1, 3, 2048, 2048)\n"
     ]
    },
    {
     "name": "stderr",
     "output_type": "stream",
     "text": [
      "100it [11:22,  6.77s/it]"
     ]
    },
    {
     "name": "stdout",
     "output_type": "stream",
     "text": [
      "\n",
      "image 1/1 E:\\4\\data\\data\\test\\DCM\\ID177\\image1662515589122.png: 2048x2048 1 finger-1, 1 finger-2, 1 finger-3, 1 finger-4, 1 finger-5, 1 finger-6, 1 finger-7, 1 finger-8, 1 finger-9, 1 finger-10, 1 finger-11, 1 finger-12, 1 finger-13, 1 finger-14, 1 finger-15, 1 finger-16, 1 finger-17, 1 finger-18, 1 finger-19, 1 Trapezium, 1 Trapezoid, 1 Capitate, 1 Hamate, 1 Scaphoid, 1 Lunate, 1 Triquetrum, 1 Pisiform, 1 Radius, 1 Ulna, 5874.2ms\n",
      "Speed: 15.0ms preprocess, 5874.2ms inference, 210.0ms postprocess per image at shape (1, 3, 2048, 2048)\n"
     ]
    },
    {
     "name": "stderr",
     "output_type": "stream",
     "text": [
      "101it [11:29,  6.77s/it]"
     ]
    },
    {
     "name": "stdout",
     "output_type": "stream",
     "text": [
      "\n",
      "image 1/1 E:\\4\\data\\data\\test\\DCM\\ID177\\image1662515616993.png: 2048x2048 1 finger-1, 1 finger-2, 1 finger-3, 1 finger-4, 1 finger-5, 1 finger-6, 1 finger-7, 1 finger-8, 1 finger-9, 1 finger-10, 1 finger-11, 1 finger-12, 1 finger-13, 1 finger-14, 1 finger-15, 1 finger-16, 1 finger-17, 1 finger-18, 1 finger-19, 1 Trapezium, 1 Trapezoid, 1 Capitate, 1 Hamate, 1 Scaphoid, 1 Lunate, 1 Triquetrum, 1 Pisiform, 1 Radius, 1 Ulna, 5918.8ms\n",
      "Speed: 15.0ms preprocess, 5918.8ms inference, 220.0ms postprocess per image at shape (1, 3, 2048, 2048)\n"
     ]
    },
    {
     "name": "stderr",
     "output_type": "stream",
     "text": [
      "102it [11:36,  6.79s/it]"
     ]
    },
    {
     "name": "stdout",
     "output_type": "stream",
     "text": [
      "\n",
      "image 1/1 E:\\4\\data\\data\\test\\DCM\\ID178\\image1662515671457.png: 2048x2048 1 finger-1, 1 finger-2, 1 finger-3, 1 finger-4, 1 finger-5, 1 finger-6, 1 finger-7, 1 finger-8, 1 finger-9, 1 finger-10, 1 finger-11, 1 finger-12, 1 finger-13, 1 finger-14, 1 finger-15, 1 finger-16, 1 finger-17, 1 finger-18, 1 finger-19, 1 Trapezium, 1 Trapezoid, 1 Capitate, 1 Hamate, 1 Scaphoid, 1 Lunate, 1 Triquetrum, 1 Pisiform, 1 Radius, 1 Ulna, 5946.1ms\n",
      "Speed: 14.0ms preprocess, 5946.1ms inference, 231.0ms postprocess per image at shape (1, 3, 2048, 2048)\n"
     ]
    },
    {
     "name": "stderr",
     "output_type": "stream",
     "text": [
      "103it [11:43,  6.80s/it]"
     ]
    },
    {
     "name": "stdout",
     "output_type": "stream",
     "text": [
      "\n",
      "image 1/1 E:\\4\\data\\data\\test\\DCM\\ID178\\image1662515699185.png: 2048x2048 1 finger-1, 1 finger-2, 1 finger-3, 1 finger-4, 1 finger-5, 1 finger-6, 1 finger-7, 1 finger-8, 1 finger-9, 1 finger-10, 1 finger-11, 1 finger-12, 1 finger-13, 1 finger-14, 1 finger-15, 1 finger-16, 1 finger-17, 1 finger-18, 1 finger-19, 1 Trapezium, 1 Trapezoid, 1 Capitate, 1 Hamate, 1 Scaphoid, 1 Lunate, 1 Triquetrum, 1 Pisiform, 1 Radius, 1 Ulna, 5905.6ms\n",
      "Speed: 14.0ms preprocess, 5905.6ms inference, 221.0ms postprocess per image at shape (1, 3, 2048, 2048)\n"
     ]
    },
    {
     "name": "stderr",
     "output_type": "stream",
     "text": [
      "104it [11:49,  6.80s/it]"
     ]
    },
    {
     "name": "stdout",
     "output_type": "stream",
     "text": [
      "\n",
      "image 1/1 E:\\4\\data\\data\\test\\DCM\\ID179\\image1662515804622.png: 2048x2048 1 finger-1, 1 finger-2, 1 finger-3, 1 finger-4, 1 finger-5, 1 finger-6, 1 finger-7, 1 finger-8, 1 finger-9, 1 finger-10, 1 finger-11, 1 finger-12, 1 finger-13, 1 finger-14, 1 finger-15, 1 finger-16, 1 finger-17, 1 finger-18, 1 finger-19, 1 Trapezium, 1 Trapezoid, 1 Capitate, 1 Hamate, 1 Scaphoid, 1 Lunate, 1 Triquetrum, 1 Pisiform, 1 Radius, 1 Ulna, 5925.6ms\n",
      "Speed: 15.9ms preprocess, 5925.6ms inference, 218.1ms postprocess per image at shape (1, 3, 2048, 2048)\n"
     ]
    },
    {
     "name": "stderr",
     "output_type": "stream",
     "text": [
      "105it [11:56,  6.81s/it]"
     ]
    },
    {
     "name": "stdout",
     "output_type": "stream",
     "text": [
      "\n",
      "image 1/1 E:\\4\\data\\data\\test\\DCM\\ID179\\image1662515834348.png: 2048x2048 1 finger-1, 1 finger-2, 1 finger-3, 1 finger-4, 1 finger-5, 1 finger-6, 1 finger-7, 1 finger-8, 1 finger-9, 1 finger-10, 1 finger-11, 1 finger-12, 1 finger-13, 1 finger-14, 1 finger-15, 1 finger-16, 1 finger-17, 1 finger-18, 1 finger-19, 1 Trapezium, 1 Trapezoid, 1 Capitate, 1 Hamate, 1 Scaphoid, 1 Lunate, 1 Triquetrum, 1 Pisiform, 1 Radius, 1 Ulna, 5896.8ms\n",
      "Speed: 15.0ms preprocess, 5896.8ms inference, 221.0ms postprocess per image at shape (1, 3, 2048, 2048)\n"
     ]
    },
    {
     "name": "stderr",
     "output_type": "stream",
     "text": [
      "106it [12:03,  6.81s/it]"
     ]
    },
    {
     "name": "stdout",
     "output_type": "stream",
     "text": [
      "\n",
      "image 1/1 E:\\4\\data\\data\\test\\DCM\\ID180\\image1662515885578.png: 2048x2048 1 finger-1, 1 finger-2, 1 finger-3, 1 finger-4, 1 finger-5, 1 finger-6, 1 finger-7, 1 finger-8, 1 finger-9, 1 finger-10, 1 finger-11, 1 finger-12, 1 finger-13, 1 finger-14, 1 finger-15, 1 finger-16, 1 finger-17, 1 finger-18, 1 finger-19, 1 Trapezium, 1 Trapezoid, 1 Capitate, 1 Hamate, 1 Scaphoid, 1 Lunate, 1 Triquetrum, 1 Pisiform, 1 Radius, 1 Ulna, 5855.7ms\n",
      "Speed: 14.9ms preprocess, 5855.7ms inference, 212.0ms postprocess per image at shape (1, 3, 2048, 2048)\n"
     ]
    },
    {
     "name": "stderr",
     "output_type": "stream",
     "text": [
      "107it [12:10,  6.79s/it]"
     ]
    },
    {
     "name": "stdout",
     "output_type": "stream",
     "text": [
      "\n",
      "image 1/1 E:\\4\\data\\data\\test\\DCM\\ID180\\image1662515915181.png: 2048x2048 1 finger-1, 1 finger-2, 1 finger-3, 1 finger-4, 1 finger-5, 1 finger-6, 1 finger-7, 1 finger-8, 1 finger-9, 1 finger-10, 1 finger-11, 1 finger-12, 1 finger-13, 1 finger-14, 1 finger-15, 1 finger-16, 1 finger-17, 1 finger-18, 1 finger-19, 1 Trapezium, 1 Trapezoid, 1 Capitate, 1 Hamate, 1 Scaphoid, 1 Lunate, 1 Triquetrum, 1 Pisiform, 1 Radius, 1 Ulna, 5941.0ms\n",
      "Speed: 14.0ms preprocess, 5941.0ms inference, 219.0ms postprocess per image at shape (1, 3, 2048, 2048)\n"
     ]
    },
    {
     "name": "stderr",
     "output_type": "stream",
     "text": [
      "108it [12:17,  6.81s/it]"
     ]
    },
    {
     "name": "stdout",
     "output_type": "stream",
     "text": [
      "\n",
      "image 1/1 E:\\4\\data\\data\\test\\DCM\\ID181\\image1663031053384.png: 2048x2048 1 finger-1, 1 finger-2, 1 finger-3, 1 finger-4, 1 finger-5, 1 finger-6, 1 finger-7, 1 finger-8, 1 finger-9, 1 finger-10, 1 finger-11, 1 finger-12, 1 finger-13, 1 finger-14, 1 finger-15, 1 finger-16, 1 finger-17, 1 finger-18, 1 finger-19, 1 Trapezium, 1 Trapezoid, 1 Capitate, 1 Hamate, 1 Scaphoid, 1 Lunate, 1 Triquetrum, 1 Pisiform, 1 Radius, 1 Ulna, 5919.7ms\n",
      "Speed: 14.0ms preprocess, 5919.7ms inference, 222.0ms postprocess per image at shape (1, 3, 2048, 2048)\n"
     ]
    },
    {
     "name": "stderr",
     "output_type": "stream",
     "text": [
      "109it [12:23,  6.81s/it]"
     ]
    },
    {
     "name": "stdout",
     "output_type": "stream",
     "text": [
      "\n",
      "image 1/1 E:\\4\\data\\data\\test\\DCM\\ID181\\image1663031089301.png: 2048x2048 1 finger-1, 1 finger-2, 1 finger-3, 1 finger-4, 1 finger-5, 1 finger-6, 1 finger-7, 1 finger-8, 1 finger-9, 1 finger-10, 1 finger-11, 1 finger-12, 1 finger-13, 1 finger-14, 1 finger-15, 1 finger-16, 1 finger-17, 1 finger-18, 1 finger-19, 1 Trapezium, 1 Trapezoid, 1 Capitate, 1 Hamate, 1 Scaphoid, 1 Lunate, 1 Triquetrum, 1 Pisiform, 1 Radius, 1 Ulna, 5987.0ms\n",
      "Speed: 15.0ms preprocess, 5987.0ms inference, 215.0ms postprocess per image at shape (1, 3, 2048, 2048)\n"
     ]
    },
    {
     "name": "stderr",
     "output_type": "stream",
     "text": [
      "110it [12:30,  6.83s/it]"
     ]
    },
    {
     "name": "stdout",
     "output_type": "stream",
     "text": [
      "\n",
      "image 1/1 E:\\4\\data\\data\\test\\DCM\\ID182\\image1663031192101.png: 2048x2048 1 finger-1, 1 finger-2, 1 finger-3, 1 finger-4, 1 finger-5, 1 finger-6, 1 finger-7, 1 finger-8, 1 finger-9, 1 finger-10, 1 finger-11, 1 finger-12, 1 finger-13, 1 finger-14, 1 finger-15, 1 finger-16, 1 finger-17, 1 finger-18, 1 finger-19, 1 Trapezium, 1 Trapezoid, 1 Capitate, 1 Hamate, 1 Scaphoid, 1 Lunate, 1 Triquetrum, 1 Pisiform, 1 Radius, 1 Ulna, 5980.7ms\n",
      "Speed: 17.0ms preprocess, 5980.7ms inference, 221.0ms postprocess per image at shape (1, 3, 2048, 2048)\n"
     ]
    },
    {
     "name": "stderr",
     "output_type": "stream",
     "text": [
      "111it [12:37,  6.86s/it]"
     ]
    },
    {
     "name": "stdout",
     "output_type": "stream",
     "text": [
      "\n",
      "image 1/1 E:\\4\\data\\data\\test\\DCM\\ID182\\image1663031217356.png: 2048x2048 1 finger-1, 1 finger-2, 1 finger-3, 1 finger-4, 1 finger-5, 1 finger-6, 1 finger-7, 1 finger-8, 1 finger-9, 1 finger-10, 1 finger-11, 1 finger-12, 1 finger-13, 1 finger-14, 1 finger-15, 1 finger-16, 1 finger-17, 1 finger-18, 1 finger-19, 1 Trapezium, 1 Trapezoid, 1 Capitate, 1 Hamate, 1 Scaphoid, 1 Lunate, 1 Triquetrum, 1 Pisiform, 1 Radius, 1 Ulna, 5986.3ms\n",
      "Speed: 14.0ms preprocess, 5986.3ms inference, 229.0ms postprocess per image at shape (1, 3, 2048, 2048)\n"
     ]
    },
    {
     "name": "stderr",
     "output_type": "stream",
     "text": [
      "112it [12:44,  6.87s/it]"
     ]
    },
    {
     "name": "stdout",
     "output_type": "stream",
     "text": [
      "\n",
      "image 1/1 E:\\4\\data\\data\\test\\DCM\\ID183\\image1663031259827.png: 2048x2048 1 finger-1, 1 finger-2, 1 finger-3, 1 finger-4, 1 finger-5, 1 finger-6, 1 finger-7, 1 finger-8, 1 finger-9, 1 finger-10, 1 finger-11, 1 finger-12, 1 finger-13, 1 finger-14, 1 finger-15, 1 finger-16, 1 finger-17, 1 finger-18, 1 finger-19, 1 Trapezium, 1 Trapezoid, 1 Capitate, 1 Hamate, 1 Scaphoid, 1 Lunate, 1 Triquetrum, 1 Pisiform, 1 Radius, 1 Ulna, 5915.1ms\n",
      "Speed: 15.0ms preprocess, 5915.1ms inference, 226.0ms postprocess per image at shape (1, 3, 2048, 2048)\n"
     ]
    },
    {
     "name": "stderr",
     "output_type": "stream",
     "text": [
      "113it [12:51,  6.85s/it]"
     ]
    },
    {
     "name": "stdout",
     "output_type": "stream",
     "text": [
      "\n",
      "image 1/1 E:\\4\\data\\data\\test\\DCM\\ID183\\image1663031285124.png: 2048x2048 1 finger-1, 1 finger-2, 1 finger-3, 1 finger-4, 1 finger-5, 1 finger-6, 1 finger-7, 1 finger-8, 1 finger-9, 1 finger-10, 1 finger-11, 1 finger-12, 1 finger-13, 1 finger-14, 1 finger-15, 1 finger-16, 1 finger-17, 1 finger-18, 1 finger-19, 1 Trapezium, 1 Trapezoid, 1 Capitate, 1 Hamate, 1 Scaphoid, 1 Lunate, 1 Triquetrum, 1 Pisiform, 1 Radius, 1 Ulna, 5994.3ms\n",
      "Speed: 15.0ms preprocess, 5994.3ms inference, 227.0ms postprocess per image at shape (1, 3, 2048, 2048)\n"
     ]
    },
    {
     "name": "stderr",
     "output_type": "stream",
     "text": [
      "114it [12:58,  6.87s/it]"
     ]
    },
    {
     "name": "stdout",
     "output_type": "stream",
     "text": [
      "\n",
      "image 1/1 E:\\4\\data\\data\\test\\DCM\\ID184\\image1663031328120.png: 2048x2048 1 finger-1, 1 finger-2, 1 finger-3, 1 finger-4, 1 finger-5, 1 finger-6, 1 finger-7, 1 finger-8, 1 finger-9, 1 finger-10, 1 finger-11, 1 finger-12, 1 finger-13, 1 finger-14, 1 finger-15, 1 finger-16, 1 finger-17, 1 finger-18, 1 finger-19, 1 Trapezium, 1 Trapezoid, 1 Capitate, 1 Hamate, 1 Scaphoid, 1 Lunate, 1 Triquetrum, 1 Pisiform, 1 Radius, 1 Ulna, 5826.7ms\n",
      "Speed: 30.0ms preprocess, 5826.7ms inference, 217.9ms postprocess per image at shape (1, 3, 2048, 2048)\n"
     ]
    },
    {
     "name": "stderr",
     "output_type": "stream",
     "text": [
      "115it [13:05,  6.83s/it]"
     ]
    },
    {
     "name": "stdout",
     "output_type": "stream",
     "text": [
      "\n",
      "image 1/1 E:\\4\\data\\data\\test\\DCM\\ID184\\image1663031355282.png: 2048x2048 1 finger-1, 1 finger-2, 1 finger-3, 1 finger-4, 1 finger-5, 1 finger-6, 1 finger-7, 1 finger-8, 1 finger-9, 1 finger-10, 1 finger-11, 1 finger-12, 1 finger-13, 1 finger-14, 1 finger-15, 1 finger-16, 1 finger-17, 1 finger-18, 1 finger-19, 1 Trapezium, 1 Trapezoid, 1 Capitate, 1 Hamate, 1 Scaphoid, 1 Lunate, 1 Triquetrum, 1 Pisiform, 1 Radius, 1 Ulna, 5913.3ms\n",
      "Speed: 15.0ms preprocess, 5913.3ms inference, 223.0ms postprocess per image at shape (1, 3, 2048, 2048)\n"
     ]
    },
    {
     "name": "stderr",
     "output_type": "stream",
     "text": [
      "116it [13:11,  6.83s/it]"
     ]
    },
    {
     "name": "stdout",
     "output_type": "stream",
     "text": [
      "\n",
      "image 1/1 E:\\4\\data\\data\\test\\DCM\\ID186\\image1663031512045.png: 2048x2048 1 finger-1, 1 finger-2, 1 finger-3, 1 finger-4, 1 finger-5, 1 finger-6, 1 finger-7, 1 finger-8, 1 finger-9, 1 finger-10, 1 finger-11, 1 finger-12, 1 finger-13, 1 finger-14, 1 finger-15, 1 finger-16, 1 finger-17, 1 finger-18, 1 finger-19, 1 Trapezium, 1 Trapezoid, 1 Capitate, 1 Hamate, 1 Scaphoid, 1 Lunate, 1 Triquetrum, 1 Pisiform, 1 Radius, 1 Ulna, 5835.3ms\n",
      "Speed: 14.0ms preprocess, 5835.3ms inference, 216.0ms postprocess per image at shape (1, 3, 2048, 2048)\n"
     ]
    },
    {
     "name": "stderr",
     "output_type": "stream",
     "text": [
      "117it [13:18,  6.80s/it]"
     ]
    },
    {
     "name": "stdout",
     "output_type": "stream",
     "text": [
      "\n",
      "image 1/1 E:\\4\\data\\data\\test\\DCM\\ID186\\image1663031539970.png: 2048x2048 1 finger-1, 1 finger-2, 1 finger-3, 1 finger-4, 1 finger-5, 1 finger-6, 1 finger-7, 1 finger-8, 1 finger-9, 1 finger-10, 1 finger-11, 1 finger-12, 1 finger-13, 1 finger-14, 1 finger-15, 1 finger-16, 1 finger-17, 1 finger-18, 1 finger-19, 1 Trapezium, 1 Trapezoid, 1 Capitate, 1 Hamate, 1 Scaphoid, 1 Lunate, 1 Triquetrum, 1 Pisiform, 1 Radius, 1 Ulna, 5742.2ms\n",
      "Speed: 14.0ms preprocess, 5742.2ms inference, 208.0ms postprocess per image at shape (1, 3, 2048, 2048)\n"
     ]
    },
    {
     "name": "stderr",
     "output_type": "stream",
     "text": [
      "118it [13:25,  6.75s/it]"
     ]
    },
    {
     "name": "stdout",
     "output_type": "stream",
     "text": [
      "\n",
      "image 1/1 E:\\4\\data\\data\\test\\DCM\\ID187\\image1663031729050.png: 2048x2048 1 finger-1, 1 finger-2, 1 finger-3, 1 finger-4, 1 finger-5, 1 finger-6, 1 finger-7, 1 finger-8, 1 finger-9, 1 finger-10, 1 finger-11, 1 finger-12, 1 finger-13, 1 finger-14, 1 finger-15, 1 finger-16, 1 finger-17, 1 finger-18, 1 finger-19, 1 Trapezium, 1 Trapezoid, 1 Capitate, 1 Hamate, 1 Scaphoid, 1 Lunate, 1 Triquetrum, 1 Pisiform, 1 Radius, 1 Ulna, 5834.2ms\n",
      "Speed: 15.0ms preprocess, 5834.2ms inference, 224.9ms postprocess per image at shape (1, 3, 2048, 2048)\n"
     ]
    },
    {
     "name": "stderr",
     "output_type": "stream",
     "text": [
      "119it [13:32,  6.75s/it]"
     ]
    },
    {
     "name": "stdout",
     "output_type": "stream",
     "text": [
      "\n",
      "image 1/1 E:\\4\\data\\data\\test\\DCM\\ID187\\image1663031757254.png: 2048x2048 1 finger-1, 1 finger-2, 1 finger-3, 1 finger-4, 1 finger-5, 1 finger-6, 1 finger-7, 1 finger-8, 1 finger-9, 1 finger-10, 1 finger-11, 1 finger-12, 1 finger-13, 1 finger-14, 1 finger-15, 1 finger-16, 1 finger-17, 1 finger-18, 1 finger-19, 1 Trapezium, 1 Trapezoid, 1 Capitate, 1 Hamate, 1 Scaphoid, 1 Lunate, 1 Triquetrum, 1 Pisiform, 1 Radius, 1 Ulna, 5878.7ms\n",
      "Speed: 16.0ms preprocess, 5878.7ms inference, 213.0ms postprocess per image at shape (1, 3, 2048, 2048)\n"
     ]
    },
    {
     "name": "stderr",
     "output_type": "stream",
     "text": [
      "120it [13:38,  6.76s/it]"
     ]
    },
    {
     "name": "stdout",
     "output_type": "stream",
     "text": [
      "\n",
      "image 1/1 E:\\4\\data\\data\\test\\DCM\\ID188\\image1663032094569.png: 2048x2048 1 finger-1, 1 finger-2, 1 finger-3, 1 finger-4, 1 finger-5, 1 finger-6, 1 finger-7, 1 finger-8, 1 finger-9, 1 finger-10, 1 finger-11, 1 finger-12, 1 finger-13, 1 finger-14, 1 finger-15, 1 finger-16, 1 finger-17, 1 finger-18, 1 finger-19, 1 Trapezium, 1 Trapezoid, 1 Capitate, 1 Hamate, 1 Scaphoid, 1 Lunate, 1 Triquetrum, 1 Pisiform, 1 Radius, 1 Ulna, 5788.1ms\n",
      "Speed: 15.0ms preprocess, 5788.1ms inference, 217.9ms postprocess per image at shape (1, 3, 2048, 2048)\n"
     ]
    },
    {
     "name": "stderr",
     "output_type": "stream",
     "text": [
      "121it [13:45,  6.73s/it]"
     ]
    },
    {
     "name": "stdout",
     "output_type": "stream",
     "text": [
      "\n",
      "image 1/1 E:\\4\\data\\data\\test\\DCM\\ID188\\image1663032123062.png: 2048x2048 1 finger-1, 1 finger-2, 1 finger-3, 1 finger-4, 1 finger-5, 1 finger-6, 1 finger-7, 1 finger-8, 1 finger-9, 1 finger-10, 1 finger-11, 1 finger-12, 1 finger-13, 1 finger-14, 1 finger-15, 1 finger-16, 1 finger-17, 1 finger-18, 1 finger-19, 1 Trapezium, 1 Trapezoid, 1 Capitate, 1 Hamate, 1 Scaphoid, 1 Lunate, 1 Triquetrum, 1 Pisiform, 1 Radius, 1 Ulna, 5819.0ms\n",
      "Speed: 15.0ms preprocess, 5819.0ms inference, 222.1ms postprocess per image at shape (1, 3, 2048, 2048)\n"
     ]
    },
    {
     "name": "stderr",
     "output_type": "stream",
     "text": [
      "122it [13:52,  6.73s/it]"
     ]
    },
    {
     "name": "stdout",
     "output_type": "stream",
     "text": [
      "\n",
      "image 1/1 E:\\4\\data\\data\\test\\DCM\\ID189\\image1663032200123.png: 2048x2048 1 finger-1, 1 finger-2, 1 finger-3, 1 finger-4, 1 finger-5, 1 finger-6, 1 finger-7, 1 finger-8, 1 finger-9, 1 finger-10, 1 finger-11, 1 finger-12, 1 finger-13, 1 finger-14, 1 finger-15, 1 finger-16, 1 finger-17, 1 finger-18, 1 finger-19, 1 Trapezium, 1 Trapezoid, 1 Capitate, 1 Hamate, 1 Scaphoid, 1 Lunate, 1 Triquetrum, 1 Pisiform, 1 Radius, 1 Ulna, 5772.9ms\n",
      "Speed: 13.9ms preprocess, 5772.9ms inference, 221.0ms postprocess per image at shape (1, 3, 2048, 2048)\n"
     ]
    },
    {
     "name": "stderr",
     "output_type": "stream",
     "text": [
      "123it [13:58,  6.72s/it]"
     ]
    },
    {
     "name": "stdout",
     "output_type": "stream",
     "text": [
      "\n",
      "image 1/1 E:\\4\\data\\data\\test\\DCM\\ID189\\image1663032215672.png: 2048x2048 1 finger-1, 1 finger-2, 1 finger-3, 1 finger-4, 1 finger-5, 1 finger-6, 1 finger-7, 1 finger-8, 1 finger-9, 1 finger-10, 1 finger-11, 1 finger-12, 1 finger-13, 1 finger-14, 1 finger-15, 1 finger-16, 1 finger-17, 1 finger-18, 1 finger-19, 1 Trapezium, 1 Trapezoid, 1 Capitate, 1 Hamate, 1 Scaphoid, 1 Lunate, 1 Triquetrum, 1 Pisiform, 1 Radius, 1 Ulna, 5869.5ms\n",
      "Speed: 16.0ms preprocess, 5869.5ms inference, 224.1ms postprocess per image at shape (1, 3, 2048, 2048)\n"
     ]
    },
    {
     "name": "stderr",
     "output_type": "stream",
     "text": [
      "124it [14:05,  6.75s/it]"
     ]
    },
    {
     "name": "stdout",
     "output_type": "stream",
     "text": [
      "\n",
      "image 1/1 E:\\4\\data\\data\\test\\DCM\\ID190\\image1663032341274.png: 2048x2048 1 finger-1, 1 finger-2, 1 finger-3, 1 finger-4, 1 finger-5, 1 finger-6, 1 finger-7, 1 finger-8, 1 finger-9, 1 finger-10, 1 finger-11, 1 finger-12, 1 finger-13, 1 finger-14, 1 finger-15, 1 finger-16, 1 finger-17, 1 finger-18, 1 finger-19, 1 Trapezium, 1 Trapezoid, 1 Capitate, 1 Hamate, 1 Scaphoid, 1 Lunate, 1 Triquetrum, 1 Pisiform, 1 Radius, 1 Ulna, 5854.7ms\n",
      "Speed: 14.0ms preprocess, 5854.7ms inference, 219.0ms postprocess per image at shape (1, 3, 2048, 2048)\n"
     ]
    },
    {
     "name": "stderr",
     "output_type": "stream",
     "text": [
      "125it [14:12,  6.75s/it]"
     ]
    },
    {
     "name": "stdout",
     "output_type": "stream",
     "text": [
      "\n",
      "image 1/1 E:\\4\\data\\data\\test\\DCM\\ID190\\image1663032378555.png: 2048x2048 1 finger-1, 1 finger-2, 1 finger-3, 1 finger-4, 1 finger-5, 1 finger-6, 1 finger-7, 1 finger-8, 1 finger-9, 1 finger-10, 1 finger-11, 1 finger-12, 1 finger-13, 1 finger-14, 1 finger-15, 1 finger-16, 1 finger-17, 1 finger-18, 1 finger-19, 1 Trapezium, 1 Trapezoid, 1 Capitate, 1 Hamate, 1 Scaphoid, 1 Lunate, 1 Triquetrum, 1 Pisiform, 1 Radius, 1 Ulna, 5884.1ms\n",
      "Speed: 14.0ms preprocess, 5884.1ms inference, 211.9ms postprocess per image at shape (1, 3, 2048, 2048)\n"
     ]
    },
    {
     "name": "stderr",
     "output_type": "stream",
     "text": [
      "126it [14:19,  6.76s/it]"
     ]
    },
    {
     "name": "stdout",
     "output_type": "stream",
     "text": [
      "\n",
      "image 1/1 E:\\4\\data\\data\\test\\DCM\\ID191\\image1663032434284.png: 2048x2048 1 finger-1, 1 finger-2, 1 finger-3, 1 finger-4, 1 finger-5, 1 finger-6, 1 finger-7, 1 finger-8, 1 finger-9, 1 finger-10, 1 finger-11, 1 finger-12, 1 finger-13, 1 finger-14, 1 finger-15, 1 finger-16, 1 finger-17, 1 finger-18, 1 finger-19, 1 Trapezium, 1 Trapezoid, 1 Capitate, 1 Hamate, 1 Scaphoid, 1 Lunate, 1 Triquetrum, 1 Pisiform, 1 Radius, 1 Ulna, 5913.0ms\n",
      "Speed: 14.0ms preprocess, 5913.0ms inference, 223.1ms postprocess per image at shape (1, 3, 2048, 2048)\n"
     ]
    },
    {
     "name": "stderr",
     "output_type": "stream",
     "text": [
      "127it [14:26,  6.78s/it]"
     ]
    },
    {
     "name": "stdout",
     "output_type": "stream",
     "text": [
      "\n",
      "image 1/1 E:\\4\\data\\data\\test\\DCM\\ID191\\image1663032464049.png: 2048x2048 1 finger-1, 1 finger-2, 1 finger-3, 1 finger-4, 1 finger-5, 1 finger-6, 1 finger-7, 1 finger-8, 1 finger-9, 1 finger-10, 1 finger-11, 1 finger-12, 1 finger-13, 1 finger-14, 1 finger-15, 1 finger-16, 1 finger-17, 1 finger-18, 1 finger-19, 1 Trapezium, 1 Trapezoid, 1 Capitate, 1 Hamate, 1 Scaphoid, 1 Lunate, 1 Triquetrum, 1 Pisiform, 1 Radius, 1 Ulna, 5835.2ms\n",
      "Speed: 16.0ms preprocess, 5835.2ms inference, 210.0ms postprocess per image at shape (1, 3, 2048, 2048)\n"
     ]
    },
    {
     "name": "stderr",
     "output_type": "stream",
     "text": [
      "128it [14:32,  6.77s/it]"
     ]
    },
    {
     "name": "stdout",
     "output_type": "stream",
     "text": [
      "\n",
      "image 1/1 E:\\4\\data\\data\\test\\DCM\\ID192\\image1663032787672.png: 2048x2048 1 finger-1, 1 finger-2, 1 finger-3, 1 finger-4, 1 finger-5, 1 finger-6, 1 finger-7, 1 finger-8, 1 finger-9, 1 finger-10, 1 finger-11, 1 finger-12, 1 finger-13, 1 finger-14, 1 finger-15, 1 finger-16, 1 finger-17, 1 finger-18, 1 finger-19, 1 Trapezium, 1 Trapezoid, 1 Capitate, 1 Hamate, 1 Scaphoid, 1 Lunate, 1 Triquetrum, 1 Pisiform, 1 Radius, 1 Ulna, 5808.8ms\n",
      "Speed: 14.0ms preprocess, 5808.8ms inference, 233.0ms postprocess per image at shape (1, 3, 2048, 2048)\n"
     ]
    },
    {
     "name": "stderr",
     "output_type": "stream",
     "text": [
      "129it [14:39,  6.76s/it]"
     ]
    },
    {
     "name": "stdout",
     "output_type": "stream",
     "text": [
      "\n",
      "image 1/1 E:\\4\\data\\data\\test\\DCM\\ID192\\image1663032815373.png: 2048x2048 1 finger-1, 1 finger-2, 1 finger-3, 1 finger-4, 1 finger-5, 1 finger-6, 1 finger-7, 1 finger-8, 1 finger-9, 1 finger-10, 1 finger-11, 1 finger-12, 1 finger-13, 1 finger-14, 1 finger-15, 1 finger-16, 1 finger-17, 1 finger-18, 1 finger-19, 1 Trapezium, 1 Trapezoid, 1 Capitate, 1 Hamate, 1 Scaphoid, 1 Lunate, 1 Triquetrum, 1 Pisiform, 1 Radius, 1 Ulna, 5788.3ms\n",
      "Speed: 13.0ms preprocess, 5788.3ms inference, 216.0ms postprocess per image at shape (1, 3, 2048, 2048)\n"
     ]
    },
    {
     "name": "stderr",
     "output_type": "stream",
     "text": [
      "130it [14:46,  6.73s/it]"
     ]
    },
    {
     "name": "stdout",
     "output_type": "stream",
     "text": [
      "\n",
      "image 1/1 E:\\4\\data\\data\\test\\DCM\\ID193\\image1663033739084.png: 2048x2048 1 finger-1, 1 finger-2, 1 finger-3, 1 finger-4, 1 finger-5, 1 finger-6, 1 finger-7, 1 finger-8, 1 finger-9, 1 finger-10, 1 finger-11, 1 finger-12, 1 finger-13, 1 finger-14, 1 finger-15, 1 finger-16, 1 finger-17, 1 finger-18, 1 finger-19, 1 Trapezium, 1 Trapezoid, 1 Capitate, 1 Hamate, 1 Scaphoid, 1 Lunate, 1 Triquetrum, 1 Pisiform, 1 Radius, 1 Ulna, 5760.1ms\n",
      "Speed: 15.0ms preprocess, 5760.1ms inference, 211.0ms postprocess per image at shape (1, 3, 2048, 2048)\n"
     ]
    },
    {
     "name": "stderr",
     "output_type": "stream",
     "text": [
      "131it [14:52,  6.72s/it]"
     ]
    },
    {
     "name": "stdout",
     "output_type": "stream",
     "text": [
      "\n",
      "image 1/1 E:\\4\\data\\data\\test\\DCM\\ID193\\image1663033766028.png: 2048x2048 1 finger-1, 1 finger-2, 1 finger-3, 1 finger-4, 1 finger-5, 1 finger-6, 1 finger-7, 1 finger-8, 1 finger-9, 1 finger-10, 1 finger-11, 2 finger-12s, 1 finger-13, 1 finger-14, 1 finger-15, 1 finger-16, 1 finger-17, 1 finger-18, 1 finger-19, 1 Trapezium, 1 Trapezoid, 1 Capitate, 1 Hamate, 1 Scaphoid, 1 Lunate, 1 Triquetrum, 1 Pisiform, 1 Radius, 1 Ulna, 5862.0ms\n",
      "Speed: 15.0ms preprocess, 5862.0ms inference, 231.5ms postprocess per image at shape (1, 3, 2048, 2048)\n"
     ]
    },
    {
     "name": "stderr",
     "output_type": "stream",
     "text": [
      "132it [14:59,  6.75s/it]"
     ]
    },
    {
     "name": "stdout",
     "output_type": "stream",
     "text": [
      "\n",
      "image 1/1 E:\\4\\data\\data\\test\\DCM\\ID194\\image1663034114127.png: 2048x2048 1 finger-1, 1 finger-2, 1 finger-3, 1 finger-4, 1 finger-5, 1 finger-6, 1 finger-7, 1 finger-8, 1 finger-9, 1 finger-10, 1 finger-11, 1 finger-12, 1 finger-13, 1 finger-14, 1 finger-15, 1 finger-16, 1 finger-17, 1 finger-18, 1 finger-19, 1 Trapezium, 1 Trapezoid, 1 Capitate, 1 Hamate, 1 Scaphoid, 1 Lunate, 1 Triquetrum, 1 Pisiform, 1 Radius, 1 Ulna, 5802.1ms\n",
      "Speed: 15.0ms preprocess, 5802.1ms inference, 216.0ms postprocess per image at shape (1, 3, 2048, 2048)\n"
     ]
    },
    {
     "name": "stderr",
     "output_type": "stream",
     "text": [
      "133it [15:06,  6.73s/it]"
     ]
    },
    {
     "name": "stdout",
     "output_type": "stream",
     "text": [
      "\n",
      "image 1/1 E:\\4\\data\\data\\test\\DCM\\ID194\\image1663034135371.png: 2048x2048 1 finger-1, 1 finger-2, 1 finger-3, 1 finger-4, 1 finger-5, 1 finger-6, 1 finger-7, 1 finger-8, 1 finger-9, 1 finger-10, 1 finger-11, 1 finger-12, 1 finger-13, 1 finger-14, 1 finger-15, 1 finger-16, 1 finger-17, 1 finger-18, 1 finger-19, 1 Trapezium, 1 Trapezoid, 1 Capitate, 1 Hamate, 1 Scaphoid, 1 Lunate, 1 Triquetrum, 1 Pisiform, 1 Radius, 1 Ulna, 5866.6ms\n",
      "Speed: 14.0ms preprocess, 5866.6ms inference, 207.0ms postprocess per image at shape (1, 3, 2048, 2048)\n"
     ]
    },
    {
     "name": "stderr",
     "output_type": "stream",
     "text": [
      "134it [15:13,  6.74s/it]"
     ]
    },
    {
     "name": "stdout",
     "output_type": "stream",
     "text": [
      "\n",
      "image 1/1 E:\\4\\data\\data\\test\\DCM\\ID195\\image1663034183469.png: 2048x2048 1 finger-1, 1 finger-2, 1 finger-3, 1 finger-4, 1 finger-5, 2 finger-6s, 1 finger-7, 1 finger-8, 1 finger-9, 1 finger-10, 1 finger-11, 1 finger-12, 1 finger-13, 1 finger-14, 1 finger-15, 1 finger-16, 1 finger-17, 1 finger-18, 1 finger-19, 1 Trapezium, 1 Trapezoid, 1 Capitate, 1 Hamate, 1 Scaphoid, 1 Lunate, 1 Triquetrum, 1 Pisiform, 1 Radius, 1 Ulna, 5909.2ms\n",
      "Speed: 14.0ms preprocess, 5909.2ms inference, 232.0ms postprocess per image at shape (1, 3, 2048, 2048)\n"
     ]
    },
    {
     "name": "stderr",
     "output_type": "stream",
     "text": [
      "135it [15:20,  6.77s/it]"
     ]
    },
    {
     "name": "stdout",
     "output_type": "stream",
     "text": [
      "\n",
      "image 1/1 E:\\4\\data\\data\\test\\DCM\\ID195\\image1663034202366.png: 2048x2048 1 finger-1, 1 finger-2, 1 finger-3, 1 finger-4, 1 finger-5, 1 finger-6, 1 finger-7, 1 finger-8, 1 finger-9, 1 finger-10, 1 finger-11, 1 finger-12, 1 finger-13, 1 finger-14, 1 finger-15, 1 finger-16, 1 finger-17, 1 finger-18, 1 finger-19, 1 Trapezium, 1 Trapezoid, 1 Capitate, 1 Hamate, 1 Scaphoid, 1 Lunate, 1 Triquetrum, 1 Pisiform, 1 Radius, 1 Ulna, 5923.9ms\n",
      "Speed: 14.0ms preprocess, 5923.9ms inference, 216.0ms postprocess per image at shape (1, 3, 2048, 2048)\n"
     ]
    },
    {
     "name": "stderr",
     "output_type": "stream",
     "text": [
      "136it [15:26,  6.78s/it]"
     ]
    },
    {
     "name": "stdout",
     "output_type": "stream",
     "text": [
      "\n",
      "image 1/1 E:\\4\\data\\data\\test\\DCM\\ID196\\image1663034255194.png: 2048x2048 1 finger-1, 1 finger-2, 1 finger-3, 1 finger-4, 1 finger-5, 1 finger-6, 1 finger-7, 1 finger-8, 1 finger-9, 2 finger-10s, 1 finger-11, 1 finger-12, 1 finger-13, 1 finger-14, 1 finger-15, 1 finger-16, 1 finger-17, 1 finger-18, 1 finger-19, 1 Trapezium, 1 Trapezoid, 1 Capitate, 1 Hamate, 1 Scaphoid, 1 Lunate, 1 Triquetrum, 1 Pisiform, 1 Radius, 1 Ulna, 5850.6ms\n",
      "Speed: 14.0ms preprocess, 5850.6ms inference, 232.9ms postprocess per image at shape (1, 3, 2048, 2048)\n"
     ]
    },
    {
     "name": "stderr",
     "output_type": "stream",
     "text": [
      "137it [15:33,  6.79s/it]"
     ]
    },
    {
     "name": "stdout",
     "output_type": "stream",
     "text": [
      "\n",
      "image 1/1 E:\\4\\data\\data\\test\\DCM\\ID196\\image1663034294082.png: 2048x2048 1 finger-1, 1 finger-2, 1 finger-3, 1 finger-4, 1 finger-5, 1 finger-6, 1 finger-7, 1 finger-8, 1 finger-9, 1 finger-10, 1 finger-11, 2 finger-12s, 1 finger-13, 1 finger-14, 1 finger-15, 1 finger-16, 1 finger-17, 1 finger-18, 1 finger-19, 1 Trapezium, 1 Trapezoid, 1 Capitate, 1 Hamate, 1 Scaphoid, 1 Lunate, 1 Triquetrum, 1 Pisiform, 1 Radius, 1 Ulna, 5804.9ms\n",
      "Speed: 15.0ms preprocess, 5804.9ms inference, 223.0ms postprocess per image at shape (1, 3, 2048, 2048)\n"
     ]
    },
    {
     "name": "stderr",
     "output_type": "stream",
     "text": [
      "138it [15:40,  6.79s/it]"
     ]
    },
    {
     "name": "stdout",
     "output_type": "stream",
     "text": [
      "\n",
      "image 1/1 E:\\4\\data\\data\\test\\DCM\\ID197\\image1663034350052.png: 2048x2048 1 finger-1, 1 finger-2, 1 finger-3, 1 finger-4, 1 finger-5, 1 finger-6, 1 finger-7, 1 finger-8, 1 finger-9, 1 finger-10, 1 finger-11, 1 finger-12, 1 finger-13, 1 finger-14, 1 finger-15, 1 finger-16, 1 finger-17, 1 finger-18, 1 finger-19, 1 Trapezium, 1 Trapezoid, 1 Capitate, 1 Hamate, 1 Scaphoid, 1 Lunate, 1 Triquetrum, 1 Pisiform, 1 Radius, 1 Ulna, 5898.7ms\n",
      "Speed: 15.0ms preprocess, 5898.7ms inference, 218.0ms postprocess per image at shape (1, 3, 2048, 2048)\n"
     ]
    },
    {
     "name": "stderr",
     "output_type": "stream",
     "text": [
      "139it [15:47,  6.79s/it]"
     ]
    },
    {
     "name": "stdout",
     "output_type": "stream",
     "text": [
      "\n",
      "image 1/1 E:\\4\\data\\data\\test\\DCM\\ID197\\image1663034378702.png: 2048x2048 1 finger-1, 1 finger-2, 1 finger-3, 1 finger-4, 1 finger-5, 1 finger-6, 1 finger-7, 1 finger-8, 1 finger-9, 1 finger-10, 1 finger-11, 1 finger-12, 1 finger-13, 1 finger-14, 1 finger-15, 1 finger-16, 1 finger-17, 1 finger-18, 1 finger-19, 1 Trapezium, 1 Trapezoid, 1 Capitate, 1 Hamate, 1 Scaphoid, 1 Lunate, 1 Triquetrum, 1 Pisiform, 1 Radius, 1 Ulna, 5797.9ms\n",
      "Speed: 13.9ms preprocess, 5797.9ms inference, 218.1ms postprocess per image at shape (1, 3, 2048, 2048)\n"
     ]
    },
    {
     "name": "stderr",
     "output_type": "stream",
     "text": [
      "140it [15:53,  6.76s/it]"
     ]
    },
    {
     "name": "stdout",
     "output_type": "stream",
     "text": [
      "\n",
      "image 1/1 E:\\4\\data\\data\\test\\DCM\\ID198\\image1663034430558.png: 2048x2048 1 finger-1, 1 finger-2, 1 finger-3, 1 finger-4, 1 finger-5, 1 finger-6, 1 finger-7, 1 finger-8, 1 finger-9, 1 finger-10, 1 finger-11, 1 finger-12, 1 finger-13, 1 finger-14, 1 finger-15, 1 finger-16, 1 finger-17, 1 finger-18, 1 finger-19, 1 Trapezium, 1 Trapezoid, 1 Capitate, 1 Hamate, 1 Scaphoid, 1 Lunate, 1 Triquetrum, 1 Pisiform, 1 Radius, 1 Ulna, 5821.7ms\n",
      "Speed: 15.0ms preprocess, 5821.7ms inference, 209.0ms postprocess per image at shape (1, 3, 2048, 2048)\n"
     ]
    },
    {
     "name": "stderr",
     "output_type": "stream",
     "text": [
      "141it [16:00,  6.76s/it]"
     ]
    },
    {
     "name": "stdout",
     "output_type": "stream",
     "text": [
      "\n",
      "image 1/1 E:\\4\\data\\data\\test\\DCM\\ID198\\image1663034460436.png: 2048x2048 1 finger-1, 1 finger-2, 1 finger-3, 1 finger-4, 1 finger-5, 1 finger-6, 1 finger-7, 1 finger-8, 1 finger-9, 1 finger-10, 1 finger-11, 1 finger-12, 1 finger-13, 1 finger-14, 1 finger-15, 1 finger-16, 1 finger-17, 1 finger-18, 1 finger-19, 1 Trapezium, 1 Trapezoid, 1 Capitate, 1 Hamate, 1 Scaphoid, 1 Lunate, 1 Triquetrum, 1 Pisiform, 1 Radius, 1 Ulna, 5909.3ms\n",
      "Speed: 16.0ms preprocess, 5909.3ms inference, 215.0ms postprocess per image at shape (1, 3, 2048, 2048)\n"
     ]
    },
    {
     "name": "stderr",
     "output_type": "stream",
     "text": [
      "142it [16:07,  6.77s/it]"
     ]
    },
    {
     "name": "stdout",
     "output_type": "stream",
     "text": [
      "\n",
      "image 1/1 E:\\4\\data\\data\\test\\DCM\\ID199\\image1663035050652.png: 2048x2048 1 finger-1, 1 finger-2, 1 finger-3, 1 finger-4, 1 finger-5, 1 finger-6, 1 finger-7, 1 finger-8, 1 finger-9, 1 finger-10, 1 finger-11, 1 finger-12, 1 finger-13, 1 finger-14, 1 finger-15, 1 finger-16, 1 finger-17, 1 finger-18, 1 finger-19, 1 Trapezium, 1 Trapezoid, 1 Capitate, 1 Hamate, 1 Scaphoid, 1 Lunate, 1 Triquetrum, 1 Pisiform, 1 Radius, 1 Ulna, 5903.3ms\n",
      "Speed: 15.0ms preprocess, 5903.3ms inference, 206.5ms postprocess per image at shape (1, 3, 2048, 2048)\n"
     ]
    },
    {
     "name": "stderr",
     "output_type": "stream",
     "text": [
      "143it [16:14,  6.77s/it]"
     ]
    },
    {
     "name": "stdout",
     "output_type": "stream",
     "text": [
      "\n",
      "image 1/1 E:\\4\\data\\data\\test\\DCM\\ID199\\image1663035076575.png: 2048x2048 1 finger-1, 1 finger-2, 1 finger-3, 1 finger-4, 1 finger-5, 1 finger-6, 1 finger-7, 1 finger-8, 1 finger-9, 1 finger-10, 1 finger-11, 1 finger-12, 1 finger-13, 1 finger-14, 1 finger-15, 1 finger-16, 1 finger-17, 1 finger-18, 1 finger-19, 1 Trapezium, 1 Trapezoid, 1 Capitate, 1 Hamate, 1 Scaphoid, 1 Lunate, 1 Triquetrum, 1 Pisiform, 1 Radius, 1 Ulna, 5820.9ms\n",
      "Speed: 15.0ms preprocess, 5820.9ms inference, 217.1ms postprocess per image at shape (1, 3, 2048, 2048)\n"
     ]
    },
    {
     "name": "stderr",
     "output_type": "stream",
     "text": [
      "144it [16:20,  6.76s/it]"
     ]
    },
    {
     "name": "stdout",
     "output_type": "stream",
     "text": [
      "\n",
      "image 1/1 E:\\4\\data\\data\\test\\DCM\\ID200\\image1663035116382.png: 2048x2048 1 finger-1, 1 finger-2, 1 finger-3, 1 finger-4, 1 finger-5, 1 finger-6, 1 finger-7, 1 finger-8, 1 finger-9, 2 finger-10s, 1 finger-11, 1 finger-12, 1 finger-13, 1 finger-14, 1 finger-15, 1 finger-16, 1 finger-17, 1 finger-18, 1 finger-19, 1 Trapezium, 1 Trapezoid, 1 Capitate, 1 Hamate, 1 Scaphoid, 1 Lunate, 1 Triquetrum, 1 Pisiform, 1 Radius, 1 Ulna, 5833.2ms\n",
      "Speed: 15.0ms preprocess, 5833.2ms inference, 206.0ms postprocess per image at shape (1, 3, 2048, 2048)\n"
     ]
    },
    {
     "name": "stderr",
     "output_type": "stream",
     "text": [
      "145it [16:27,  6.75s/it]"
     ]
    },
    {
     "name": "stdout",
     "output_type": "stream",
     "text": [
      "\n",
      "image 1/1 E:\\4\\data\\data\\test\\DCM\\ID200\\image1663035143421.png: 2048x2048 1 finger-1, 1 finger-2, 1 finger-3, 1 finger-4, 1 finger-5, 1 finger-6, 1 finger-7, 1 finger-8, 1 finger-9, 1 finger-10, 1 finger-11, 1 finger-12, 1 finger-13, 1 finger-14, 1 finger-15, 1 finger-16, 1 finger-17, 1 finger-18, 1 finger-19, 1 Trapezium, 1 Trapezoid, 1 Capitate, 1 Hamate, 1 Scaphoid, 1 Lunate, 1 Triquetrum, 1 Pisiform, 1 Radius, 1 Ulna, 5779.2ms\n",
      "Speed: 16.0ms preprocess, 5779.2ms inference, 224.1ms postprocess per image at shape (1, 3, 2048, 2048)\n"
     ]
    },
    {
     "name": "stderr",
     "output_type": "stream",
     "text": [
      "146it [16:34,  6.73s/it]"
     ]
    },
    {
     "name": "stdout",
     "output_type": "stream",
     "text": [
      "\n",
      "image 1/1 E:\\4\\data\\data\\test\\DCM\\ID201\\image1663117163557.png: 2048x2048 1 finger-1, 1 finger-2, 1 finger-3, 1 finger-4, 1 finger-5, 2 finger-6s, 1 finger-7, 1 finger-8, 1 finger-9, 1 finger-10, 1 finger-11, 1 finger-12, 1 finger-13, 1 finger-14, 1 finger-15, 1 finger-16, 1 finger-17, 1 finger-18, 1 finger-19, 1 Trapezium, 1 Trapezoid, 1 Capitate, 1 Hamate, 1 Scaphoid, 1 Lunate, 1 Triquetrum, 1 Pisiform, 1 Radius, 1 Ulna, 5914.9ms\n",
      "Speed: 14.0ms preprocess, 5914.9ms inference, 218.9ms postprocess per image at shape (1, 3, 2048, 2048)\n"
     ]
    },
    {
     "name": "stderr",
     "output_type": "stream",
     "text": [
      "147it [16:41,  6.79s/it]"
     ]
    },
    {
     "name": "stdout",
     "output_type": "stream",
     "text": [
      "\n",
      "image 1/1 E:\\4\\data\\data\\test\\DCM\\ID201\\image1663117191552.png: 2048x2048 1 finger-1, 1 finger-2, 1 finger-3, 1 finger-4, 1 finger-5, 1 finger-6, 1 finger-7, 1 finger-8, 1 finger-9, 1 finger-10, 1 finger-11, 1 finger-12, 1 finger-13, 1 finger-14, 1 finger-15, 1 finger-16, 1 finger-17, 1 finger-18, 1 finger-19, 1 Trapezium, 1 Trapezoid, 1 Capitate, 1 Hamate, 1 Scaphoid, 1 Lunate, 1 Triquetrum, 1 Pisiform, 1 Radius, 1 Ulna, 5810.1ms\n",
      "Speed: 16.0ms preprocess, 5810.1ms inference, 219.0ms postprocess per image at shape (1, 3, 2048, 2048)\n"
     ]
    },
    {
     "name": "stderr",
     "output_type": "stream",
     "text": [
      "148it [16:48,  6.77s/it]"
     ]
    },
    {
     "name": "stdout",
     "output_type": "stream",
     "text": [
      "\n",
      "image 1/1 E:\\4\\data\\data\\test\\DCM\\ID203\\image1663117343870.png: 2048x2048 1 finger-1, 1 finger-2, 1 finger-3, 1 finger-4, 1 finger-5, 1 finger-6, 1 finger-7, 1 finger-8, 1 finger-9, 1 finger-10, 1 finger-11, 1 finger-12, 1 finger-13, 1 finger-14, 1 finger-15, 1 finger-16, 1 finger-17, 1 finger-18, 1 finger-19, 1 Trapezium, 1 Trapezoid, 1 Capitate, 1 Hamate, 1 Scaphoid, 1 Lunate, 1 Triquetrum, 1 Pisiform, 1 Radius, 1 Ulna, 5842.2ms\n",
      "Speed: 15.0ms preprocess, 5842.2ms inference, 213.0ms postprocess per image at shape (1, 3, 2048, 2048)\n"
     ]
    },
    {
     "name": "stderr",
     "output_type": "stream",
     "text": [
      "149it [16:54,  6.76s/it]"
     ]
    },
    {
     "name": "stdout",
     "output_type": "stream",
     "text": [
      "\n",
      "image 1/1 E:\\4\\data\\data\\test\\DCM\\ID203\\image1663117371313.png: 2048x2048 1 finger-1, 1 finger-2, 1 finger-3, 1 finger-4, 1 finger-5, 1 finger-6, 1 finger-7, 1 finger-8, 1 finger-9, 1 finger-10, 1 finger-11, 1 finger-12, 1 finger-13, 1 finger-14, 1 finger-15, 1 finger-16, 1 finger-17, 1 finger-18, 1 finger-19, 1 Trapezium, 1 Trapezoid, 1 Capitate, 1 Hamate, 1 Scaphoid, 1 Lunate, 1 Triquetrum, 1 Pisiform, 1 Radius, 1 Ulna, 5908.2ms\n",
      "Speed: 17.0ms preprocess, 5908.2ms inference, 224.9ms postprocess per image at shape (1, 3, 2048, 2048)\n"
     ]
    },
    {
     "name": "stderr",
     "output_type": "stream",
     "text": [
      "150it [17:01,  6.78s/it]"
     ]
    },
    {
     "name": "stdout",
     "output_type": "stream",
     "text": [
      "\n",
      "image 1/1 E:\\4\\data\\data\\test\\DCM\\ID204\\image1663117424196.png: 2048x2048 1 finger-1, 1 finger-2, 1 finger-3, 1 finger-4, 1 finger-5, 1 finger-6, 1 finger-7, 1 finger-8, 1 finger-9, 1 finger-10, 1 finger-11, 1 finger-12, 1 finger-13, 1 finger-14, 1 finger-15, 1 finger-16, 1 finger-17, 1 finger-18, 1 finger-19, 1 Trapezium, 1 Trapezoid, 1 Capitate, 1 Hamate, 1 Scaphoid, 1 Lunate, 1 Triquetrum, 1 Pisiform, 1 Radius, 1 Ulna, 5888.5ms\n",
      "Speed: 16.0ms preprocess, 5888.5ms inference, 211.9ms postprocess per image at shape (1, 3, 2048, 2048)\n"
     ]
    },
    {
     "name": "stderr",
     "output_type": "stream",
     "text": [
      "151it [17:08,  6.78s/it]"
     ]
    },
    {
     "name": "stdout",
     "output_type": "stream",
     "text": [
      "\n",
      "image 1/1 E:\\4\\data\\data\\test\\DCM\\ID204\\image1663117441830.png: 2048x2048 1 finger-1, 1 finger-2, 1 finger-3, 1 finger-4, 1 finger-5, 1 finger-6, 1 finger-7, 1 finger-8, 1 finger-9, 1 finger-10, 1 finger-11, 1 finger-12, 1 finger-13, 1 finger-14, 1 finger-15, 1 finger-16, 1 finger-17, 1 finger-18, 1 finger-19, 1 Trapezium, 1 Trapezoid, 1 Capitate, 1 Hamate, 1 Scaphoid, 1 Lunate, 1 Triquetrum, 1 Pisiform, 1 Radius, 1 Ulna, 5833.1ms\n",
      "Speed: 14.0ms preprocess, 5833.1ms inference, 224.0ms postprocess per image at shape (1, 3, 2048, 2048)\n"
     ]
    },
    {
     "name": "stderr",
     "output_type": "stream",
     "text": [
      "152it [17:15,  6.77s/it]"
     ]
    },
    {
     "name": "stdout",
     "output_type": "stream",
     "text": [
      "\n",
      "image 1/1 E:\\4\\data\\data\\test\\DCM\\ID205\\image1663117541589.png: 2048x2048 1 finger-1, 1 finger-2, 1 finger-3, 1 finger-4, 1 finger-5, 1 finger-6, 1 finger-7, 1 finger-8, 1 finger-9, 1 finger-10, 1 finger-11, 1 finger-12, 1 finger-13, 1 finger-14, 1 finger-15, 1 finger-16, 1 finger-17, 1 finger-18, 1 finger-19, 1 Trapezium, 1 Trapezoid, 1 Capitate, 1 Hamate, 1 Scaphoid, 1 Lunate, 1 Triquetrum, 1 Pisiform, 1 Radius, 1 Ulna, 5723.2ms\n",
      "Speed: 14.0ms preprocess, 5723.2ms inference, 215.0ms postprocess per image at shape (1, 3, 2048, 2048)\n"
     ]
    },
    {
     "name": "stderr",
     "output_type": "stream",
     "text": [
      "153it [17:21,  6.72s/it]"
     ]
    },
    {
     "name": "stdout",
     "output_type": "stream",
     "text": [
      "\n",
      "image 1/1 E:\\4\\data\\data\\test\\DCM\\ID205\\image1663117559768.png: 2048x2048 1 finger-1, 1 finger-2, 1 finger-3, 1 finger-4, 1 finger-5, 1 finger-6, 1 finger-7, 1 finger-8, 1 finger-9, 1 finger-10, 1 finger-11, 1 finger-12, 1 finger-13, 1 finger-14, 1 finger-15, 1 finger-16, 1 finger-17, 1 finger-18, 1 finger-19, 1 Trapezium, 1 Trapezoid, 1 Capitate, 1 Hamate, 1 Scaphoid, 1 Lunate, 1 Triquetrum, 1 Pisiform, 1 Radius, 1 Ulna, 5782.0ms\n",
      "Speed: 15.0ms preprocess, 5782.0ms inference, 226.0ms postprocess per image at shape (1, 3, 2048, 2048)\n"
     ]
    },
    {
     "name": "stderr",
     "output_type": "stream",
     "text": [
      "154it [17:28,  6.71s/it]"
     ]
    },
    {
     "name": "stdout",
     "output_type": "stream",
     "text": [
      "\n",
      "image 1/1 E:\\4\\data\\data\\test\\DCM\\ID206\\image1663117636696.png: 2048x2048 1 finger-1, 1 finger-2, 1 finger-3, 1 finger-4, 1 finger-5, 1 finger-6, 1 finger-7, 1 finger-8, 1 finger-9, 1 finger-10, 1 finger-11, 1 finger-12, 1 finger-13, 1 finger-14, 1 finger-15, 1 finger-16, 1 finger-17, 1 finger-18, 1 finger-19, 1 Trapezium, 1 Trapezoid, 1 Capitate, 1 Hamate, 1 Scaphoid, 1 Lunate, 1 Triquetrum, 1 Pisiform, 1 Radius, 1 Ulna, 5882.8ms\n",
      "Speed: 14.0ms preprocess, 5882.8ms inference, 224.1ms postprocess per image at shape (1, 3, 2048, 2048)\n"
     ]
    },
    {
     "name": "stderr",
     "output_type": "stream",
     "text": [
      "155it [17:35,  6.73s/it]"
     ]
    },
    {
     "name": "stdout",
     "output_type": "stream",
     "text": [
      "\n",
      "image 1/1 E:\\4\\data\\data\\test\\DCM\\ID206\\image1663117652471.png: 2048x2048 1 finger-1, 1 finger-2, 1 finger-3, 1 finger-4, 1 finger-5, 1 finger-6, 1 finger-7, 1 finger-8, 1 finger-9, 1 finger-10, 1 finger-11, 1 finger-12, 1 finger-13, 1 finger-14, 1 finger-15, 1 finger-16, 1 finger-17, 1 finger-18, 1 finger-19, 1 Trapezium, 1 Trapezoid, 1 Capitate, 1 Hamate, 1 Scaphoid, 1 Lunate, 1 Triquetrum, 1 Pisiform, 1 Radius, 1 Ulna, 5887.8ms\n",
      "Speed: 14.0ms preprocess, 5887.8ms inference, 222.0ms postprocess per image at shape (1, 3, 2048, 2048)\n"
     ]
    },
    {
     "name": "stderr",
     "output_type": "stream",
     "text": [
      "156it [17:42,  6.75s/it]"
     ]
    },
    {
     "name": "stdout",
     "output_type": "stream",
     "text": [
      "\n",
      "image 1/1 E:\\4\\data\\data\\test\\DCM\\ID207\\image1663117714293.png: 2048x2048 1 finger-1, 1 finger-2, 1 finger-3, 1 finger-4, 1 finger-5, 1 finger-6, 1 finger-7, 1 finger-8, 1 finger-9, 1 finger-10, 1 finger-11, 1 finger-12, 1 finger-13, 1 finger-14, 1 finger-15, 1 finger-16, 1 finger-17, 1 finger-18, 1 finger-19, 1 Trapezium, 1 Trapezoid, 1 Capitate, 1 Hamate, 1 Scaphoid, 1 Lunate, 1 Triquetrum, 1 Pisiform, 1 Radius, 1 Ulna, 5822.5ms\n",
      "Speed: 17.0ms preprocess, 5822.5ms inference, 214.0ms postprocess per image at shape (1, 3, 2048, 2048)\n"
     ]
    },
    {
     "name": "stderr",
     "output_type": "stream",
     "text": [
      "157it [17:48,  6.74s/it]"
     ]
    },
    {
     "name": "stdout",
     "output_type": "stream",
     "text": [
      "\n",
      "image 1/1 E:\\4\\data\\data\\test\\DCM\\ID207\\image1663117733450.png: 2048x2048 1 finger-1, 1 finger-2, 1 finger-3, 1 finger-4, 1 finger-5, 1 finger-6, 1 finger-7, 1 finger-8, 1 finger-9, 1 finger-10, 1 finger-11, 1 finger-12, 1 finger-13, 1 finger-14, 1 finger-15, 1 finger-16, 1 finger-17, 1 finger-18, 1 finger-19, 1 Trapezium, 1 Trapezoid, 1 Capitate, 1 Hamate, 1 Scaphoid, 1 Lunate, 1 Triquetrum, 1 Pisiform, 1 Radius, 1 Ulna, 5819.7ms\n",
      "Speed: 15.0ms preprocess, 5819.7ms inference, 215.9ms postprocess per image at shape (1, 3, 2048, 2048)\n"
     ]
    },
    {
     "name": "stderr",
     "output_type": "stream",
     "text": [
      "158it [17:55,  6.73s/it]"
     ]
    },
    {
     "name": "stdout",
     "output_type": "stream",
     "text": [
      "\n",
      "image 1/1 E:\\4\\data\\data\\test\\DCM\\ID208\\image1663117797044.png: 2048x2048 1 finger-1, 1 finger-2, 1 finger-3, 1 finger-4, 1 finger-5, 1 finger-6, 1 finger-7, 1 finger-8, 1 finger-9, 1 finger-10, 1 finger-11, 1 finger-12, 1 finger-13, 1 finger-14, 1 finger-15, 1 finger-16, 1 finger-17, 1 finger-18, 1 finger-19, 1 Trapezium, 1 Trapezoid, 1 Capitate, 1 Hamate, 1 Scaphoid, 1 Lunate, 1 Triquetrum, 1 Pisiform, 1 Radius, 1 Ulna, 5855.2ms\n",
      "Speed: 15.0ms preprocess, 5855.2ms inference, 212.9ms postprocess per image at shape (1, 3, 2048, 2048)\n"
     ]
    },
    {
     "name": "stderr",
     "output_type": "stream",
     "text": [
      "159it [18:02,  6.75s/it]"
     ]
    },
    {
     "name": "stdout",
     "output_type": "stream",
     "text": [
      "\n",
      "image 1/1 E:\\4\\data\\data\\test\\DCM\\ID208\\image1663117823066.png: 2048x2048 1 finger-1, 1 finger-2, 1 finger-3, 1 finger-4, 1 finger-5, 1 finger-6, 1 finger-7, 1 finger-8, 1 finger-9, 1 finger-10, 1 finger-11, 1 finger-12, 1 finger-13, 1 finger-14, 1 finger-15, 1 finger-16, 1 finger-17, 1 finger-18, 1 finger-19, 1 Trapezium, 1 Trapezoid, 1 Capitate, 1 Hamate, 1 Scaphoid, 1 Lunate, 1 Triquetrum, 1 Pisiform, 1 Radius, 1 Ulna, 5808.2ms\n",
      "Speed: 15.0ms preprocess, 5808.2ms inference, 211.1ms postprocess per image at shape (1, 3, 2048, 2048)\n"
     ]
    },
    {
     "name": "stderr",
     "output_type": "stream",
     "text": [
      "160it [18:08,  6.73s/it]"
     ]
    },
    {
     "name": "stdout",
     "output_type": "stream",
     "text": [
      "\n",
      "image 1/1 E:\\4\\data\\data\\test\\DCM\\ID209\\image1663117894735.png: 2048x2048 1 finger-1, 1 finger-2, 1 finger-3, 1 finger-4, 1 finger-5, 1 finger-6, 1 finger-7, 1 finger-8, 1 finger-9, 1 finger-10, 1 finger-11, 1 finger-12, 1 finger-13, 2 finger-14s, 1 finger-15, 1 finger-16, 1 finger-17, 1 finger-18, 1 finger-19, 1 Trapezium, 1 Trapezoid, 1 Capitate, 1 Hamate, 1 Scaphoid, 1 Lunate, 1 Triquetrum, 1 Pisiform, 1 Radius, 1 Ulna, 5817.6ms\n",
      "Speed: 15.0ms preprocess, 5817.6ms inference, 212.1ms postprocess per image at shape (1, 3, 2048, 2048)\n"
     ]
    },
    {
     "name": "stderr",
     "output_type": "stream",
     "text": [
      "161it [18:15,  6.73s/it]"
     ]
    },
    {
     "name": "stdout",
     "output_type": "stream",
     "text": [
      "\n",
      "image 1/1 E:\\4\\data\\data\\test\\DCM\\ID209\\image1663117920899.png: 2048x2048 1 finger-1, 1 finger-2, 1 finger-3, 1 finger-4, 1 finger-5, 1 finger-6, 1 finger-7, 1 finger-8, 1 finger-9, 1 finger-10, 1 finger-11, 1 finger-12, 1 finger-13, 1 finger-14, 1 finger-15, 1 finger-16, 1 finger-17, 1 finger-18, 1 finger-19, 1 Trapezium, 1 Trapezoid, 1 Capitate, 1 Hamate, 1 Scaphoid, 1 Lunate, 1 Triquetrum, 1 Pisiform, 1 Radius, 1 Ulna, 5836.1ms\n",
      "Speed: 15.0ms preprocess, 5836.1ms inference, 210.0ms postprocess per image at shape (1, 3, 2048, 2048)\n"
     ]
    },
    {
     "name": "stderr",
     "output_type": "stream",
     "text": [
      "162it [18:22,  6.74s/it]"
     ]
    },
    {
     "name": "stdout",
     "output_type": "stream",
     "text": [
      "\n",
      "image 1/1 E:\\4\\data\\data\\test\\DCM\\ID210\\image1663117976084.png: 2048x2048 1 finger-1, 1 finger-2, 1 finger-3, 1 finger-4, 1 finger-5, 1 finger-6, 1 finger-7, 1 finger-8, 1 finger-9, 1 finger-10, 1 finger-11, 1 finger-12, 1 finger-13, 1 finger-14, 1 finger-15, 1 finger-16, 1 finger-17, 1 finger-18, 1 finger-19, 1 Trapezium, 1 Trapezoid, 1 Capitate, 1 Hamate, 1 Scaphoid, 1 Lunate, 1 Triquetrum, 1 Pisiform, 1 Radius, 1 Ulna, 5794.6ms\n",
      "Speed: 16.0ms preprocess, 5794.6ms inference, 219.1ms postprocess per image at shape (1, 3, 2048, 2048)\n"
     ]
    },
    {
     "name": "stderr",
     "output_type": "stream",
     "text": [
      "163it [18:29,  6.74s/it]"
     ]
    },
    {
     "name": "stdout",
     "output_type": "stream",
     "text": [
      "\n",
      "image 1/1 E:\\4\\data\\data\\test\\DCM\\ID210\\image1663117993481.png: 2048x2048 1 finger-1, 1 finger-2, 1 finger-3, 1 finger-4, 1 finger-5, 1 finger-6, 1 finger-7, 1 finger-8, 1 finger-9, 1 finger-10, 1 finger-11, 1 finger-12, 1 finger-13, 1 finger-14, 1 finger-15, 1 finger-16, 1 finger-17, 1 finger-18, 1 finger-19, 1 Trapezium, 1 Trapezoid, 1 Capitate, 1 Hamate, 1 Scaphoid, 1 Lunate, 1 Triquetrum, 1 Pisiform, 1 Radius, 1 Ulna, 5755.2ms\n",
      "Speed: 16.0ms preprocess, 5755.2ms inference, 207.0ms postprocess per image at shape (1, 3, 2048, 2048)\n"
     ]
    },
    {
     "name": "stderr",
     "output_type": "stream",
     "text": [
      "164it [18:35,  6.71s/it]"
     ]
    },
    {
     "name": "stdout",
     "output_type": "stream",
     "text": [
      "\n",
      "image 1/1 E:\\4\\data\\data\\test\\DCM\\ID211\\image1663118048219.png: 2048x2048 1 finger-1, 1 finger-2, 1 finger-3, 1 finger-4, 1 finger-5, 1 finger-6, 1 finger-7, 1 finger-8, 1 finger-9, 2 finger-10s, 1 finger-11, 1 finger-12, 1 finger-13, 1 finger-14, 1 finger-15, 1 finger-16, 2 finger-17s, 1 finger-18, 1 finger-19, 1 Trapezium, 1 Trapezoid, 1 Capitate, 1 Hamate, 1 Scaphoid, 1 Lunate, 1 Triquetrum, 1 Pisiform, 1 Radius, 1 Ulna, 5892.7ms\n",
      "Speed: 14.0ms preprocess, 5892.7ms inference, 313.9ms postprocess per image at shape (1, 3, 2048, 2048)\n"
     ]
    },
    {
     "name": "stderr",
     "output_type": "stream",
     "text": [
      "165it [18:42,  6.81s/it]"
     ]
    },
    {
     "name": "stdout",
     "output_type": "stream",
     "text": [
      "\n",
      "image 1/1 E:\\4\\data\\data\\test\\DCM\\ID211\\image1663118074508.png: 2048x2048 1 finger-1, 1 finger-2, 1 finger-3, 1 finger-4, 1 finger-5, 1 finger-6, 1 finger-7, 1 finger-8, 1 finger-9, 1 finger-10, 1 finger-11, 1 finger-12, 1 finger-13, 1 finger-14, 1 finger-15, 1 finger-16, 1 finger-17, 1 finger-18, 1 finger-19, 1 Trapezium, 1 Trapezoid, 1 Capitate, 1 Hamate, 1 Scaphoid, 1 Lunate, 1 Triquetrum, 1 Pisiform, 1 Radius, 1 Ulna, 5728.5ms\n",
      "Speed: 13.0ms preprocess, 5728.5ms inference, 209.0ms postprocess per image at shape (1, 3, 2048, 2048)\n"
     ]
    },
    {
     "name": "stderr",
     "output_type": "stream",
     "text": [
      "166it [18:49,  6.77s/it]"
     ]
    },
    {
     "name": "stdout",
     "output_type": "stream",
     "text": [
      "\n",
      "image 1/1 E:\\4\\data\\data\\test\\DCM\\ID212\\image1663118126334.png: 2048x2048 1 finger-1, 1 finger-2, 1 finger-3, 1 finger-4, 1 finger-5, 1 finger-6, 1 finger-7, 1 finger-8, 1 finger-9, 1 finger-10, 1 finger-11, 1 finger-12, 1 finger-13, 1 finger-14, 1 finger-15, 1 finger-16, 1 finger-17, 1 finger-18, 1 finger-19, 1 Trapezium, 1 Trapezoid, 1 Capitate, 1 Hamate, 1 Scaphoid, 1 Lunate, 1 Triquetrum, 1 Pisiform, 1 Radius, 1 Ulna, 5827.5ms\n",
      "Speed: 13.9ms preprocess, 5827.5ms inference, 210.9ms postprocess per image at shape (1, 3, 2048, 2048)\n"
     ]
    },
    {
     "name": "stderr",
     "output_type": "stream",
     "text": [
      "167it [18:56,  6.74s/it]"
     ]
    },
    {
     "name": "stdout",
     "output_type": "stream",
     "text": [
      "\n",
      "image 1/1 E:\\4\\data\\data\\test\\DCM\\ID212\\image1663118153145.png: 2048x2048 1 finger-1, 1 finger-2, 1 finger-3, 1 finger-4, 1 finger-5, 1 finger-6, 1 finger-7, 1 finger-8, 1 finger-9, 1 finger-10, 1 finger-11, 1 finger-12, 1 finger-13, 1 finger-14, 1 finger-15, 1 finger-16, 1 finger-17, 1 finger-18, 1 finger-19, 1 Trapezium, 1 Trapezoid, 1 Capitate, 1 Hamate, 1 Scaphoid, 1 Lunate, 1 Triquetrum, 1 Pisiform, 1 Radius, 1 Ulna, 5829.7ms\n",
      "Speed: 12.0ms preprocess, 5829.7ms inference, 224.0ms postprocess per image at shape (1, 3, 2048, 2048)\n"
     ]
    },
    {
     "name": "stderr",
     "output_type": "stream",
     "text": [
      "168it [19:02,  6.73s/it]"
     ]
    },
    {
     "name": "stdout",
     "output_type": "stream",
     "text": [
      "\n",
      "image 1/1 E:\\4\\data\\data\\test\\DCM\\ID213\\image1663118367923.png: 2048x2048 1 finger-1, 1 finger-2, 1 finger-3, 1 finger-4, 1 finger-5, 1 finger-6, 1 finger-7, 1 finger-8, 1 finger-9, 1 finger-10, 1 finger-11, 1 finger-12, 1 finger-13, 1 finger-14, 1 finger-15, 1 finger-16, 1 finger-17, 1 finger-18, 1 finger-19, 1 Trapezium, 1 Trapezoid, 1 Capitate, 1 Hamate, 1 Scaphoid, 1 Lunate, 1 Triquetrum, 1 Pisiform, 1 Radius, 1 Ulna, 5877.7ms\n",
      "Speed: 13.0ms preprocess, 5877.7ms inference, 229.0ms postprocess per image at shape (1, 3, 2048, 2048)\n"
     ]
    },
    {
     "name": "stderr",
     "output_type": "stream",
     "text": [
      "169it [19:09,  6.75s/it]"
     ]
    },
    {
     "name": "stdout",
     "output_type": "stream",
     "text": [
      "\n",
      "image 1/1 E:\\4\\data\\data\\test\\DCM\\ID213\\image1663118386163.png: 2048x2048 1 finger-1, 1 finger-2, 1 finger-3, 1 finger-4, 1 finger-5, 1 finger-6, 1 finger-7, 1 finger-8, 1 finger-9, 1 finger-10, 1 finger-11, 1 finger-12, 1 finger-13, 1 finger-14, 1 finger-15, 1 finger-16, 1 finger-17, 1 finger-18, 1 finger-19, 1 Trapezium, 1 Trapezoid, 1 Capitate, 1 Hamate, 1 Scaphoid, 1 Lunate, 1 Triquetrum, 1 Pisiform, 1 Radius, 1 Ulna, 5826.6ms\n",
      "Speed: 15.0ms preprocess, 5826.6ms inference, 214.0ms postprocess per image at shape (1, 3, 2048, 2048)\n"
     ]
    },
    {
     "name": "stderr",
     "output_type": "stream",
     "text": [
      "170it [19:16,  6.74s/it]"
     ]
    },
    {
     "name": "stdout",
     "output_type": "stream",
     "text": [
      "\n",
      "image 1/1 E:\\4\\data\\data\\test\\DCM\\ID214\\image1663118622397.png: 2048x2048 1 finger-1, 1 finger-2, 1 finger-3, 1 finger-4, 1 finger-5, 1 finger-6, 1 finger-7, 1 finger-8, 1 finger-9, 1 finger-10, 1 finger-11, 1 finger-12, 1 finger-13, 1 finger-14, 1 finger-15, 1 finger-16, 1 finger-17, 1 finger-18, 1 finger-19, 1 Trapezium, 1 Trapezoid, 1 Capitate, 1 Hamate, 1 Scaphoid, 1 Lunate, 1 Triquetrum, 1 Pisiform, 1 Radius, 1 Ulna, 5884.3ms\n",
      "Speed: 13.0ms preprocess, 5884.3ms inference, 216.0ms postprocess per image at shape (1, 3, 2048, 2048)\n"
     ]
    },
    {
     "name": "stderr",
     "output_type": "stream",
     "text": [
      "171it [19:23,  6.76s/it]"
     ]
    },
    {
     "name": "stdout",
     "output_type": "stream",
     "text": [
      "\n",
      "image 1/1 E:\\4\\data\\data\\test\\DCM\\ID214\\image1663118652155.png: 2048x2048 1 finger-1, 1 finger-2, 1 finger-3, 1 finger-4, 1 finger-5, 1 finger-6, 1 finger-7, 1 finger-8, 1 finger-9, 1 finger-10, 1 finger-11, 1 finger-12, 1 finger-13, 1 finger-14, 1 finger-15, 1 finger-16, 1 finger-17, 1 finger-18, 1 finger-19, 1 Trapezium, 1 Trapezoid, 1 Capitate, 1 Hamate, 1 Scaphoid, 1 Lunate, 1 Triquetrum, 1 Pisiform, 1 Radius, 1 Ulna, 5873.7ms\n",
      "Speed: 16.0ms preprocess, 5873.7ms inference, 229.0ms postprocess per image at shape (1, 3, 2048, 2048)\n"
     ]
    },
    {
     "name": "stderr",
     "output_type": "stream",
     "text": [
      "172it [19:29,  6.77s/it]"
     ]
    },
    {
     "name": "stdout",
     "output_type": "stream",
     "text": [
      "\n",
      "image 1/1 E:\\4\\data\\data\\test\\DCM\\ID215\\image1663118720815.png: 2048x2048 1 finger-1, 1 finger-2, 1 finger-3, 1 finger-4, 1 finger-5, 1 finger-6, 1 finger-7, 1 finger-8, 1 finger-9, 1 finger-10, 1 finger-11, 1 finger-12, 1 finger-13, 1 finger-14, 1 finger-15, 1 finger-16, 1 finger-17, 1 finger-18, 1 finger-19, 1 Trapezium, 1 Trapezoid, 1 Capitate, 1 Hamate, 1 Scaphoid, 1 Lunate, 1 Triquetrum, 1 Pisiform, 1 Radius, 1 Ulna, 5705.3ms\n",
      "Speed: 13.0ms preprocess, 5705.3ms inference, 205.0ms postprocess per image at shape (1, 3, 2048, 2048)\n"
     ]
    },
    {
     "name": "stderr",
     "output_type": "stream",
     "text": [
      "173it [19:36,  6.72s/it]"
     ]
    },
    {
     "name": "stdout",
     "output_type": "stream",
     "text": [
      "\n",
      "image 1/1 E:\\4\\data\\data\\test\\DCM\\ID215\\image1663118747900.png: 2048x2048 1 finger-1, 1 finger-2, 1 finger-3, 1 finger-4, 1 finger-5, 1 finger-6, 1 finger-7, 1 finger-8, 1 finger-9, 1 finger-10, 1 finger-11, 1 finger-12, 1 finger-13, 1 finger-14, 1 finger-15, 1 finger-16, 1 finger-17, 1 finger-18, 1 finger-19, 1 Trapezium, 1 Trapezoid, 1 Capitate, 1 Hamate, 1 Scaphoid, 1 Lunate, 1 Triquetrum, 1 Pisiform, 1 Radius, 1 Ulna, 5802.0ms\n",
      "Speed: 14.0ms preprocess, 5802.0ms inference, 222.0ms postprocess per image at shape (1, 3, 2048, 2048)\n"
     ]
    },
    {
     "name": "stderr",
     "output_type": "stream",
     "text": [
      "174it [19:43,  6.73s/it]"
     ]
    },
    {
     "name": "stdout",
     "output_type": "stream",
     "text": [
      "\n",
      "image 1/1 E:\\4\\data\\data\\test\\DCM\\ID216\\image1663118800633.png: 2048x2048 1 finger-1, 1 finger-2, 1 finger-3, 1 finger-4, 1 finger-5, 1 finger-6, 1 finger-7, 1 finger-8, 1 finger-9, 1 finger-10, 1 finger-11, 1 finger-12, 1 finger-13, 1 finger-14, 1 finger-15, 1 finger-16, 1 finger-17, 1 finger-18, 1 finger-19, 1 Trapezium, 1 Trapezoid, 1 Capitate, 1 Hamate, 1 Scaphoid, 1 Lunate, 1 Triquetrum, 1 Pisiform, 1 Radius, 1 Ulna, 5799.1ms\n",
      "Speed: 14.0ms preprocess, 5799.1ms inference, 221.0ms postprocess per image at shape (1, 3, 2048, 2048)\n"
     ]
    },
    {
     "name": "stderr",
     "output_type": "stream",
     "text": [
      "175it [19:50,  6.72s/it]"
     ]
    },
    {
     "name": "stdout",
     "output_type": "stream",
     "text": [
      "\n",
      "image 1/1 E:\\4\\data\\data\\test\\DCM\\ID216\\image1663118841222.png: 2048x2048 1 finger-1, 1 finger-2, 1 finger-3, 1 finger-4, 1 finger-5, 1 finger-6, 1 finger-7, 1 finger-8, 1 finger-9, 1 finger-10, 1 finger-11, 1 finger-12, 1 finger-13, 1 finger-14, 1 finger-15, 1 finger-16, 1 finger-17, 1 finger-18, 1 finger-19, 1 Trapezium, 1 Trapezoid, 1 Capitate, 1 Hamate, 1 Scaphoid, 1 Lunate, 1 Triquetrum, 1 Pisiform, 1 Radius, 1 Ulna, 5868.6ms\n",
      "Speed: 15.0ms preprocess, 5868.6ms inference, 220.9ms postprocess per image at shape (1, 3, 2048, 2048)\n"
     ]
    },
    {
     "name": "stderr",
     "output_type": "stream",
     "text": [
      "176it [19:56,  6.74s/it]"
     ]
    },
    {
     "name": "stdout",
     "output_type": "stream",
     "text": [
      "\n",
      "image 1/1 E:\\4\\data\\data\\test\\DCM\\ID217\\image1663119447884.png: 2048x2048 1 finger-1, 1 finger-2, 1 finger-3, 1 finger-4, 1 finger-5, 1 finger-6, 1 finger-7, 1 finger-8, 1 finger-9, 1 finger-10, 1 finger-11, 1 finger-12, 1 finger-13, 1 finger-14, 1 finger-15, 1 finger-16, 1 finger-17, 1 finger-18, 1 finger-19, 1 Trapezium, 1 Trapezoid, 1 Capitate, 1 Hamate, 1 Scaphoid, 1 Lunate, 1 Triquetrum, 1 Pisiform, 1 Radius, 1 Ulna, 5911.2ms\n",
      "Speed: 14.9ms preprocess, 5911.2ms inference, 215.0ms postprocess per image at shape (1, 3, 2048, 2048)\n"
     ]
    },
    {
     "name": "stderr",
     "output_type": "stream",
     "text": [
      "177it [20:03,  6.76s/it]"
     ]
    },
    {
     "name": "stdout",
     "output_type": "stream",
     "text": [
      "\n",
      "image 1/1 E:\\4\\data\\data\\test\\DCM\\ID217\\image1663119474248.png: 2048x2048 1 finger-1, 1 finger-2, 1 finger-3, 1 finger-4, 1 finger-5, 1 finger-6, 1 finger-7, 1 finger-8, 1 finger-9, 1 finger-10, 1 finger-11, 1 finger-12, 1 finger-13, 1 finger-14, 1 finger-15, 1 finger-16, 1 finger-17, 1 finger-18, 1 finger-19, 1 Trapezium, 2 Trapezoids, 1 Capitate, 1 Hamate, 1 Scaphoid, 1 Lunate, 1 Triquetrum, 1 Pisiform, 1 Radius, 1 Ulna, 5831.5ms\n",
      "Speed: 15.0ms preprocess, 5831.5ms inference, 204.0ms postprocess per image at shape (1, 3, 2048, 2048)\n"
     ]
    },
    {
     "name": "stderr",
     "output_type": "stream",
     "text": [
      "178it [20:10,  6.75s/it]"
     ]
    },
    {
     "name": "stdout",
     "output_type": "stream",
     "text": [
      "\n",
      "image 1/1 E:\\4\\data\\data\\test\\DCM\\ID218\\image1663119739211.png: 2048x2048 1 finger-1, 1 finger-2, 1 finger-3, 1 finger-4, 1 finger-5, 1 finger-6, 1 finger-7, 1 finger-8, 1 finger-9, 1 finger-10, 1 finger-11, 1 finger-12, 1 finger-13, 1 finger-14, 1 finger-15, 1 finger-16, 1 finger-17, 1 finger-18, 1 finger-19, 1 Trapezium, 1 Trapezoid, 1 Capitate, 1 Hamate, 1 Scaphoid, 1 Lunate, 1 Triquetrum, 1 Pisiform, 1 Radius, 1 Ulna, 5860.1ms\n",
      "Speed: 14.0ms preprocess, 5860.1ms inference, 231.0ms postprocess per image at shape (1, 3, 2048, 2048)\n"
     ]
    },
    {
     "name": "stderr",
     "output_type": "stream",
     "text": [
      "179it [20:17,  6.76s/it]"
     ]
    },
    {
     "name": "stdout",
     "output_type": "stream",
     "text": [
      "\n",
      "image 1/1 E:\\4\\data\\data\\test\\DCM\\ID218\\image1663119766056.png: 2048x2048 1 finger-1, 1 finger-2, 1 finger-3, 1 finger-4, 1 finger-5, 1 finger-6, 1 finger-7, 1 finger-8, 1 finger-9, 1 finger-10, 1 finger-11, 1 finger-12, 1 finger-13, 1 finger-14, 1 finger-15, 1 finger-16, 1 finger-17, 1 finger-18, 1 finger-19, 1 Trapezium, 1 Trapezoid, 1 Capitate, 1 Hamate, 1 Scaphoid, 1 Lunate, 1 Triquetrum, 1 Pisiform, 1 Radius, 1 Ulna, 5874.5ms\n",
      "Speed: 13.0ms preprocess, 5874.5ms inference, 227.0ms postprocess per image at shape (1, 3, 2048, 2048)\n"
     ]
    },
    {
     "name": "stderr",
     "output_type": "stream",
     "text": [
      "180it [20:23,  6.76s/it]"
     ]
    },
    {
     "name": "stdout",
     "output_type": "stream",
     "text": [
      "\n",
      "image 1/1 E:\\4\\data\\data\\test\\DCM\\ID219\\image1663119807498.png: 2048x2048 1 finger-1, 1 finger-2, 1 finger-3, 1 finger-4, 1 finger-5, 1 finger-6, 1 finger-7, 1 finger-8, 1 finger-9, 1 finger-10, 1 finger-11, 1 finger-12, 1 finger-13, 1 finger-14, 1 finger-15, 1 finger-16, 1 finger-17, 1 finger-18, 1 finger-19, 1 Trapezium, 1 Trapezoid, 1 Capitate, 1 Hamate, 1 Scaphoid, 1 Lunate, 1 Triquetrum, 1 Pisiform, 1 Radius, 1 Ulna, 5873.0ms\n",
      "Speed: 16.0ms preprocess, 5873.0ms inference, 221.4ms postprocess per image at shape (1, 3, 2048, 2048)\n"
     ]
    },
    {
     "name": "stderr",
     "output_type": "stream",
     "text": [
      "181it [20:30,  6.77s/it]"
     ]
    },
    {
     "name": "stdout",
     "output_type": "stream",
     "text": [
      "\n",
      "image 1/1 E:\\4\\data\\data\\test\\DCM\\ID219\\image1663119833904.png: 2048x2048 1 finger-1, 1 finger-2, 1 finger-3, 1 finger-4, 1 finger-5, 1 finger-6, 1 finger-7, 1 finger-8, 1 finger-9, 1 finger-10, 1 finger-11, 1 finger-12, 1 finger-13, 1 finger-14, 1 finger-15, 1 finger-16, 1 finger-17, 1 finger-18, 1 finger-19, 1 Trapezium, 1 Trapezoid, 1 Capitate, 1 Hamate, 1 Scaphoid, 1 Lunate, 1 Triquetrum, 1 Pisiform, 1 Radius, 1 Ulna, 5861.1ms\n",
      "Speed: 15.0ms preprocess, 5861.1ms inference, 233.0ms postprocess per image at shape (1, 3, 2048, 2048)\n"
     ]
    },
    {
     "name": "stderr",
     "output_type": "stream",
     "text": [
      "182it [20:37,  6.77s/it]"
     ]
    },
    {
     "name": "stdout",
     "output_type": "stream",
     "text": [
      "\n",
      "image 1/1 E:\\4\\data\\data\\test\\DCM\\ID220\\image1663119987665.png: 2048x2048 1 finger-1, 1 finger-2, 1 finger-3, 1 finger-4, 1 finger-5, 1 finger-6, 1 finger-7, 1 finger-8, 1 finger-9, 1 finger-10, 1 finger-11, 1 finger-12, 1 finger-13, 1 finger-14, 1 finger-15, 1 finger-16, 1 finger-17, 1 finger-18, 1 finger-19, 1 Trapezium, 1 Trapezoid, 1 Capitate, 1 Hamate, 1 Scaphoid, 1 Lunate, 1 Triquetrum, 1 Pisiform, 1 Radius, 1 Ulna, 5803.7ms\n",
      "Speed: 15.0ms preprocess, 5803.7ms inference, 222.1ms postprocess per image at shape (1, 3, 2048, 2048)\n"
     ]
    },
    {
     "name": "stderr",
     "output_type": "stream",
     "text": [
      "183it [20:44,  6.77s/it]"
     ]
    },
    {
     "name": "stdout",
     "output_type": "stream",
     "text": [
      "\n",
      "image 1/1 E:\\4\\data\\data\\test\\DCM\\ID220\\image1663120015357.png: 2048x2048 1 finger-1, 1 finger-2, 1 finger-3, 1 finger-4, 1 finger-5, 1 finger-6, 1 finger-7, 1 finger-8, 1 finger-9, 1 finger-10, 1 finger-11, 1 finger-12, 1 finger-13, 1 finger-14, 1 finger-15, 1 finger-16, 1 finger-17, 1 finger-18, 1 finger-19, 1 Trapezium, 1 Trapezoid, 1 Capitate, 1 Hamate, 1 Scaphoid, 1 Lunate, 1 Triquetrum, 1 Pisiform, 1 Radius, 1 Ulna, 5872.3ms\n",
      "Speed: 12.9ms preprocess, 5872.3ms inference, 219.0ms postprocess per image at shape (1, 3, 2048, 2048)\n"
     ]
    },
    {
     "name": "stderr",
     "output_type": "stream",
     "text": [
      "184it [20:51,  6.77s/it]"
     ]
    },
    {
     "name": "stdout",
     "output_type": "stream",
     "text": [
      "\n",
      "image 1/1 E:\\4\\data\\data\\test\\DCM\\ID221\\image1663120192350.png: 2048x2048 1 finger-1, 1 finger-2, 1 finger-3, 1 finger-4, 1 finger-5, 1 finger-6, 1 finger-7, 1 finger-8, 1 finger-9, 1 finger-10, 1 finger-11, 1 finger-12, 1 finger-13, 1 finger-14, 1 finger-15, 1 finger-16, 1 finger-17, 1 finger-18, 1 finger-19, 1 Trapezium, 1 Trapezoid, 1 Capitate, 1 Hamate, 1 Scaphoid, 1 Lunate, 1 Triquetrum, 1 Pisiform, 1 Radius, 1 Ulna, 5792.8ms\n",
      "Speed: 17.0ms preprocess, 5792.8ms inference, 212.9ms postprocess per image at shape (1, 3, 2048, 2048)\n"
     ]
    },
    {
     "name": "stderr",
     "output_type": "stream",
     "text": [
      "185it [20:57,  6.75s/it]"
     ]
    },
    {
     "name": "stdout",
     "output_type": "stream",
     "text": [
      "\n",
      "image 1/1 E:\\4\\data\\data\\test\\DCM\\ID221\\image1663120209081.png: 2048x2048 1 finger-1, 1 finger-2, 1 finger-3, 1 finger-4, 1 finger-5, 1 finger-6, 1 finger-7, 1 finger-8, 1 finger-9, 1 finger-10, 1 finger-11, 2 finger-12s, 2 finger-13s, 1 finger-14, 1 finger-15, 1 finger-16, 1 finger-17, 1 finger-18, 1 finger-19, 1 Trapezium, 1 Trapezoid, 1 Capitate, 1 Hamate, 1 Scaphoid, 1 Lunate, 1 Triquetrum, 1 Pisiform, 1 Radius, 1 Ulna, 5870.2ms\n",
      "Speed: 15.0ms preprocess, 5870.2ms inference, 222.6ms postprocess per image at shape (1, 3, 2048, 2048)\n"
     ]
    },
    {
     "name": "stderr",
     "output_type": "stream",
     "text": [
      "186it [21:04,  6.77s/it]"
     ]
    },
    {
     "name": "stdout",
     "output_type": "stream",
     "text": [
      "\n",
      "image 1/1 E:\\4\\data\\data\\test\\DCM\\ID222\\image1663120273363.png: 2048x2048 1 finger-1, 1 finger-2, 1 finger-3, 1 finger-4, 1 finger-5, 1 finger-6, 1 finger-7, 1 finger-8, 1 finger-9, 1 finger-10, 1 finger-11, 1 finger-12, 1 finger-13, 1 finger-14, 1 finger-15, 1 finger-16, 1 finger-17, 1 finger-18, 1 finger-19, 1 Trapezium, 1 Trapezoid, 1 Capitate, 1 Hamate, 1 Scaphoid, 1 Lunate, 1 Triquetrum, 1 Pisiform, 1 Radius, 1 Ulna, 5854.8ms\n",
      "Speed: 15.0ms preprocess, 5854.8ms inference, 219.6ms postprocess per image at shape (1, 3, 2048, 2048)\n"
     ]
    },
    {
     "name": "stderr",
     "output_type": "stream",
     "text": [
      "187it [21:11,  6.76s/it]"
     ]
    },
    {
     "name": "stdout",
     "output_type": "stream",
     "text": [
      "\n",
      "image 1/1 E:\\4\\data\\data\\test\\DCM\\ID222\\image1663120303210.png: 2048x2048 1 finger-1, 1 finger-2, 1 finger-3, 1 finger-4, 1 finger-5, 1 finger-6, 1 finger-7, 1 finger-8, 1 finger-9, 1 finger-10, 1 finger-11, 2 finger-12s, 2 finger-13s, 1 finger-14, 1 finger-15, 1 finger-16, 1 finger-17, 1 finger-18, 1 finger-19, 1 Trapezium, 1 Trapezoid, 1 Capitate, 1 Hamate, 1 Scaphoid, 1 Lunate, 1 Triquetrum, 1 Pisiform, 1 Radius, 1 Ulna, 5944.4ms\n",
      "Speed: 14.0ms preprocess, 5944.4ms inference, 235.0ms postprocess per image at shape (1, 3, 2048, 2048)\n"
     ]
    },
    {
     "name": "stderr",
     "output_type": "stream",
     "text": [
      "188it [21:18,  6.80s/it]"
     ]
    },
    {
     "name": "stdout",
     "output_type": "stream",
     "text": [
      "\n",
      "image 1/1 E:\\4\\data\\data\\test\\DCM\\ID223\\image1663120705408.png: 2048x2048 1 finger-1, 1 finger-2, 1 finger-3, 1 finger-4, 1 finger-5, 1 finger-6, 1 finger-7, 1 finger-8, 1 finger-9, 2 finger-10s, 1 finger-11, 1 finger-12, 1 finger-13, 1 finger-14, 1 finger-15, 1 finger-16, 1 finger-17, 1 finger-18, 1 finger-19, 1 Trapezium, 1 Trapezoid, 1 Capitate, 1 Hamate, 1 Scaphoid, 1 Lunate, 1 Triquetrum, 1 Pisiform, 1 Radius, 1 Ulna, 5823.5ms\n",
      "Speed: 15.0ms preprocess, 5823.5ms inference, 210.5ms postprocess per image at shape (1, 3, 2048, 2048)\n"
     ]
    },
    {
     "name": "stderr",
     "output_type": "stream",
     "text": [
      "189it [21:24,  6.78s/it]"
     ]
    },
    {
     "name": "stdout",
     "output_type": "stream",
     "text": [
      "\n",
      "image 1/1 E:\\4\\data\\data\\test\\DCM\\ID223\\image1663120722874.png: 2048x2048 1 finger-1, 1 finger-2, 1 finger-3, 1 finger-4, 1 finger-5, 1 finger-6, 1 finger-7, 1 finger-8, 1 finger-9, 1 finger-10, 1 finger-11, 1 finger-12, 1 finger-13, 1 finger-14, 1 finger-15, 1 finger-16, 1 finger-17, 1 finger-18, 1 finger-19, 1 Trapezium, 1 Trapezoid, 1 Capitate, 1 Hamate, 1 Scaphoid, 1 Lunate, 1 Triquetrum, 1 Pisiform, 1 Radius, 1 Ulna, 5808.0ms\n",
      "Speed: 31.0ms preprocess, 5808.0ms inference, 219.0ms postprocess per image at shape (1, 3, 2048, 2048)\n"
     ]
    },
    {
     "name": "stderr",
     "output_type": "stream",
     "text": [
      "190it [21:31,  6.76s/it]"
     ]
    },
    {
     "name": "stdout",
     "output_type": "stream",
     "text": [
      "\n",
      "image 1/1 E:\\4\\data\\data\\test\\DCM\\ID224\\image1663635656796.png: 2048x2048 1 finger-1, 1 finger-2, 1 finger-3, 1 finger-4, 1 finger-5, 1 finger-6, 1 finger-7, 1 finger-8, 1 finger-9, 1 finger-10, 1 finger-11, 1 finger-12, 1 finger-13, 1 finger-14, 1 finger-15, 1 finger-16, 1 finger-17, 1 finger-18, 1 finger-19, 1 Trapezium, 1 Trapezoid, 1 Capitate, 1 Hamate, 1 Scaphoid, 1 Lunate, 1 Triquetrum, 1 Pisiform, 1 Radius, 1 Ulna, 5878.2ms\n",
      "Speed: 14.0ms preprocess, 5878.2ms inference, 213.9ms postprocess per image at shape (1, 3, 2048, 2048)\n"
     ]
    },
    {
     "name": "stderr",
     "output_type": "stream",
     "text": [
      "191it [21:38,  6.76s/it]"
     ]
    },
    {
     "name": "stdout",
     "output_type": "stream",
     "text": [
      "\n",
      "image 1/1 E:\\4\\data\\data\\test\\DCM\\ID224\\image1663635674855.png: 2048x2048 1 finger-1, 1 finger-2, 1 finger-3, 1 finger-4, 1 finger-5, 1 finger-6, 1 finger-7, 1 finger-8, 1 finger-9, 1 finger-10, 1 finger-11, 1 finger-12, 1 finger-13, 1 finger-14, 1 finger-15, 1 finger-16, 1 finger-17, 1 finger-18, 1 finger-19, 1 Trapezium, 1 Trapezoid, 1 Capitate, 1 Hamate, 1 Scaphoid, 1 Lunate, 1 Triquetrum, 1 Pisiform, 1 Radius, 1 Ulna, 5905.2ms\n",
      "Speed: 15.0ms preprocess, 5905.2ms inference, 220.0ms postprocess per image at shape (1, 3, 2048, 2048)\n"
     ]
    },
    {
     "name": "stderr",
     "output_type": "stream",
     "text": [
      "192it [21:45,  6.78s/it]"
     ]
    },
    {
     "name": "stdout",
     "output_type": "stream",
     "text": [
      "\n",
      "image 1/1 E:\\4\\data\\data\\test\\DCM\\ID225\\image1663635713278.png: 2048x2048 1 finger-1, 1 finger-2, 1 finger-3, 1 finger-4, 1 finger-5, 1 finger-6, 1 finger-7, 1 finger-8, 1 finger-9, 1 finger-10, 1 finger-11, 1 finger-12, 1 finger-13, 1 finger-14, 1 finger-15, 1 finger-16, 1 finger-17, 1 finger-18, 1 finger-19, 1 Trapezium, 1 Trapezoid, 1 Capitate, 1 Hamate, 1 Scaphoid, 1 Lunate, 1 Triquetrum, 1 Pisiform, 1 Radius, 1 Ulna, 5774.5ms\n",
      "Speed: 13.0ms preprocess, 5774.5ms inference, 213.0ms postprocess per image at shape (1, 3, 2048, 2048)\n"
     ]
    },
    {
     "name": "stderr",
     "output_type": "stream",
     "text": [
      "193it [21:51,  6.75s/it]"
     ]
    },
    {
     "name": "stdout",
     "output_type": "stream",
     "text": [
      "\n",
      "image 1/1 E:\\4\\data\\data\\test\\DCM\\ID225\\image1663635740754.png: 2048x2048 1 finger-1, 1 finger-2, 1 finger-3, 1 finger-4, 1 finger-5, 1 finger-6, 1 finger-7, 1 finger-8, 1 finger-9, 1 finger-10, 1 finger-11, 1 finger-12, 1 finger-13, 1 finger-14, 1 finger-15, 1 finger-16, 1 finger-17, 1 finger-18, 1 finger-19, 1 Trapezium, 1 Trapezoid, 1 Capitate, 1 Hamate, 1 Scaphoid, 1 Lunate, 1 Triquetrum, 1 Pisiform, 1 Radius, 1 Ulna, 5861.8ms\n",
      "Speed: 14.0ms preprocess, 5861.8ms inference, 220.0ms postprocess per image at shape (1, 3, 2048, 2048)\n"
     ]
    },
    {
     "name": "stderr",
     "output_type": "stream",
     "text": [
      "194it [21:58,  6.76s/it]"
     ]
    },
    {
     "name": "stdout",
     "output_type": "stream",
     "text": [
      "\n",
      "image 1/1 E:\\4\\data\\data\\test\\DCM\\ID226\\image1663635792796.png: 2048x2048 1 finger-1, 1 finger-2, 1 finger-3, 1 finger-4, 1 finger-5, 1 finger-6, 1 finger-7, 1 finger-8, 1 finger-9, 1 finger-10, 1 finger-11, 1 finger-12, 1 finger-13, 1 finger-14, 1 finger-15, 1 finger-16, 1 finger-17, 1 finger-18, 1 finger-19, 1 Trapezium, 1 Trapezoid, 1 Capitate, 1 Hamate, 1 Scaphoid, 1 Lunate, 1 Triquetrum, 1 Pisiform, 1 Radius, 1 Ulna, 5897.3ms\n",
      "Speed: 14.0ms preprocess, 5897.3ms inference, 217.1ms postprocess per image at shape (1, 3, 2048, 2048)\n"
     ]
    },
    {
     "name": "stderr",
     "output_type": "stream",
     "text": [
      "195it [22:05,  6.77s/it]"
     ]
    },
    {
     "name": "stdout",
     "output_type": "stream",
     "text": [
      "\n",
      "image 1/1 E:\\4\\data\\data\\test\\DCM\\ID226\\image1663635822674.png: 2048x2048 1 finger-1, 1 finger-2, 1 finger-3, 1 finger-4, 1 finger-5, 1 finger-6, 1 finger-7, 1 finger-8, 1 finger-9, 1 finger-10, 1 finger-11, 1 finger-12, 1 finger-13, 1 finger-14, 1 finger-15, 1 finger-16, 1 finger-17, 1 finger-18, 1 finger-19, 1 Trapezium, 1 Trapezoid, 1 Capitate, 1 Hamate, 1 Scaphoid, 1 Lunate, 1 Triquetrum, 1 Pisiform, 1 Radius, 1 Ulna, 5928.7ms\n",
      "Speed: 14.0ms preprocess, 5928.7ms inference, 228.0ms postprocess per image at shape (1, 3, 2048, 2048)\n"
     ]
    },
    {
     "name": "stderr",
     "output_type": "stream",
     "text": [
      "196it [22:12,  6.80s/it]"
     ]
    },
    {
     "name": "stdout",
     "output_type": "stream",
     "text": [
      "\n",
      "image 1/1 E:\\4\\data\\data\\test\\DCM\\ID227\\image1663635886239.png: 2048x2048 1 finger-1, 1 finger-2, 1 finger-3, 1 finger-4, 1 finger-5, 1 finger-6, 1 finger-7, 1 finger-8, 1 finger-9, 1 finger-10, 1 finger-11, 1 finger-12, 1 finger-13, 1 finger-14, 1 finger-15, 1 finger-16, 1 finger-17, 1 finger-18, 1 finger-19, 1 Trapezium, 1 Trapezoid, 1 Capitate, 1 Hamate, 1 Scaphoid, 1 Lunate, 1 Triquetrum, 1 Pisiform, 1 Radius, 1 Ulna, 5814.7ms\n",
      "Speed: 15.0ms preprocess, 5814.7ms inference, 212.0ms postprocess per image at shape (1, 3, 2048, 2048)\n"
     ]
    },
    {
     "name": "stderr",
     "output_type": "stream",
     "text": [
      "197it [22:19,  6.77s/it]"
     ]
    },
    {
     "name": "stdout",
     "output_type": "stream",
     "text": [
      "\n",
      "image 1/1 E:\\4\\data\\data\\test\\DCM\\ID227\\image1663635914976.png: 2048x2048 1 finger-1, 1 finger-2, 1 finger-3, 1 finger-4, 1 finger-5, 1 finger-6, 1 finger-7, 1 finger-8, 1 finger-9, 1 finger-10, 1 finger-11, 1 finger-12, 1 finger-13, 1 finger-14, 1 finger-15, 1 finger-16, 1 finger-17, 1 finger-18, 1 finger-19, 1 Trapezium, 1 Trapezoid, 1 Capitate, 1 Hamate, 1 Scaphoid, 1 Lunate, 1 Triquetrum, 1 Pisiform, 1 Radius, 1 Ulna, 5841.0ms\n",
      "Speed: 14.0ms preprocess, 5841.0ms inference, 220.0ms postprocess per image at shape (1, 3, 2048, 2048)\n"
     ]
    },
    {
     "name": "stderr",
     "output_type": "stream",
     "text": [
      "198it [22:25,  6.76s/it]"
     ]
    },
    {
     "name": "stdout",
     "output_type": "stream",
     "text": [
      "\n",
      "image 1/1 E:\\4\\data\\data\\test\\DCM\\ID228\\image1663635979798.png: 2048x2048 1 finger-1, 1 finger-2, 1 finger-3, 1 finger-4, 1 finger-5, 1 finger-6, 1 finger-7, 1 finger-8, 1 finger-9, 1 finger-10, 1 finger-11, 1 finger-12, 1 finger-13, 1 finger-14, 1 finger-15, 1 finger-16, 1 finger-17, 1 finger-18, 1 finger-19, 1 Trapezium, 1 Trapezoid, 1 Capitate, 1 Hamate, 1 Scaphoid, 1 Lunate, 1 Triquetrum, 1 Pisiform, 1 Radius, 1 Ulna, 5923.7ms\n",
      "Speed: 14.9ms preprocess, 5923.7ms inference, 214.0ms postprocess per image at shape (1, 3, 2048, 2048)\n"
     ]
    },
    {
     "name": "stderr",
     "output_type": "stream",
     "text": [
      "199it [22:32,  6.78s/it]"
     ]
    },
    {
     "name": "stdout",
     "output_type": "stream",
     "text": [
      "\n",
      "image 1/1 E:\\4\\data\\data\\test\\DCM\\ID228\\image1663636006443.png: 2048x2048 1 finger-1, 1 finger-2, 1 finger-3, 1 finger-4, 1 finger-5, 1 finger-6, 1 finger-7, 1 finger-8, 1 finger-9, 1 finger-10, 1 finger-11, 1 finger-12, 1 finger-13, 1 finger-14, 1 finger-15, 1 finger-16, 1 finger-17, 1 finger-18, 1 finger-19, 1 Trapezium, 1 Trapezoid, 1 Capitate, 1 Hamate, 1 Scaphoid, 1 Lunate, 1 Triquetrum, 1 Pisiform, 1 Radius, 1 Ulna, 5830.8ms\n",
      "Speed: 14.0ms preprocess, 5830.8ms inference, 256.0ms postprocess per image at shape (1, 3, 2048, 2048)\n"
     ]
    },
    {
     "name": "stderr",
     "output_type": "stream",
     "text": [
      "200it [22:39,  6.77s/it]"
     ]
    },
    {
     "name": "stdout",
     "output_type": "stream",
     "text": [
      "\n",
      "image 1/1 E:\\4\\data\\data\\test\\DCM\\ID229\\image1663636067310.png: 2048x2048 1 finger-1, 1 finger-2, 1 finger-3, 1 finger-5, 1 finger-6, 1 finger-7, 2 finger-8s, 1 finger-9, 2 finger-10s, 1 finger-11, 1 finger-12, 1 finger-13, 1 finger-14, 1 finger-15, 1 finger-16, 1 finger-17, 1 finger-18, 1 finger-19, 1 Trapezium, 1 Trapezoid, 1 Capitate, 1 Hamate, 1 Scaphoid, 1 Lunate, 1 Triquetrum, 1 Pisiform, 1 Radius, 1 Ulna, 5913.7ms\n",
      "Speed: 16.6ms preprocess, 5913.7ms inference, 216.0ms postprocess per image at shape (1, 3, 2048, 2048)\n"
     ]
    },
    {
     "name": "stderr",
     "output_type": "stream",
     "text": [
      "201it [22:46,  6.79s/it]"
     ]
    },
    {
     "name": "stdout",
     "output_type": "stream",
     "text": [
      "\n",
      "image 1/1 E:\\4\\data\\data\\test\\DCM\\ID229\\image1663636087335.png: 2048x2048 1 finger-1, 1 finger-2, 1 finger-3, 1 finger-4, 1 finger-5, 1 finger-6, 1 finger-7, 1 finger-8, 1 finger-9, 1 finger-10, 1 finger-11, 1 finger-12, 1 finger-13, 1 finger-14, 1 finger-15, 1 finger-16, 1 finger-17, 1 finger-18, 1 finger-19, 1 Trapezium, 1 Trapezoid, 1 Capitate, 1 Hamate, 1 Scaphoid, 1 Lunate, 1 Triquetrum, 1 Pisiform, 1 Radius, 1 Ulna, 5866.0ms\n",
      "Speed: 14.0ms preprocess, 5866.0ms inference, 221.1ms postprocess per image at shape (1, 3, 2048, 2048)\n"
     ]
    },
    {
     "name": "stderr",
     "output_type": "stream",
     "text": [
      "202it [22:52,  6.78s/it]"
     ]
    },
    {
     "name": "stdout",
     "output_type": "stream",
     "text": [
      "\n",
      "image 1/1 E:\\4\\data\\data\\test\\DCM\\ID230\\image1663636140241.png: 2048x2048 1 finger-1, 1 finger-2, 1 finger-3, 1 finger-4, 1 finger-5, 2 finger-6s, 1 finger-7, 1 finger-8, 1 finger-9, 1 finger-10, 1 finger-11, 1 finger-12, 1 finger-13, 1 finger-14, 1 finger-15, 1 finger-16, 1 finger-17, 1 finger-18, 1 finger-19, 1 Trapezium, 1 Trapezoid, 1 Capitate, 1 Hamate, 1 Scaphoid, 1 Lunate, 1 Triquetrum, 1 Pisiform, 1 Radius, 1 Ulna, 5857.5ms\n",
      "Speed: 15.0ms preprocess, 5857.5ms inference, 208.9ms postprocess per image at shape (1, 3, 2048, 2048)\n"
     ]
    },
    {
     "name": "stderr",
     "output_type": "stream",
     "text": [
      "203it [22:59,  6.77s/it]"
     ]
    },
    {
     "name": "stdout",
     "output_type": "stream",
     "text": [
      "\n",
      "image 1/1 E:\\4\\data\\data\\test\\DCM\\ID230\\image1663636167346.png: 2048x2048 1 finger-1, 1 finger-2, 1 finger-3, 1 finger-4, 1 finger-5, 1 finger-6, 1 finger-7, 1 finger-8, 1 finger-9, 1 finger-10, 1 finger-11, 1 finger-12, 1 finger-13, 1 finger-14, 1 finger-15, 1 finger-16, 1 finger-17, 1 finger-18, 1 finger-19, 1 Trapezium, 1 Trapezoid, 1 Capitate, 1 Hamate, 1 Scaphoid, 1 Lunate, 1 Triquetrum, 1 Pisiform, 1 Radius, 1 Ulna, 5857.9ms\n",
      "Speed: 14.0ms preprocess, 5857.9ms inference, 217.9ms postprocess per image at shape (1, 3, 2048, 2048)\n"
     ]
    },
    {
     "name": "stderr",
     "output_type": "stream",
     "text": [
      "204it [23:06,  6.77s/it]"
     ]
    },
    {
     "name": "stdout",
     "output_type": "stream",
     "text": [
      "\n",
      "image 1/1 E:\\4\\data\\data\\test\\DCM\\ID231\\image1663636216073.png: 2048x2048 1 finger-1, 1 finger-2, 1 finger-3, 1 finger-4, 1 finger-5, 1 finger-6, 1 finger-7, 1 finger-8, 1 finger-9, 1 finger-10, 1 finger-11, 1 finger-12, 1 finger-13, 1 finger-14, 1 finger-15, 1 finger-16, 1 finger-17, 1 finger-18, 1 finger-19, 1 Trapezium, 1 Trapezoid, 1 Capitate, 1 Hamate, 1 Scaphoid, 1 Lunate, 1 Triquetrum, 1 Pisiform, 1 Radius, 1 Ulna, 5794.8ms\n",
      "Speed: 13.0ms preprocess, 5794.8ms inference, 221.0ms postprocess per image at shape (1, 3, 2048, 2048)\n"
     ]
    },
    {
     "name": "stderr",
     "output_type": "stream",
     "text": [
      "205it [23:13,  6.75s/it]"
     ]
    },
    {
     "name": "stdout",
     "output_type": "stream",
     "text": [
      "\n",
      "image 1/1 E:\\4\\data\\data\\test\\DCM\\ID231\\image1663636235447.png: 2048x2048 1 finger-1, 1 finger-2, 1 finger-3, 1 finger-4, 1 finger-5, 1 finger-6, 1 finger-7, 1 finger-8, 1 finger-9, 1 finger-10, 1 finger-11, 1 finger-12, 1 finger-13, 1 finger-14, 1 finger-15, 1 finger-16, 1 finger-17, 1 finger-18, 1 finger-19, 1 Trapezium, 1 Trapezoid, 1 Capitate, 1 Hamate, 1 Scaphoid, 1 Lunate, 1 Triquetrum, 1 Pisiform, 1 Radius, 1 Ulna, 5800.9ms\n",
      "Speed: 14.0ms preprocess, 5800.9ms inference, 222.1ms postprocess per image at shape (1, 3, 2048, 2048)\n"
     ]
    },
    {
     "name": "stderr",
     "output_type": "stream",
     "text": [
      "206it [23:19,  6.74s/it]"
     ]
    },
    {
     "name": "stdout",
     "output_type": "stream",
     "text": [
      "\n",
      "image 1/1 E:\\4\\data\\data\\test\\DCM\\ID232\\image1663636334195.png: 2048x2048 1 finger-1, 1 finger-2, 1 finger-3, 1 finger-4, 1 finger-5, 1 finger-6, 1 finger-7, 1 finger-8, 1 finger-9, 1 finger-10, 1 finger-11, 1 finger-12, 1 finger-13, 1 finger-14, 1 finger-15, 1 finger-16, 1 finger-17, 1 finger-18, 1 finger-19, 1 Trapezium, 1 Trapezoid, 1 Capitate, 1 Hamate, 1 Scaphoid, 1 Lunate, 1 Triquetrum, 1 Pisiform, 1 Radius, 1 Ulna, 5823.5ms\n",
      "Speed: 15.0ms preprocess, 5823.5ms inference, 207.0ms postprocess per image at shape (1, 3, 2048, 2048)\n"
     ]
    },
    {
     "name": "stderr",
     "output_type": "stream",
     "text": [
      "207it [23:26,  6.75s/it]"
     ]
    },
    {
     "name": "stdout",
     "output_type": "stream",
     "text": [
      "\n",
      "image 1/1 E:\\4\\data\\data\\test\\DCM\\ID232\\image1663636353289.png: 2048x2048 1 finger-1, 1 finger-2, 1 finger-3, 1 finger-4, 1 finger-5, 1 finger-6, 1 finger-7, 1 finger-8, 1 finger-9, 1 finger-10, 1 finger-11, 1 finger-12, 1 finger-13, 1 finger-14, 1 finger-15, 1 finger-16, 1 finger-17, 1 finger-18, 1 finger-19, 1 Trapezium, 1 Trapezoid, 1 Capitate, 1 Hamate, 1 Scaphoid, 1 Lunate, 1 Triquetrum, 1 Pisiform, 1 Radius, 1 Ulna, 5764.1ms\n",
      "Speed: 15.0ms preprocess, 5764.1ms inference, 217.0ms postprocess per image at shape (1, 3, 2048, 2048)\n"
     ]
    },
    {
     "name": "stderr",
     "output_type": "stream",
     "text": [
      "208it [23:33,  6.72s/it]"
     ]
    },
    {
     "name": "stdout",
     "output_type": "stream",
     "text": [
      "\n",
      "image 1/1 E:\\4\\data\\data\\test\\DCM\\ID233\\image1663636406859.png: 2048x2048 1 finger-1, 1 finger-2, 1 finger-3, 1 finger-4, 1 finger-5, 1 finger-6, 1 finger-7, 1 finger-8, 1 finger-9, 1 finger-10, 1 finger-11, 1 finger-12, 1 finger-13, 1 finger-14, 1 finger-15, 1 finger-16, 1 finger-17, 1 finger-18, 1 finger-19, 1 Trapezium, 1 Trapezoid, 1 Capitate, 1 Hamate, 1 Scaphoid, 1 Lunate, 1 Triquetrum, 1 Pisiform, 1 Radius, 1 Ulna, 5823.7ms\n",
      "Speed: 15.0ms preprocess, 5823.7ms inference, 222.0ms postprocess per image at shape (1, 3, 2048, 2048)\n"
     ]
    },
    {
     "name": "stderr",
     "output_type": "stream",
     "text": [
      "209it [23:40,  6.72s/it]"
     ]
    },
    {
     "name": "stdout",
     "output_type": "stream",
     "text": [
      "\n",
      "image 1/1 E:\\4\\data\\data\\test\\DCM\\ID233\\image1663636433659.png: 2048x2048 1 finger-1, 1 finger-2, 1 finger-3, 1 finger-4, 1 finger-5, 1 finger-6, 1 finger-7, 1 finger-8, 1 finger-9, 1 finger-10, 1 finger-11, 1 finger-12, 1 finger-13, 1 finger-14, 1 finger-15, 1 finger-16, 1 finger-17, 1 finger-18, 1 finger-19, 1 Trapezium, 1 Trapezoid, 1 Capitate, 1 Hamate, 1 Scaphoid, 1 Lunate, 1 Triquetrum, 1 Pisiform, 1 Radius, 1 Ulna, 5757.4ms\n",
      "Speed: 17.0ms preprocess, 5757.4ms inference, 209.1ms postprocess per image at shape (1, 3, 2048, 2048)\n"
     ]
    },
    {
     "name": "stderr",
     "output_type": "stream",
     "text": [
      "210it [23:46,  6.71s/it]"
     ]
    },
    {
     "name": "stdout",
     "output_type": "stream",
     "text": [
      "\n",
      "image 1/1 E:\\4\\data\\data\\test\\DCM\\ID234\\image1663636486280.png: 2048x2048 1 finger-1, 1 finger-2, 1 finger-3, 1 finger-4, 1 finger-5, 1 finger-6, 1 finger-7, 1 finger-8, 1 finger-9, 1 finger-10, 1 finger-11, 1 finger-12, 1 finger-13, 1 finger-14, 1 finger-15, 1 finger-16, 1 finger-17, 1 finger-18, 1 finger-19, 1 Trapezium, 1 Trapezoid, 1 Capitate, 1 Hamate, 1 Scaphoid, 1 Lunate, 1 Triquetrum, 1 Pisiform, 1 Radius, 1 Ulna, 5819.3ms\n",
      "Speed: 14.0ms preprocess, 5819.3ms inference, 211.5ms postprocess per image at shape (1, 3, 2048, 2048)\n"
     ]
    },
    {
     "name": "stderr",
     "output_type": "stream",
     "text": [
      "211it [23:53,  6.71s/it]"
     ]
    },
    {
     "name": "stdout",
     "output_type": "stream",
     "text": [
      "\n",
      "image 1/1 E:\\4\\data\\data\\test\\DCM\\ID234\\image1663636512623.png: 2048x2048 1 finger-1, 1 finger-2, 1 finger-3, 1 finger-4, 1 finger-5, 1 finger-6, 1 finger-7, 1 finger-8, 1 finger-9, 1 finger-10, 1 finger-11, 1 finger-12, 1 finger-13, 1 finger-14, 1 finger-15, 1 finger-16, 1 finger-17, 1 finger-18, 1 finger-19, 1 Trapezium, 1 Trapezoid, 1 Capitate, 1 Hamate, 1 Scaphoid, 1 Lunate, 1 Triquetrum, 1 Pisiform, 1 Radius, 1 Ulna, 5845.7ms\n",
      "Speed: 15.0ms preprocess, 5845.7ms inference, 220.0ms postprocess per image at shape (1, 3, 2048, 2048)\n"
     ]
    },
    {
     "name": "stderr",
     "output_type": "stream",
     "text": [
      "212it [24:00,  6.73s/it]"
     ]
    },
    {
     "name": "stdout",
     "output_type": "stream",
     "text": [
      "\n",
      "image 1/1 E:\\4\\data\\data\\test\\DCM\\ID236\\image1663636649479.png: 2048x2048 1 finger-1, 1 finger-2, 1 finger-3, 1 finger-4, 1 finger-5, 2 finger-6s, 1 finger-7, 1 finger-8, 1 finger-9, 1 finger-10, 1 finger-11, 1 finger-12, 1 finger-13, 1 finger-14, 1 finger-15, 1 finger-16, 1 finger-17, 1 finger-18, 1 finger-19, 1 Trapezium, 1 Trapezoid, 1 Capitate, 1 Hamate, 1 Scaphoid, 1 Lunate, 1 Triquetrum, 1 Pisiform, 1 Radius, 1 Ulna, 5840.4ms\n",
      "Speed: 14.9ms preprocess, 5840.4ms inference, 220.0ms postprocess per image at shape (1, 3, 2048, 2048)\n"
     ]
    },
    {
     "name": "stderr",
     "output_type": "stream",
     "text": [
      "213it [24:06,  6.73s/it]"
     ]
    },
    {
     "name": "stdout",
     "output_type": "stream",
     "text": [
      "\n",
      "image 1/1 E:\\4\\data\\data\\test\\DCM\\ID236\\image1663636678019.png: 2048x2048 1 finger-1, 1 finger-2, 1 finger-3, 1 finger-4, 1 finger-5, 1 finger-6, 1 finger-7, 1 finger-8, 1 finger-9, 1 finger-10, 1 finger-11, 1 finger-12, 1 finger-13, 1 finger-14, 1 finger-15, 1 finger-16, 1 finger-17, 1 finger-18, 1 finger-19, 1 Trapezium, 1 Trapezoid, 1 Capitate, 1 Hamate, 1 Scaphoid, 1 Lunate, 1 Triquetrum, 1 Pisiform, 1 Radius, 1 Ulna, 5772.1ms\n",
      "Speed: 16.0ms preprocess, 5772.1ms inference, 217.0ms postprocess per image at shape (1, 3, 2048, 2048)\n"
     ]
    },
    {
     "name": "stderr",
     "output_type": "stream",
     "text": [
      "214it [24:13,  6.72s/it]"
     ]
    },
    {
     "name": "stdout",
     "output_type": "stream",
     "text": [
      "\n",
      "image 1/1 E:\\4\\data\\data\\test\\DCM\\ID237\\image1663637152063.png: 2048x2048 1 finger-1, 1 finger-2, 1 finger-3, 1 finger-4, 1 finger-5, 1 finger-6, 1 finger-7, 1 finger-8, 1 finger-9, 1 finger-10, 1 finger-11, 1 finger-12, 1 finger-13, 1 finger-14, 1 finger-15, 1 finger-16, 1 finger-17, 1 finger-18, 1 finger-19, 1 Trapezium, 1 Trapezoid, 1 Capitate, 1 Hamate, 1 Scaphoid, 1 Lunate, 1 Triquetrum, 1 Pisiform, 1 Radius, 1 Ulna, 5942.5ms\n",
      "Speed: 15.0ms preprocess, 5942.5ms inference, 213.0ms postprocess per image at shape (1, 3, 2048, 2048)\n"
     ]
    },
    {
     "name": "stderr",
     "output_type": "stream",
     "text": [
      "215it [24:20,  6.75s/it]"
     ]
    },
    {
     "name": "stdout",
     "output_type": "stream",
     "text": [
      "\n",
      "image 1/1 E:\\4\\data\\data\\test\\DCM\\ID237\\image1663637170369.png: 2048x2048 1 finger-1, 1 finger-2, 1 finger-3, 1 finger-4, 1 finger-5, 1 finger-6, 1 finger-7, 1 finger-8, 1 finger-9, 1 finger-10, 1 finger-11, 1 finger-12, 1 finger-13, 1 finger-14, 1 finger-15, 1 finger-16, 1 finger-17, 1 finger-18, 1 finger-19, 1 Trapezium, 1 Trapezoid, 1 Capitate, 1 Hamate, 1 Scaphoid, 1 Lunate, 1 Triquetrum, 1 Pisiform, 1 Radius, 1 Ulna, 5820.9ms\n",
      "Speed: 13.0ms preprocess, 5820.9ms inference, 226.1ms postprocess per image at shape (1, 3, 2048, 2048)\n"
     ]
    },
    {
     "name": "stderr",
     "output_type": "stream",
     "text": [
      "216it [24:27,  6.75s/it]"
     ]
    },
    {
     "name": "stdout",
     "output_type": "stream",
     "text": [
      "\n",
      "image 1/1 E:\\4\\data\\data\\test\\DCM\\ID238\\image1663637247313.png: 2048x2048 1 finger-1, 1 finger-2, 1 finger-3, 1 finger-4, 1 finger-5, 1 finger-6, 1 finger-7, 1 finger-8, 1 finger-9, 2 finger-10s, 1 finger-11, 1 finger-12, 1 finger-13, 1 finger-14, 1 finger-15, 1 finger-16, 1 finger-17, 1 finger-18, 1 finger-19, 1 Trapezium, 1 Trapezoid, 1 Capitate, 1 Hamate, 1 Scaphoid, 1 Lunate, 1 Triquetrum, 1 Pisiform, 1 Radius, 1 Ulna, 5892.6ms\n",
      "Speed: 13.0ms preprocess, 5892.6ms inference, 221.0ms postprocess per image at shape (1, 3, 2048, 2048)\n"
     ]
    },
    {
     "name": "stderr",
     "output_type": "stream",
     "text": [
      "217it [24:33,  6.77s/it]"
     ]
    },
    {
     "name": "stdout",
     "output_type": "stream",
     "text": [
      "\n",
      "image 1/1 E:\\4\\data\\data\\test\\DCM\\ID238\\image1663637263886.png: 2048x2048 1 finger-1, 1 finger-2, 1 finger-3, 1 finger-4, 1 finger-5, 1 finger-6, 1 finger-7, 1 finger-8, 1 finger-9, 1 finger-10, 1 finger-11, 1 finger-12, 1 finger-13, 1 finger-14, 1 finger-15, 1 finger-16, 1 finger-17, 1 finger-18, 1 finger-19, 1 Trapezium, 1 Trapezoid, 1 Capitate, 1 Hamate, 1 Scaphoid, 1 Lunate, 1 Triquetrum, 1 Pisiform, 1 Radius, 1 Ulna, 5876.6ms\n",
      "Speed: 14.0ms preprocess, 5876.6ms inference, 214.0ms postprocess per image at shape (1, 3, 2048, 2048)\n"
     ]
    },
    {
     "name": "stderr",
     "output_type": "stream",
     "text": [
      "218it [24:40,  6.77s/it]"
     ]
    },
    {
     "name": "stdout",
     "output_type": "stream",
     "text": [
      "\n",
      "image 1/1 E:\\4\\data\\data\\test\\DCM\\ID239\\image1663637316403.png: 2048x2048 1 finger-1, 1 finger-2, 1 finger-3, 1 finger-4, 1 finger-5, 1 finger-6, 1 finger-7, 1 finger-8, 1 finger-9, 1 finger-10, 1 finger-11, 1 finger-12, 1 finger-13, 1 finger-14, 1 finger-15, 1 finger-16, 1 finger-17, 1 finger-18, 1 finger-19, 1 Trapezium, 1 Trapezoid, 1 Capitate, 1 Hamate, 1 Scaphoid, 1 Lunate, 1 Triquetrum, 1 Pisiform, 1 Radius, 1 Ulna, 5907.8ms\n",
      "Speed: 13.0ms preprocess, 5907.8ms inference, 215.0ms postprocess per image at shape (1, 3, 2048, 2048)\n"
     ]
    },
    {
     "name": "stderr",
     "output_type": "stream",
     "text": [
      "219it [24:47,  6.78s/it]"
     ]
    },
    {
     "name": "stdout",
     "output_type": "stream",
     "text": [
      "\n",
      "image 1/1 E:\\4\\data\\data\\test\\DCM\\ID239\\image1663637344279.png: 2048x2048 1 finger-1, 1 finger-2, 1 finger-3, 1 finger-4, 1 finger-5, 1 finger-6, 1 finger-7, 1 finger-8, 1 finger-9, 1 finger-10, 1 finger-11, 1 finger-12, 1 finger-13, 1 finger-14, 1 finger-15, 1 finger-16, 1 finger-17, 1 finger-18, 1 finger-19, 1 Trapezium, 1 Trapezoid, 1 Capitate, 1 Hamate, 1 Scaphoid, 1 Lunate, 1 Triquetrum, 1 Pisiform, 1 Radius, 1 Ulna, 5808.0ms\n",
      "Speed: 14.9ms preprocess, 5808.0ms inference, 213.4ms postprocess per image at shape (1, 3, 2048, 2048)\n"
     ]
    },
    {
     "name": "stderr",
     "output_type": "stream",
     "text": [
      "220it [24:54,  6.76s/it]"
     ]
    },
    {
     "name": "stdout",
     "output_type": "stream",
     "text": [
      "\n",
      "image 1/1 E:\\4\\data\\data\\test\\DCM\\ID240\\image1663637834999.png: 2048x2048 1 finger-1, 1 finger-2, 1 finger-3, 1 finger-4, 1 finger-5, 1 finger-6, 1 finger-7, 1 finger-8, 1 finger-9, 1 finger-10, 1 finger-11, 1 finger-12, 1 finger-13, 1 finger-14, 1 finger-15, 1 finger-16, 1 finger-17, 1 finger-18, 1 finger-19, 1 Trapezium, 1 Trapezoid, 1 Capitate, 1 Hamate, 1 Scaphoid, 1 Lunate, 1 Triquetrum, 1 Pisiform, 1 Radius, 1 Ulna, 5897.7ms\n",
      "Speed: 14.0ms preprocess, 5897.7ms inference, 214.9ms postprocess per image at shape (1, 3, 2048, 2048)\n"
     ]
    },
    {
     "name": "stderr",
     "output_type": "stream",
     "text": [
      "221it [25:01,  6.77s/it]"
     ]
    },
    {
     "name": "stdout",
     "output_type": "stream",
     "text": [
      "\n",
      "image 1/1 E:\\4\\data\\data\\test\\DCM\\ID240\\image1663637862121.png: 2048x2048 1 finger-1, 1 finger-2, 1 finger-3, 1 finger-4, 1 finger-5, 1 finger-6, 1 finger-7, 1 finger-8, 1 finger-9, 1 finger-10, 1 finger-11, 1 finger-12, 1 finger-13, 1 finger-14, 1 finger-15, 1 finger-16, 1 finger-17, 1 finger-18, 1 finger-19, 1 Trapezium, 1 Trapezoid, 1 Capitate, 1 Hamate, 1 Scaphoid, 1 Lunate, 1 Triquetrum, 1 Pisiform, 1 Radius, 1 Ulna, 5850.0ms\n",
      "Speed: 14.0ms preprocess, 5850.0ms inference, 218.0ms postprocess per image at shape (1, 3, 2048, 2048)\n"
     ]
    },
    {
     "name": "stderr",
     "output_type": "stream",
     "text": [
      "222it [25:07,  6.77s/it]"
     ]
    },
    {
     "name": "stdout",
     "output_type": "stream",
     "text": [
      "\n",
      "image 1/1 E:\\4\\data\\data\\test\\DCM\\ID241\\image1663638387841.png: 2048x2048 1 finger-1, 1 finger-2, 1 finger-3, 1 finger-4, 1 finger-5, 1 finger-6, 1 finger-7, 1 finger-8, 1 finger-9, 1 finger-10, 1 finger-11, 1 finger-12, 1 finger-13, 1 finger-14, 1 finger-15, 1 finger-16, 1 finger-17, 1 finger-18, 1 finger-19, 1 Trapezium, 1 Trapezoid, 1 Capitate, 1 Hamate, 1 Scaphoid, 1 Lunate, 1 Triquetrum, 1 Pisiform, 1 Radius, 1 Ulna, 5820.2ms\n",
      "Speed: 13.0ms preprocess, 5820.2ms inference, 217.9ms postprocess per image at shape (1, 3, 2048, 2048)\n"
     ]
    },
    {
     "name": "stderr",
     "output_type": "stream",
     "text": [
      "223it [25:14,  6.78s/it]"
     ]
    },
    {
     "name": "stdout",
     "output_type": "stream",
     "text": [
      "\n",
      "image 1/1 E:\\4\\data\\data\\test\\DCM\\ID241\\image1663638415652.png: 2048x2048 1 finger-1, 1 finger-2, 1 finger-3, 1 finger-4, 1 finger-5, 1 finger-6, 1 finger-7, 1 finger-8, 1 finger-9, 1 finger-10, 1 finger-11, 1 finger-12, 1 finger-13, 1 finger-14, 1 finger-15, 1 finger-16, 1 finger-17, 1 finger-18, 1 finger-19, 1 Trapezium, 1 Trapezoid, 1 Capitate, 1 Hamate, 1 Scaphoid, 1 Lunate, 1 Triquetrum, 1 Pisiform, 1 Radius, 1 Ulna, 5781.6ms\n",
      "Speed: 15.0ms preprocess, 5781.6ms inference, 206.0ms postprocess per image at shape (1, 3, 2048, 2048)\n"
     ]
    },
    {
     "name": "stderr",
     "output_type": "stream",
     "text": [
      "224it [25:21,  6.74s/it]"
     ]
    },
    {
     "name": "stdout",
     "output_type": "stream",
     "text": [
      "\n",
      "image 1/1 E:\\4\\data\\data\\test\\DCM\\ID242\\image1663638481561.png: 2048x2048 1 finger-1, 1 finger-2, 1 finger-3, 1 finger-4, 1 finger-5, 2 finger-6s, 1 finger-7, 1 finger-8, 1 finger-9, 1 finger-10, 1 finger-11, 1 finger-12, 1 finger-13, 1 finger-14, 1 finger-15, 1 finger-16, 1 finger-17, 1 finger-18, 1 finger-19, 1 Trapezium, 1 Trapezoid, 1 Capitate, 1 Hamate, 1 Scaphoid, 1 Lunate, 1 Triquetrum, 1 Pisiform, 1 Radius, 1 Ulna, 5863.5ms\n",
      "Speed: 14.0ms preprocess, 5863.5ms inference, 209.1ms postprocess per image at shape (1, 3, 2048, 2048)\n"
     ]
    },
    {
     "name": "stderr",
     "output_type": "stream",
     "text": [
      "225it [25:28,  6.76s/it]"
     ]
    },
    {
     "name": "stdout",
     "output_type": "stream",
     "text": [
      "\n",
      "image 1/1 E:\\4\\data\\data\\test\\DCM\\ID242\\image1663638508608.png: 2048x2048 1 finger-1, 1 finger-2, 1 finger-3, 1 finger-4, 1 finger-5, 1 finger-6, 1 finger-7, 1 finger-8, 1 finger-9, 1 finger-10, 1 finger-11, 1 finger-12, 1 finger-13, 1 finger-14, 1 finger-15, 1 finger-16, 1 finger-17, 1 finger-18, 1 finger-19, 1 Trapezium, 1 Trapezoid, 1 Capitate, 1 Hamate, 1 Scaphoid, 1 Lunate, 1 Triquetrum, 1 Pisiform, 1 Radius, 1 Ulna, 5852.8ms\n",
      "Speed: 12.9ms preprocess, 5852.8ms inference, 226.0ms postprocess per image at shape (1, 3, 2048, 2048)\n"
     ]
    },
    {
     "name": "stderr",
     "output_type": "stream",
     "text": [
      "226it [25:34,  6.77s/it]"
     ]
    },
    {
     "name": "stdout",
     "output_type": "stream",
     "text": [
      "\n",
      "image 1/1 E:\\4\\data\\data\\test\\DCM\\ID243\\image1663721789852.png: 2048x2048 1 finger-1, 1 finger-2, 1 finger-3, 1 finger-4, 1 finger-5, 1 finger-6, 1 finger-7, 1 finger-8, 1 finger-9, 1 finger-10, 1 finger-11, 1 finger-12, 1 finger-13, 1 finger-14, 1 finger-15, 1 finger-16, 1 finger-17, 1 finger-18, 1 finger-19, 1 Trapezium, 1 Trapezoid, 1 Capitate, 1 Hamate, 1 Scaphoid, 1 Lunate, 1 Triquetrum, 1 Pisiform, 1 Radius, 1 Ulna, 5893.8ms\n",
      "Speed: 15.0ms preprocess, 5893.8ms inference, 217.0ms postprocess per image at shape (1, 3, 2048, 2048)\n"
     ]
    },
    {
     "name": "stderr",
     "output_type": "stream",
     "text": [
      "227it [25:41,  6.79s/it]"
     ]
    },
    {
     "name": "stdout",
     "output_type": "stream",
     "text": [
      "\n",
      "image 1/1 E:\\4\\data\\data\\test\\DCM\\ID243\\image1663721824606.png: 2048x2048 1 finger-1, 1 finger-2, 1 finger-3, 1 finger-4, 1 finger-5, 1 finger-6, 1 finger-7, 1 finger-8, 1 finger-9, 1 finger-10, 1 finger-11, 1 finger-12, 1 finger-13, 1 finger-14, 1 finger-15, 1 finger-16, 1 finger-17, 1 finger-18, 1 finger-19, 1 Trapezium, 1 Trapezoid, 1 Capitate, 1 Hamate, 1 Scaphoid, 1 Lunate, 1 Triquetrum, 1 Pisiform, 1 Radius, 1 Ulna, 5742.4ms\n",
      "Speed: 15.0ms preprocess, 5742.4ms inference, 212.1ms postprocess per image at shape (1, 3, 2048, 2048)\n"
     ]
    },
    {
     "name": "stderr",
     "output_type": "stream",
     "text": [
      "228it [25:48,  6.74s/it]"
     ]
    },
    {
     "name": "stdout",
     "output_type": "stream",
     "text": [
      "\n",
      "image 1/1 E:\\4\\data\\data\\test\\DCM\\ID244\\image1663722027628.png: 2048x2048 1 finger-1, 1 finger-2, 1 finger-3, 1 finger-4, 1 finger-5, 1 finger-6, 1 finger-7, 1 finger-8, 1 finger-9, 1 finger-10, 1 finger-11, 1 finger-12, 1 finger-13, 1 finger-14, 1 finger-15, 1 finger-16, 1 finger-17, 1 finger-18, 1 finger-19, 1 Trapezium, 1 Trapezoid, 1 Capitate, 1 Hamate, 1 Scaphoid, 1 Lunate, 1 Triquetrum, 1 Pisiform, 1 Radius, 1 Ulna, 5867.9ms\n",
      "Speed: 14.0ms preprocess, 5867.9ms inference, 206.0ms postprocess per image at shape (1, 3, 2048, 2048)\n"
     ]
    },
    {
     "name": "stderr",
     "output_type": "stream",
     "text": [
      "229it [25:55,  6.78s/it]"
     ]
    },
    {
     "name": "stdout",
     "output_type": "stream",
     "text": [
      "\n",
      "image 1/1 E:\\4\\data\\data\\test\\DCM\\ID244\\image1663722053442.png: 2048x2048 1 finger-1, 1 finger-2, 1 finger-3, 1 finger-4, 1 finger-5, 1 finger-6, 1 finger-7, 1 finger-8, 1 finger-9, 1 finger-10, 1 finger-11, 1 finger-12, 1 finger-13, 1 finger-14, 1 finger-15, 1 finger-16, 1 finger-17, 1 finger-18, 1 finger-19, 1 Trapezium, 1 Trapezoid, 1 Capitate, 1 Hamate, 1 Scaphoid, 1 Lunate, 1 Triquetrum, 2 Pisiforms, 1 Radius, 1 Ulna, 5814.4ms\n",
      "Speed: 15.0ms preprocess, 5814.4ms inference, 206.9ms postprocess per image at shape (1, 3, 2048, 2048)\n"
     ]
    },
    {
     "name": "stderr",
     "output_type": "stream",
     "text": [
      "230it [26:01,  6.75s/it]"
     ]
    },
    {
     "name": "stdout",
     "output_type": "stream",
     "text": [
      "\n",
      "image 1/1 E:\\4\\data\\data\\test\\DCM\\ID245\\image1663722652771.png: 2048x2048 1 finger-1, 1 finger-2, 1 finger-3, 1 finger-4, 1 finger-5, 2 finger-6s, 1 finger-7, 1 finger-8, 1 finger-9, 1 finger-10, 1 finger-11, 1 finger-12, 1 finger-13, 1 finger-14, 1 finger-15, 1 finger-16, 1 finger-17, 1 finger-18, 1 finger-19, 1 Trapezium, 1 Trapezoid, 1 Capitate, 1 Hamate, 1 Scaphoid, 1 Lunate, 1 Triquetrum, 1 Pisiform, 1 Radius, 1 Ulna, 5897.5ms\n",
      "Speed: 15.0ms preprocess, 5897.5ms inference, 229.0ms postprocess per image at shape (1, 3, 2048, 2048)\n"
     ]
    },
    {
     "name": "stderr",
     "output_type": "stream",
     "text": [
      "231it [26:08,  6.78s/it]"
     ]
    },
    {
     "name": "stdout",
     "output_type": "stream",
     "text": [
      "\n",
      "image 1/1 E:\\4\\data\\data\\test\\DCM\\ID245\\image1663722680684.png: 2048x2048 1 finger-1, 1 finger-2, 1 finger-3, 1 finger-4, 1 finger-5, 1 finger-6, 1 finger-7, 1 finger-8, 1 finger-9, 1 finger-10, 1 finger-11, 1 finger-12, 1 finger-13, 1 finger-14, 1 finger-15, 1 finger-16, 1 finger-17, 1 finger-18, 1 finger-19, 1 Trapezium, 1 Trapezoid, 1 Capitate, 1 Hamate, 1 Scaphoid, 1 Lunate, 1 Triquetrum, 1 Pisiform, 1 Radius, 1 Ulna, 5921.9ms\n",
      "Speed: 14.9ms preprocess, 5921.9ms inference, 217.1ms postprocess per image at shape (1, 3, 2048, 2048)\n"
     ]
    },
    {
     "name": "stderr",
     "output_type": "stream",
     "text": [
      "232it [26:15,  6.79s/it]"
     ]
    },
    {
     "name": "stdout",
     "output_type": "stream",
     "text": [
      "\n",
      "image 1/1 E:\\4\\data\\data\\test\\DCM\\ID246\\image1663722769493.png: 2048x2048 1 finger-1, 1 finger-2, 1 finger-3, 1 finger-4, 1 finger-5, 1 finger-6, 1 finger-7, 1 finger-8, 1 finger-9, 1 finger-10, 1 finger-11, 1 finger-12, 1 finger-13, 1 finger-14, 1 finger-15, 1 finger-16, 1 finger-17, 1 finger-18, 1 finger-19, 1 Trapezium, 1 Trapezoid, 1 Capitate, 1 Hamate, 1 Scaphoid, 1 Lunate, 1 Triquetrum, 1 Pisiform, 1 Radius, 1 Ulna, 5882.2ms\n",
      "Speed: 14.0ms preprocess, 5882.2ms inference, 219.0ms postprocess per image at shape (1, 3, 2048, 2048)\n"
     ]
    },
    {
     "name": "stderr",
     "output_type": "stream",
     "text": [
      "233it [26:22,  6.79s/it]"
     ]
    },
    {
     "name": "stdout",
     "output_type": "stream",
     "text": [
      "\n",
      "image 1/1 E:\\4\\data\\data\\test\\DCM\\ID246\\image1663722796484.png: 2048x2048 1 finger-1, 1 finger-2, 1 finger-3, 1 finger-4, 1 finger-5, 1 finger-6, 1 finger-7, 1 finger-8, 1 finger-9, 1 finger-10, 1 finger-11, 1 finger-12, 1 finger-13, 1 finger-14, 1 finger-15, 1 finger-16, 1 finger-17, 1 finger-18, 1 finger-19, 1 Trapezium, 1 Trapezoid, 1 Capitate, 1 Hamate, 1 Scaphoid, 1 Lunate, 1 Triquetrum, 1 Pisiform, 1 Radius, 1 Ulna, 5829.9ms\n",
      "Speed: 15.0ms preprocess, 5829.9ms inference, 209.0ms postprocess per image at shape (1, 3, 2048, 2048)\n"
     ]
    },
    {
     "name": "stderr",
     "output_type": "stream",
     "text": [
      "234it [26:29,  6.78s/it]"
     ]
    },
    {
     "name": "stdout",
     "output_type": "stream",
     "text": [
      "\n",
      "image 1/1 E:\\4\\data\\data\\test\\DCM\\ID247\\image1663722863216.png: 2048x2048 1 finger-1, 1 finger-2, 1 finger-3, 1 finger-4, 1 finger-5, 1 finger-6, 1 finger-7, 1 finger-8, 1 finger-9, 1 finger-10, 1 finger-11, 1 finger-12, 1 finger-13, 1 finger-14, 1 finger-15, 1 finger-16, 1 finger-17, 1 finger-18, 1 finger-19, 1 Trapezium, 1 Trapezoid, 1 Capitate, 1 Hamate, 1 Scaphoid, 1 Lunate, 1 Triquetrum, 1 Pisiform, 1 Radius, 1 Ulna, 5917.7ms\n",
      "Speed: 14.0ms preprocess, 5917.7ms inference, 223.9ms postprocess per image at shape (1, 3, 2048, 2048)\n"
     ]
    },
    {
     "name": "stderr",
     "output_type": "stream",
     "text": [
      "235it [26:35,  6.79s/it]"
     ]
    },
    {
     "name": "stdout",
     "output_type": "stream",
     "text": [
      "\n",
      "image 1/1 E:\\4\\data\\data\\test\\DCM\\ID247\\image1663722879829.png: 2048x2048 1 finger-1, 1 finger-2, 1 finger-3, 1 finger-4, 1 finger-5, 1 finger-6, 1 finger-7, 1 finger-8, 1 finger-9, 1 finger-10, 1 finger-11, 1 finger-12, 1 finger-13, 1 finger-14, 1 finger-15, 1 finger-16, 1 finger-17, 1 finger-18, 1 finger-19, 1 Trapezium, 1 Trapezoid, 1 Capitate, 1 Hamate, 1 Scaphoid, 1 Lunate, 1 Triquetrum, 1 Pisiform, 1 Radius, 1 Ulna, 5888.0ms\n",
      "Speed: 16.0ms preprocess, 5888.0ms inference, 217.4ms postprocess per image at shape (1, 3, 2048, 2048)\n"
     ]
    },
    {
     "name": "stderr",
     "output_type": "stream",
     "text": [
      "236it [26:42,  6.79s/it]"
     ]
    },
    {
     "name": "stdout",
     "output_type": "stream",
     "text": [
      "\n",
      "image 1/1 E:\\4\\data\\data\\test\\DCM\\ID249\\image1663722988784.png: 2048x2048 1 finger-1, 1 finger-2, 1 finger-3, 1 finger-4, 1 finger-5, 1 finger-6, 1 finger-7, 1 finger-8, 1 finger-9, 1 finger-10, 1 finger-11, 1 finger-12, 1 finger-13, 1 finger-14, 1 finger-15, 1 finger-16, 1 finger-17, 1 finger-18, 1 finger-19, 1 Trapezium, 1 Trapezoid, 1 Capitate, 1 Hamate, 1 Scaphoid, 1 Lunate, 1 Triquetrum, 1 Pisiform, 1 Radius, 1 Ulna, 5876.5ms\n",
      "Speed: 15.0ms preprocess, 5876.5ms inference, 222.6ms postprocess per image at shape (1, 3, 2048, 2048)\n"
     ]
    },
    {
     "name": "stderr",
     "output_type": "stream",
     "text": [
      "237it [26:49,  6.79s/it]"
     ]
    },
    {
     "name": "stdout",
     "output_type": "stream",
     "text": [
      "\n",
      "image 1/1 E:\\4\\data\\data\\test\\DCM\\ID249\\image1663723014843.png: 2048x2048 1 finger-1, 1 finger-2, 1 finger-3, 1 finger-4, 1 finger-5, 1 finger-6, 1 finger-7, 1 finger-8, 1 finger-9, 1 finger-10, 1 finger-11, 1 finger-12, 1 finger-13, 1 finger-14, 1 finger-15, 1 finger-16, 1 finger-17, 1 finger-18, 1 finger-19, 1 Trapezium, 1 Trapezoid, 1 Capitate, 1 Hamate, 1 Scaphoid, 1 Lunate, 1 Triquetrum, 1 Pisiform, 1 Radius, 1 Ulna, 5785.1ms\n",
      "Speed: 14.0ms preprocess, 5785.1ms inference, 210.1ms postprocess per image at shape (1, 3, 2048, 2048)\n"
     ]
    },
    {
     "name": "stderr",
     "output_type": "stream",
     "text": [
      "238it [26:56,  6.75s/it]"
     ]
    },
    {
     "name": "stdout",
     "output_type": "stream",
     "text": [
      "\n",
      "image 1/1 E:\\4\\data\\data\\test\\DCM\\ID250\\image1663723056537.png: 2048x2048 1 finger-1, 1 finger-2, 1 finger-3, 1 finger-4, 1 finger-5, 1 finger-6, 1 finger-7, 1 finger-8, 1 finger-9, 1 finger-10, 1 finger-11, 1 finger-12, 1 finger-13, 1 finger-14, 1 finger-15, 1 finger-16, 1 finger-17, 1 finger-18, 1 finger-19, 1 Trapezium, 1 Trapezoid, 1 Capitate, 1 Hamate, 1 Scaphoid, 1 Lunate, 1 Triquetrum, 1 Pisiform, 1 Radius, 1 Ulna, 5833.6ms\n",
      "Speed: 13.9ms preprocess, 5833.6ms inference, 229.0ms postprocess per image at shape (1, 3, 2048, 2048)\n"
     ]
    },
    {
     "name": "stderr",
     "output_type": "stream",
     "text": [
      "239it [27:02,  6.76s/it]"
     ]
    },
    {
     "name": "stdout",
     "output_type": "stream",
     "text": [
      "\n",
      "image 1/1 E:\\4\\data\\data\\test\\DCM\\ID250\\image1663723085349.png: 2048x2048 1 finger-1, 1 finger-2, 1 finger-3, 1 finger-4, 1 finger-5, 1 finger-6, 1 finger-7, 1 finger-8, 1 finger-9, 1 finger-10, 1 finger-11, 1 finger-12, 1 finger-13, 1 finger-14, 1 finger-15, 1 finger-16, 1 finger-17, 1 finger-18, 1 finger-19, 1 Trapezium, 1 Trapezoid, 1 Capitate, 1 Hamate, 1 Scaphoid, 1 Lunate, 1 Triquetrum, 1 Pisiform, 1 Radius, 1 Ulna, 5796.4ms\n",
      "Speed: 17.0ms preprocess, 5796.4ms inference, 216.0ms postprocess per image at shape (1, 3, 2048, 2048)\n"
     ]
    },
    {
     "name": "stderr",
     "output_type": "stream",
     "text": [
      "240it [27:09,  6.75s/it]"
     ]
    },
    {
     "name": "stdout",
     "output_type": "stream",
     "text": [
      "\n",
      "image 1/1 E:\\4\\data\\data\\test\\DCM\\ID251\\image1663723150312.png: 2048x2048 1 finger-1, 1 finger-2, 1 finger-3, 1 finger-4, 1 finger-5, 1 finger-6, 1 finger-7, 1 finger-8, 1 finger-9, 1 finger-10, 1 finger-11, 1 finger-12, 1 finger-13, 1 finger-14, 1 finger-15, 1 finger-16, 1 finger-17, 1 finger-18, 1 finger-19, 1 Trapezium, 1 Trapezoid, 1 Capitate, 1 Hamate, 1 Scaphoid, 1 Lunate, 1 Triquetrum, 1 Pisiform, 1 Radius, 1 Ulna, 5899.5ms\n",
      "Speed: 14.0ms preprocess, 5899.5ms inference, 221.0ms postprocess per image at shape (1, 3, 2048, 2048)\n"
     ]
    },
    {
     "name": "stderr",
     "output_type": "stream",
     "text": [
      "241it [27:16,  6.77s/it]"
     ]
    },
    {
     "name": "stdout",
     "output_type": "stream",
     "text": [
      "\n",
      "image 1/1 E:\\4\\data\\data\\test\\DCM\\ID251\\image1663723177889.png: 2048x2048 1 finger-1, 1 finger-2, 1 finger-3, 1 finger-4, 1 finger-5, 1 finger-6, 1 finger-7, 1 finger-8, 1 finger-9, 1 finger-10, 1 finger-11, 1 finger-12, 1 finger-13, 1 finger-14, 1 finger-15, 1 finger-16, 1 finger-17, 1 finger-18, 1 finger-19, 1 Trapezium, 1 Trapezoid, 1 Capitate, 1 Hamate, 1 Scaphoid, 1 Lunate, 1 Triquetrum, 1 Pisiform, 1 Radius, 1 Ulna, 5833.2ms\n",
      "Speed: 14.0ms preprocess, 5833.2ms inference, 218.0ms postprocess per image at shape (1, 3, 2048, 2048)\n"
     ]
    },
    {
     "name": "stderr",
     "output_type": "stream",
     "text": [
      "242it [27:23,  6.76s/it]"
     ]
    },
    {
     "name": "stdout",
     "output_type": "stream",
     "text": [
      "\n",
      "image 1/1 E:\\4\\data\\data\\test\\DCM\\ID252\\image1663723222849.png: 2048x2048 1 finger-1, 1 finger-2, 1 finger-3, 1 finger-4, 1 finger-5, 2 finger-6s, 1 finger-7, 1 finger-8, 1 finger-9, 1 finger-10, 1 finger-11, 1 finger-12, 1 finger-13, 1 finger-14, 1 finger-15, 1 finger-16, 1 finger-17, 1 finger-18, 1 finger-19, 1 Trapezium, 1 Trapezoid, 1 Capitate, 1 Hamate, 1 Scaphoid, 1 Lunate, 1 Triquetrum, 1 Pisiform, 1 Radius, 1 Ulna, 5862.0ms\n",
      "Speed: 14.0ms preprocess, 5862.0ms inference, 222.0ms postprocess per image at shape (1, 3, 2048, 2048)\n"
     ]
    },
    {
     "name": "stderr",
     "output_type": "stream",
     "text": [
      "243it [27:30,  6.77s/it]"
     ]
    },
    {
     "name": "stdout",
     "output_type": "stream",
     "text": [
      "\n",
      "image 1/1 E:\\4\\data\\data\\test\\DCM\\ID252\\image1663723236963.png: 2048x2048 1 finger-1, 1 finger-2, 1 finger-3, 1 finger-4, 1 finger-5, 1 finger-6, 1 finger-7, 1 finger-8, 1 finger-9, 1 finger-10, 1 finger-11, 1 finger-12, 1 finger-13, 1 finger-14, 1 finger-15, 1 finger-16, 1 finger-17, 1 finger-18, 1 finger-19, 1 Trapezium, 1 Trapezoid, 1 Capitate, 1 Hamate, 1 Scaphoid, 1 Lunate, 1 Triquetrum, 1 Pisiform, 1 Radius, 1 Ulna, 5839.0ms\n",
      "Speed: 15.0ms preprocess, 5839.0ms inference, 217.0ms postprocess per image at shape (1, 3, 2048, 2048)\n"
     ]
    },
    {
     "name": "stderr",
     "output_type": "stream",
     "text": [
      "244it [27:36,  6.76s/it]"
     ]
    },
    {
     "name": "stdout",
     "output_type": "stream",
     "text": [
      "\n",
      "image 1/1 E:\\4\\data\\data\\test\\DCM\\ID253\\image1663723278935.png: 2048x2048 1 finger-1, 1 finger-2, 1 finger-3, 1 finger-4, 1 finger-5, 1 finger-6, 1 finger-7, 1 finger-8, 1 finger-9, 1 finger-10, 1 finger-11, 1 finger-12, 1 finger-13, 1 finger-14, 1 finger-15, 1 finger-16, 1 finger-17, 1 finger-18, 1 finger-19, 1 Trapezium, 1 Trapezoid, 1 Capitate, 1 Hamate, 1 Scaphoid, 1 Lunate, 1 Triquetrum, 1 Pisiform, 1 Radius, 1 Ulna, 5891.2ms\n",
      "Speed: 16.0ms preprocess, 5891.2ms inference, 228.0ms postprocess per image at shape (1, 3, 2048, 2048)\n"
     ]
    },
    {
     "name": "stderr",
     "output_type": "stream",
     "text": [
      "245it [27:43,  6.78s/it]"
     ]
    },
    {
     "name": "stdout",
     "output_type": "stream",
     "text": [
      "\n",
      "image 1/1 E:\\4\\data\\data\\test\\DCM\\ID253\\image1663723305545.png: 2048x2048 1 finger-1, 1 finger-2, 1 finger-3, 1 finger-4, 1 finger-5, 1 finger-6, 1 finger-7, 1 finger-8, 1 finger-9, 1 finger-10, 1 finger-11, 1 finger-12, 1 finger-13, 1 finger-14, 1 finger-15, 1 finger-16, 1 finger-17, 1 finger-18, 1 finger-19, 1 Trapezium, 1 Trapezoid, 1 Capitate, 1 Hamate, 1 Scaphoid, 1 Lunate, 1 Triquetrum, 1 Pisiform, 1 Radius, 1 Ulna, 5829.3ms\n",
      "Speed: 16.0ms preprocess, 5829.3ms inference, 218.0ms postprocess per image at shape (1, 3, 2048, 2048)\n"
     ]
    },
    {
     "name": "stderr",
     "output_type": "stream",
     "text": [
      "246it [27:50,  6.79s/it]"
     ]
    },
    {
     "name": "stdout",
     "output_type": "stream",
     "text": [
      "\n",
      "image 1/1 E:\\4\\data\\data\\test\\DCM\\ID254\\image1663723422380.png: 2048x2048 1 finger-1, 1 finger-2, 1 finger-3, 1 finger-4, 1 finger-5, 1 finger-6, 1 finger-7, 1 finger-8, 1 finger-9, 1 finger-10, 1 finger-11, 1 finger-12, 1 finger-13, 1 finger-14, 1 finger-15, 1 finger-16, 1 finger-17, 1 finger-18, 1 finger-19, 1 Trapezium, 1 Trapezoid, 1 Capitate, 1 Hamate, 1 Scaphoid, 1 Lunate, 1 Triquetrum, 1 Pisiform, 1 Radius, 1 Ulna, 5865.6ms\n",
      "Speed: 15.0ms preprocess, 5865.6ms inference, 220.0ms postprocess per image at shape (1, 3, 2048, 2048)\n"
     ]
    },
    {
     "name": "stderr",
     "output_type": "stream",
     "text": [
      "247it [27:57,  6.79s/it]"
     ]
    },
    {
     "name": "stdout",
     "output_type": "stream",
     "text": [
      "\n",
      "image 1/1 E:\\4\\data\\data\\test\\DCM\\ID254\\image1663723439131.png: 2048x2048 1 finger-1, 1 finger-2, 1 finger-3, 1 finger-4, 1 finger-5, 1 finger-6, 1 finger-7, 1 finger-8, 1 finger-9, 1 finger-10, 1 finger-11, 1 finger-12, 1 finger-13, 1 finger-14, 1 finger-15, 1 finger-16, 1 finger-17, 1 finger-18, 1 finger-19, 1 Trapezium, 1 Trapezoid, 1 Capitate, 1 Hamate, 1 Scaphoid, 1 Lunate, 1 Triquetrum, 1 Pisiform, 1 Radius, 1 Ulna, 5844.2ms\n",
      "Speed: 13.0ms preprocess, 5844.2ms inference, 219.9ms postprocess per image at shape (1, 3, 2048, 2048)\n"
     ]
    },
    {
     "name": "stderr",
     "output_type": "stream",
     "text": [
      "248it [28:03,  6.78s/it]"
     ]
    },
    {
     "name": "stdout",
     "output_type": "stream",
     "text": [
      "\n",
      "image 1/1 E:\\4\\data\\data\\test\\DCM\\ID255\\image1663723504424.png: 2048x2048 1 finger-1, 1 finger-2, 1 finger-3, 1 finger-4, 1 finger-5, 1 finger-6, 1 finger-7, 1 finger-8, 1 finger-9, 1 finger-10, 1 finger-11, 1 finger-12, 1 finger-13, 1 finger-14, 1 finger-15, 1 finger-16, 1 finger-17, 1 finger-18, 1 finger-19, 1 Trapezium, 1 Trapezoid, 1 Capitate, 1 Hamate, 1 Scaphoid, 1 Lunate, 1 Triquetrum, 1 Pisiform, 1 Radius, 1 Ulna, 5840.8ms\n",
      "Speed: 15.0ms preprocess, 5840.8ms inference, 212.0ms postprocess per image at shape (1, 3, 2048, 2048)\n"
     ]
    },
    {
     "name": "stderr",
     "output_type": "stream",
     "text": [
      "249it [28:10,  6.78s/it]"
     ]
    },
    {
     "name": "stdout",
     "output_type": "stream",
     "text": [
      "\n",
      "image 1/1 E:\\4\\data\\data\\test\\DCM\\ID255\\image1663723534429.png: 2048x2048 1 finger-1, 1 finger-2, 1 finger-3, 1 finger-4, 1 finger-5, 1 finger-6, 1 finger-7, 1 finger-8, 1 finger-9, 1 finger-10, 1 finger-11, 1 finger-12, 1 finger-13, 1 finger-14, 1 finger-15, 1 finger-16, 1 finger-17, 1 finger-18, 1 finger-19, 1 Trapezium, 1 Trapezoid, 1 Capitate, 1 Hamate, 1 Scaphoid, 1 Lunate, 1 Triquetrum, 1 Pisiform, 1 Radius, 1 Ulna, 5867.3ms\n",
      "Speed: 14.0ms preprocess, 5867.3ms inference, 222.0ms postprocess per image at shape (1, 3, 2048, 2048)\n"
     ]
    },
    {
     "name": "stderr",
     "output_type": "stream",
     "text": [
      "250it [28:17,  6.78s/it]"
     ]
    },
    {
     "name": "stdout",
     "output_type": "stream",
     "text": [
      "\n",
      "image 1/1 E:\\4\\data\\data\\test\\DCM\\ID257\\image1663724282043.png: 2048x2048 1 finger-1, 1 finger-2, 1 finger-3, 1 finger-4, 1 finger-5, 2 finger-6s, 1 finger-7, 1 finger-8, 1 finger-9, 1 finger-10, 1 finger-11, 1 finger-12, 1 finger-13, 1 finger-14, 1 finger-15, 1 finger-16, 1 finger-17, 1 finger-18, 1 finger-19, 1 Trapezium, 1 Trapezoid, 1 Capitate, 1 Hamate, 1 Scaphoid, 1 Lunate, 1 Triquetrum, 1 Pisiform, 1 Radius, 1 Ulna, 5860.8ms\n",
      "Speed: 16.0ms preprocess, 5860.8ms inference, 210.1ms postprocess per image at shape (1, 3, 2048, 2048)\n"
     ]
    },
    {
     "name": "stderr",
     "output_type": "stream",
     "text": [
      "251it [28:24,  6.81s/it]"
     ]
    },
    {
     "name": "stdout",
     "output_type": "stream",
     "text": [
      "\n",
      "image 1/1 E:\\4\\data\\data\\test\\DCM\\ID257\\image1663724307479.png: 2048x2048 1 finger-1, 1 finger-2, 1 finger-3, 1 finger-4, 1 finger-5, 1 finger-6, 1 finger-7, 1 finger-8, 1 finger-9, 1 finger-10, 1 finger-11, 1 finger-12, 1 finger-13, 1 finger-14, 1 finger-15, 1 finger-16, 1 finger-17, 1 finger-18, 1 finger-19, 1 Trapezium, 1 Trapezoid, 1 Capitate, 1 Hamate, 1 Scaphoid, 1 Lunate, 1 Triquetrum, 1 Pisiform, 1 Radius, 1 Ulna, 5729.2ms\n",
      "Speed: 16.0ms preprocess, 5729.2ms inference, 217.1ms postprocess per image at shape (1, 3, 2048, 2048)\n"
     ]
    },
    {
     "name": "stderr",
     "output_type": "stream",
     "text": [
      "252it [28:30,  6.75s/it]"
     ]
    },
    {
     "name": "stdout",
     "output_type": "stream",
     "text": [
      "\n",
      "image 1/1 E:\\4\\data\\data\\test\\DCM\\ID258\\image1663724438068.png: 2048x2048 1 finger-1, 1 finger-2, 1 finger-3, 1 finger-4, 1 finger-5, 1 finger-6, 1 finger-7, 1 finger-8, 1 finger-9, 1 finger-10, 1 finger-11, 1 finger-12, 1 finger-13, 1 finger-14, 1 finger-15, 1 finger-16, 1 finger-17, 1 finger-18, 1 finger-19, 1 Trapezium, 1 Trapezoid, 1 Capitate, 1 Hamate, 1 Scaphoid, 1 Lunate, 1 Triquetrum, 1 Pisiform, 1 Radius, 1 Ulna, 5916.9ms\n",
      "Speed: 16.0ms preprocess, 5916.9ms inference, 224.0ms postprocess per image at shape (1, 3, 2048, 2048)\n"
     ]
    },
    {
     "name": "stderr",
     "output_type": "stream",
     "text": [
      "253it [28:37,  6.78s/it]"
     ]
    },
    {
     "name": "stdout",
     "output_type": "stream",
     "text": [
      "\n",
      "image 1/1 E:\\4\\data\\data\\test\\DCM\\ID258\\image1663724464867.png: 2048x2048 1 finger-1, 1 finger-2, 1 finger-3, 1 finger-4, 1 finger-5, 1 finger-6, 1 finger-7, 1 finger-8, 1 finger-9, 1 finger-10, 1 finger-11, 1 finger-12, 1 finger-13, 1 finger-14, 1 finger-15, 1 finger-16, 1 finger-17, 1 finger-18, 1 finger-19, 1 Trapezium, 1 Trapezoid, 1 Capitate, 1 Hamate, 1 Scaphoid, 1 Lunate, 1 Triquetrum, 1 Pisiform, 1 Radius, 1 Ulna, 5822.9ms\n",
      "Speed: 14.9ms preprocess, 5822.9ms inference, 219.9ms postprocess per image at shape (1, 3, 2048, 2048)\n"
     ]
    },
    {
     "name": "stderr",
     "output_type": "stream",
     "text": [
      "254it [28:44,  6.76s/it]"
     ]
    },
    {
     "name": "stdout",
     "output_type": "stream",
     "text": [
      "\n",
      "image 1/1 E:\\4\\data\\data\\test\\DCM\\ID259\\image1663724556918.png: 2048x2048 1 finger-1, 1 finger-2, 1 finger-3, 1 finger-4, 1 finger-5, 1 finger-6, 1 finger-7, 1 finger-8, 1 finger-9, 2 finger-10s, 1 finger-11, 1 finger-12, 1 finger-13, 1 finger-14, 1 finger-15, 1 finger-16, 1 finger-17, 1 finger-18, 1 finger-19, 1 Trapezium, 1 Trapezoid, 1 Capitate, 1 Hamate, 1 Scaphoid, 1 Lunate, 1 Triquetrum, 1 Pisiform, 1 Radius, 1 Ulna, 5852.5ms\n",
      "Speed: 14.0ms preprocess, 5852.5ms inference, 214.0ms postprocess per image at shape (1, 3, 2048, 2048)\n"
     ]
    },
    {
     "name": "stderr",
     "output_type": "stream",
     "text": [
      "255it [28:51,  6.75s/it]"
     ]
    },
    {
     "name": "stdout",
     "output_type": "stream",
     "text": [
      "\n",
      "image 1/1 E:\\4\\data\\data\\test\\DCM\\ID259\\image1663724571797.png: 2048x2048 1 finger-1, 1 finger-2, 1 finger-3, 1 finger-4, 1 finger-5, 1 finger-6, 1 finger-7, 1 finger-8, 1 finger-9, 1 finger-10, 1 finger-11, 1 finger-12, 1 finger-13, 1 finger-14, 1 finger-15, 1 finger-16, 1 finger-17, 1 finger-18, 1 finger-19, 1 Trapezium, 1 Trapezoid, 1 Capitate, 1 Hamate, 1 Scaphoid, 1 Lunate, 1 Triquetrum, 1 Pisiform, 1 Radius, 1 Ulna, 5628.4ms\n",
      "Speed: 14.0ms preprocess, 5628.4ms inference, 205.0ms postprocess per image at shape (1, 3, 2048, 2048)\n"
     ]
    },
    {
     "name": "stderr",
     "output_type": "stream",
     "text": [
      "256it [28:57,  6.68s/it]"
     ]
    },
    {
     "name": "stdout",
     "output_type": "stream",
     "text": [
      "\n",
      "image 1/1 E:\\4\\data\\data\\test\\DCM\\ID260\\image1663724624752.png: 2048x2048 1 finger-1, 1 finger-2, 1 finger-3, 1 finger-4, 1 finger-5, 1 finger-6, 1 finger-7, 1 finger-8, 1 finger-9, 1 finger-10, 1 finger-11, 1 finger-12, 1 finger-13, 1 finger-14, 1 finger-15, 1 finger-16, 1 finger-17, 1 finger-18, 1 finger-19, 1 Trapezium, 1 Trapezoid, 1 Capitate, 1 Hamate, 1 Scaphoid, 1 Lunate, 1 Triquetrum, 1 Pisiform, 1 Radius, 1 Ulna, 5934.3ms\n",
      "Speed: 15.0ms preprocess, 5934.3ms inference, 205.1ms postprocess per image at shape (1, 3, 2048, 2048)\n"
     ]
    },
    {
     "name": "stderr",
     "output_type": "stream",
     "text": [
      "257it [29:04,  6.73s/it]"
     ]
    },
    {
     "name": "stdout",
     "output_type": "stream",
     "text": [
      "\n",
      "image 1/1 E:\\4\\data\\data\\test\\DCM\\ID260\\image1663724649532.png: 2048x2048 1 finger-1, 1 finger-2, 1 finger-3, 1 finger-4, 1 finger-5, 1 finger-6, 1 finger-7, 1 finger-8, 1 finger-9, 1 finger-10, 1 finger-11, 1 finger-12, 1 finger-13, 1 finger-14, 1 finger-15, 1 finger-16, 1 finger-17, 1 finger-18, 1 finger-19, 1 Trapezium, 1 Trapezoid, 1 Capitate, 1 Hamate, 1 Scaphoid, 1 Lunate, 1 Triquetrum, 1 Pisiform, 1 Radius, 1 Ulna, 5808.4ms\n",
      "Speed: 16.0ms preprocess, 5808.4ms inference, 219.0ms postprocess per image at shape (1, 3, 2048, 2048)\n"
     ]
    },
    {
     "name": "stderr",
     "output_type": "stream",
     "text": [
      "258it [29:11,  6.72s/it]"
     ]
    },
    {
     "name": "stdout",
     "output_type": "stream",
     "text": [
      "\n",
      "image 1/1 E:\\4\\data\\data\\test\\DCM\\ID261\\image1663724694673.png: 2048x2048 1 finger-1, 1 finger-2, 1 finger-3, 1 finger-4, 1 finger-5, 1 finger-6, 1 finger-7, 1 finger-8, 1 finger-9, 1 finger-10, 1 finger-11, 1 finger-12, 1 finger-13, 1 finger-14, 1 finger-15, 1 finger-16, 1 finger-17, 1 finger-18, 1 finger-19, 1 Trapezium, 1 Trapezoid, 1 Capitate, 1 Hamate, 1 Scaphoid, 1 Lunate, 1 Triquetrum, 1 Pisiform, 1 Radius, 1 Ulna, 5931.1ms\n",
      "Speed: 14.0ms preprocess, 5931.1ms inference, 221.1ms postprocess per image at shape (1, 3, 2048, 2048)\n"
     ]
    },
    {
     "name": "stderr",
     "output_type": "stream",
     "text": [
      "259it [29:18,  6.76s/it]"
     ]
    },
    {
     "name": "stdout",
     "output_type": "stream",
     "text": [
      "\n",
      "image 1/1 E:\\4\\data\\data\\test\\DCM\\ID261\\image1663724721483.png: 2048x2048 1 finger-1, 1 finger-2, 1 finger-3, 1 finger-4, 1 finger-5, 1 finger-6, 1 finger-7, 1 finger-8, 1 finger-9, 1 finger-10, 1 finger-11, 1 finger-12, 1 finger-13, 1 finger-14, 1 finger-15, 1 finger-16, 1 finger-17, 1 finger-18, 1 finger-19, 1 Trapezium, 1 Trapezoid, 1 Capitate, 1 Hamate, 1 Scaphoid, 1 Lunate, 1 Triquetrum, 1 Pisiform, 1 Radius, 1 Ulna, 5851.6ms\n",
      "Speed: 15.0ms preprocess, 5851.6ms inference, 214.0ms postprocess per image at shape (1, 3, 2048, 2048)\n"
     ]
    },
    {
     "name": "stderr",
     "output_type": "stream",
     "text": [
      "260it [29:24,  6.75s/it]"
     ]
    },
    {
     "name": "stdout",
     "output_type": "stream",
     "text": [
      "\n",
      "image 1/1 E:\\4\\data\\data\\test\\DCM\\ID262\\image1663724812856.png: 2048x2048 1 finger-1, 1 finger-2, 1 finger-3, 1 finger-4, 1 finger-5, 2 finger-6s, 1 finger-7, 1 finger-8, 1 finger-9, 1 finger-10, 1 finger-11, 1 finger-12, 1 finger-13, 1 finger-14, 1 finger-15, 1 finger-16, 1 finger-17, 1 finger-18, 1 finger-19, 1 Trapezium, 1 Trapezoid, 1 Capitate, 1 Hamate, 1 Scaphoid, 1 Lunate, 1 Triquetrum, 1 Pisiform, 1 Radius, 1 Ulna, 5882.1ms\n",
      "Speed: 15.0ms preprocess, 5882.1ms inference, 215.0ms postprocess per image at shape (1, 3, 2048, 2048)\n"
     ]
    },
    {
     "name": "stderr",
     "output_type": "stream",
     "text": [
      "261it [29:31,  6.78s/it]"
     ]
    },
    {
     "name": "stdout",
     "output_type": "stream",
     "text": [
      "\n",
      "image 1/1 E:\\4\\data\\data\\test\\DCM\\ID262\\image1663724840375.png: 2048x2048 1 finger-1, 1 finger-2, 1 finger-3, 1 finger-4, 1 finger-5, 1 finger-6, 1 finger-7, 1 finger-8, 1 finger-9, 1 finger-10, 1 finger-11, 1 finger-12, 1 finger-13, 1 finger-14, 1 finger-15, 1 finger-16, 1 finger-17, 1 finger-18, 1 finger-19, 1 Trapezium, 1 Trapezoid, 1 Capitate, 1 Hamate, 1 Scaphoid, 1 Lunate, 1 Triquetrum, 1 Pisiform, 1 Radius, 1 Ulna, 5848.2ms\n",
      "Speed: 15.0ms preprocess, 5848.2ms inference, 212.0ms postprocess per image at shape (1, 3, 2048, 2048)\n"
     ]
    },
    {
     "name": "stderr",
     "output_type": "stream",
     "text": [
      "262it [29:38,  6.77s/it]"
     ]
    },
    {
     "name": "stdout",
     "output_type": "stream",
     "text": [
      "\n",
      "image 1/1 E:\\4\\data\\data\\test\\DCM\\ID263\\image1663724918516.png: 2048x2048 1 finger-1, 1 finger-2, 1 finger-3, 1 finger-4, 1 finger-5, 1 finger-6, 1 finger-7, 1 finger-8, 1 finger-9, 1 finger-10, 1 finger-11, 1 finger-12, 1 finger-13, 1 finger-14, 1 finger-15, 1 finger-16, 1 finger-17, 1 finger-18, 1 finger-19, 1 Trapezium, 1 Trapezoid, 1 Capitate, 1 Hamate, 1 Scaphoid, 1 Lunate, 1 Triquetrum, 1 Pisiform, 1 Radius, 1 Ulna, 5934.9ms\n",
      "Speed: 14.0ms preprocess, 5934.9ms inference, 214.0ms postprocess per image at shape (1, 3, 2048, 2048)\n"
     ]
    },
    {
     "name": "stderr",
     "output_type": "stream",
     "text": [
      "263it [29:45,  6.79s/it]"
     ]
    },
    {
     "name": "stdout",
     "output_type": "stream",
     "text": [
      "\n",
      "image 1/1 E:\\4\\data\\data\\test\\DCM\\ID263\\image1663724944128.png: 2048x2048 1 finger-1, 1 finger-2, 1 finger-3, 1 finger-4, 1 finger-5, 1 finger-6, 1 finger-7, 1 finger-8, 1 finger-9, 1 finger-10, 1 finger-11, 1 finger-12, 1 finger-13, 1 finger-14, 1 finger-15, 1 finger-16, 1 finger-17, 1 finger-18, 1 finger-19, 1 Trapezium, 1 Trapezoid, 1 Capitate, 1 Hamate, 1 Scaphoid, 1 Lunate, 1 Triquetrum, 1 Pisiform, 1 Radius, 1 Ulna, 5793.7ms\n",
      "Speed: 15.0ms preprocess, 5793.7ms inference, 216.0ms postprocess per image at shape (1, 3, 2048, 2048)\n"
     ]
    },
    {
     "name": "stderr",
     "output_type": "stream",
     "text": [
      "264it [29:52,  6.78s/it]"
     ]
    },
    {
     "name": "stdout",
     "output_type": "stream",
     "text": [
      "\n",
      "image 1/1 E:\\4\\data\\data\\test\\DCM\\ID264\\image1663725013495.png: 2048x2048 1 finger-1, 1 finger-2, 1 finger-3, 1 finger-4, 1 finger-5, 1 finger-6, 1 finger-7, 1 finger-8, 1 finger-9, 1 finger-10, 1 finger-11, 1 finger-12, 1 finger-13, 1 finger-14, 1 finger-15, 1 finger-16, 1 finger-17, 1 finger-18, 1 finger-19, 1 Trapezium, 1 Trapezoid, 1 Capitate, 1 Hamate, 1 Scaphoid, 1 Lunate, 1 Triquetrum, 1 Pisiform, 1 Radius, 1 Ulna, 5832.0ms\n",
      "Speed: 13.0ms preprocess, 5832.0ms inference, 211.0ms postprocess per image at shape (1, 3, 2048, 2048)\n"
     ]
    },
    {
     "name": "stderr",
     "output_type": "stream",
     "text": [
      "265it [29:58,  6.77s/it]"
     ]
    },
    {
     "name": "stdout",
     "output_type": "stream",
     "text": [
      "\n",
      "image 1/1 E:\\4\\data\\data\\test\\DCM\\ID264\\image1663725040146.png: 2048x2048 1 finger-1, 1 finger-2, 1 finger-3, 1 finger-4, 1 finger-5, 1 finger-6, 1 finger-7, 1 finger-8, 1 finger-9, 1 finger-10, 1 finger-11, 1 finger-12, 1 finger-13, 1 finger-14, 1 finger-15, 1 finger-16, 1 finger-17, 1 finger-18, 1 finger-19, 1 Trapezium, 1 Trapezoid, 1 Capitate, 1 Hamate, 1 Scaphoid, 1 Lunate, 1 Triquetrum, 1 Pisiform, 1 Radius, 1 Ulna, 5799.9ms\n",
      "Speed: 14.0ms preprocess, 5799.9ms inference, 218.0ms postprocess per image at shape (1, 3, 2048, 2048)\n"
     ]
    },
    {
     "name": "stderr",
     "output_type": "stream",
     "text": [
      "266it [30:05,  6.75s/it]"
     ]
    },
    {
     "name": "stdout",
     "output_type": "stream",
     "text": [
      "\n",
      "image 1/1 E:\\4\\data\\data\\test\\DCM\\ID265\\image1663725081362.png: 2048x2048 1 finger-1, 1 finger-2, 1 finger-3, 1 finger-4, 1 finger-5, 1 finger-6, 1 finger-7, 1 finger-8, 1 finger-9, 1 finger-10, 1 finger-11, 1 finger-12, 1 finger-13, 1 finger-14, 1 finger-15, 1 finger-16, 1 finger-17, 1 finger-18, 1 finger-19, 1 Trapezium, 1 Trapezoid, 1 Capitate, 1 Hamate, 1 Scaphoid, 1 Lunate, 1 Triquetrum, 1 Pisiform, 1 Radius, 1 Ulna, 5803.8ms\n",
      "Speed: 15.0ms preprocess, 5803.8ms inference, 219.5ms postprocess per image at shape (1, 3, 2048, 2048)\n"
     ]
    },
    {
     "name": "stderr",
     "output_type": "stream",
     "text": [
      "267it [30:12,  6.73s/it]"
     ]
    },
    {
     "name": "stdout",
     "output_type": "stream",
     "text": [
      "\n",
      "image 1/1 E:\\4\\data\\data\\test\\DCM\\ID265\\image1663725110622.png: 2048x2048 1 finger-1, 1 finger-2, 1 finger-3, 1 finger-4, 1 finger-5, 1 finger-6, 1 finger-7, 1 finger-8, 1 finger-9, 1 finger-10, 1 finger-11, 2 finger-12s, 1 finger-13, 1 finger-14, 1 finger-15, 1 finger-16, 1 finger-17, 1 finger-18, 1 finger-19, 1 Trapezium, 1 Trapezoid, 1 Capitate, 1 Hamate, 1 Scaphoid, 1 Lunate, 1 Triquetrum, 1 Pisiform, 1 Radius, 1 Ulna, 5864.5ms\n",
      "Speed: 14.0ms preprocess, 5864.5ms inference, 215.1ms postprocess per image at shape (1, 3, 2048, 2048)\n"
     ]
    },
    {
     "name": "stderr",
     "output_type": "stream",
     "text": [
      "268it [30:19,  6.75s/it]"
     ]
    },
    {
     "name": "stdout",
     "output_type": "stream",
     "text": [
      "\n",
      "image 1/1 E:\\4\\data\\data\\test\\DCM\\ID266\\image1663732892280.png: 2048x2048 1 finger-1, 1 finger-2, 1 finger-3, 1 finger-4, 1 finger-5, 1 finger-6, 1 finger-7, 1 finger-8, 1 finger-9, 1 finger-10, 1 finger-11, 1 finger-12, 1 finger-13, 1 finger-14, 1 finger-15, 1 finger-16, 1 finger-17, 1 finger-18, 1 finger-19, 1 Trapezium, 1 Trapezoid, 1 Capitate, 1 Hamate, 1 Scaphoid, 1 Lunate, 1 Triquetrum, 1 Pisiform, 1 Radius, 1 Ulna, 5790.0ms\n",
      "Speed: 15.0ms preprocess, 5790.0ms inference, 227.0ms postprocess per image at shape (1, 3, 2048, 2048)\n"
     ]
    },
    {
     "name": "stderr",
     "output_type": "stream",
     "text": [
      "269it [30:25,  6.74s/it]"
     ]
    },
    {
     "name": "stdout",
     "output_type": "stream",
     "text": [
      "\n",
      "image 1/1 E:\\4\\data\\data\\test\\DCM\\ID266\\image1663732931080.png: 2048x2048 1 finger-1, 1 finger-2, 1 finger-3, 1 finger-4, 1 finger-5, 1 finger-6, 1 finger-7, 1 finger-8, 1 finger-9, 1 finger-10, 1 finger-11, 1 finger-12, 1 finger-13, 1 finger-14, 1 finger-15, 1 finger-16, 1 finger-17, 1 finger-18, 1 finger-19, 1 Trapezium, 1 Trapezoid, 1 Capitate, 1 Hamate, 1 Scaphoid, 1 Lunate, 1 Triquetrum, 1 Pisiform, 1 Radius, 1 Ulna, 5833.9ms\n",
      "Speed: 14.0ms preprocess, 5833.9ms inference, 217.0ms postprocess per image at shape (1, 3, 2048, 2048)\n"
     ]
    },
    {
     "name": "stderr",
     "output_type": "stream",
     "text": [
      "270it [30:32,  6.74s/it]"
     ]
    },
    {
     "name": "stdout",
     "output_type": "stream",
     "text": [
      "\n",
      "image 1/1 E:\\4\\data\\data\\test\\DCM\\ID267\\image1663733043588.png: 2048x2048 1 finger-1, 1 finger-2, 1 finger-3, 1 finger-4, 1 finger-5, 1 finger-6, 1 finger-7, 1 finger-8, 1 finger-9, 1 finger-10, 1 finger-11, 1 finger-12, 1 finger-13, 1 finger-14, 1 finger-15, 1 finger-16, 1 finger-17, 1 finger-18, 1 finger-19, 1 Trapezium, 1 Trapezoid, 1 Capitate, 1 Hamate, 1 Scaphoid, 1 Lunate, 1 Triquetrum, 1 Pisiform, 1 Radius, 1 Ulna, 5858.5ms\n",
      "Speed: 16.0ms preprocess, 5858.5ms inference, 207.4ms postprocess per image at shape (1, 3, 2048, 2048)\n"
     ]
    },
    {
     "name": "stderr",
     "output_type": "stream",
     "text": [
      "271it [30:39,  6.74s/it]"
     ]
    },
    {
     "name": "stdout",
     "output_type": "stream",
     "text": [
      "\n",
      "image 1/1 E:\\4\\data\\data\\test\\DCM\\ID267\\image1663733072013.png: 2048x2048 1 finger-1, 1 finger-2, 1 finger-3, 1 finger-4, 1 finger-5, 1 finger-6, 1 finger-7, 1 finger-8, 1 finger-9, 1 finger-10, 1 finger-11, 1 finger-12, 1 finger-13, 1 finger-14, 1 finger-15, 1 finger-16, 1 finger-17, 1 finger-18, 1 finger-19, 1 Trapezium, 1 Trapezoid, 1 Capitate, 1 Hamate, 1 Scaphoid, 1 Lunate, 1 Triquetrum, 1 Pisiform, 1 Radius, 1 Ulna, 5862.1ms\n",
      "Speed: 14.0ms preprocess, 5862.1ms inference, 218.9ms postprocess per image at shape (1, 3, 2048, 2048)\n"
     ]
    },
    {
     "name": "stderr",
     "output_type": "stream",
     "text": [
      "272it [30:46,  6.75s/it]"
     ]
    },
    {
     "name": "stdout",
     "output_type": "stream",
     "text": [
      "\n",
      "image 1/1 E:\\4\\data\\data\\test\\DCM\\ID268\\image1664154210876.png: 2048x2048 1 finger-1, 1 finger-2, 1 finger-3, 1 finger-4, 1 finger-5, 1 finger-6, 1 finger-7, 1 finger-8, 1 finger-9, 1 finger-10, 1 finger-11, 1 finger-12, 1 finger-13, 1 finger-14, 1 finger-15, 1 finger-16, 1 finger-17, 1 finger-18, 1 finger-19, 1 Trapezium, 1 Trapezoid, 1 Capitate, 1 Hamate, 1 Scaphoid, 1 Lunate, 1 Triquetrum, 1 Pisiform, 1 Radius, 1 Ulna, 5761.3ms\n",
      "Speed: 16.0ms preprocess, 5761.3ms inference, 211.1ms postprocess per image at shape (1, 3, 2048, 2048)\n"
     ]
    },
    {
     "name": "stderr",
     "output_type": "stream",
     "text": [
      "273it [30:52,  6.72s/it]"
     ]
    },
    {
     "name": "stdout",
     "output_type": "stream",
     "text": [
      "\n",
      "image 1/1 E:\\4\\data\\data\\test\\DCM\\ID268\\image1664154226857.png: 2048x2048 1 finger-1, 1 finger-2, 1 finger-3, 1 finger-4, 1 finger-5, 1 finger-6, 1 finger-7, 1 finger-8, 1 finger-9, 1 finger-10, 1 finger-11, 1 finger-12, 1 finger-13, 1 finger-14, 1 finger-15, 1 finger-16, 1 finger-17, 1 finger-18, 1 finger-19, 1 Trapezium, 1 Trapezoid, 1 Capitate, 1 Hamate, 1 Scaphoid, 1 Lunate, 1 Triquetrum, 1 Pisiform, 1 Radius, 1 Ulna, 5897.6ms\n",
      "Speed: 14.9ms preprocess, 5897.6ms inference, 226.0ms postprocess per image at shape (1, 3, 2048, 2048)\n"
     ]
    },
    {
     "name": "stderr",
     "output_type": "stream",
     "text": [
      "274it [30:59,  6.75s/it]"
     ]
    },
    {
     "name": "stdout",
     "output_type": "stream",
     "text": [
      "\n",
      "image 1/1 E:\\4\\data\\data\\test\\DCM\\ID269\\image1664154289655.png: 2048x2048 1 finger-1, 1 finger-2, 1 finger-3, 1 finger-4, 1 finger-5, 1 finger-6, 1 finger-7, 1 finger-8, 1 finger-9, 1 finger-10, 1 finger-11, 1 finger-12, 1 finger-13, 1 finger-14, 1 finger-15, 1 finger-16, 1 finger-17, 1 finger-18, 1 finger-19, 1 Trapezium, 1 Trapezoid, 1 Capitate, 1 Hamate, 1 Scaphoid, 1 Lunate, 1 Triquetrum, 1 Pisiform, 1 Radius, 1 Ulna, 5848.0ms\n",
      "Speed: 14.0ms preprocess, 5848.0ms inference, 216.6ms postprocess per image at shape (1, 3, 2048, 2048)\n"
     ]
    },
    {
     "name": "stderr",
     "output_type": "stream",
     "text": [
      "275it [31:06,  6.74s/it]"
     ]
    },
    {
     "name": "stdout",
     "output_type": "stream",
     "text": [
      "\n",
      "image 1/1 E:\\4\\data\\data\\test\\DCM\\ID269\\image1664154311264.png: 2048x2048 1 finger-1, 1 finger-2, 1 finger-3, 1 finger-4, 1 finger-5, 1 finger-6, 1 finger-7, 1 finger-8, 1 finger-9, 1 finger-10, 1 finger-11, 1 finger-12, 1 finger-13, 1 finger-14, 1 finger-15, 1 finger-16, 1 finger-17, 1 finger-18, 1 finger-19, 1 Trapezium, 1 Trapezoid, 1 Capitate, 1 Hamate, 1 Scaphoid, 1 Lunate, 1 Triquetrum, 1 Pisiform, 1 Radius, 1 Ulna, 5928.5ms\n",
      "Speed: 14.0ms preprocess, 5928.5ms inference, 221.0ms postprocess per image at shape (1, 3, 2048, 2048)\n"
     ]
    },
    {
     "name": "stderr",
     "output_type": "stream",
     "text": [
      "276it [31:12,  6.76s/it]"
     ]
    },
    {
     "name": "stdout",
     "output_type": "stream",
     "text": [
      "\n",
      "image 1/1 E:\\4\\data\\data\\test\\DCM\\ID270\\image1664154379949.png: 2048x2048 1 finger-1, 1 finger-2, 1 finger-3, 1 finger-4, 1 finger-5, 2 finger-6s, 1 finger-7, 1 finger-8, 1 finger-9, 1 finger-10, 1 finger-11, 1 finger-12, 1 finger-13, 1 finger-14, 1 finger-15, 1 finger-16, 1 finger-17, 1 finger-18, 1 finger-19, 1 Trapezium, 1 Trapezoid, 1 Capitate, 1 Hamate, 1 Scaphoid, 1 Lunate, 1 Triquetrum, 1 Pisiform, 1 Radius, 1 Ulna, 5856.7ms\n",
      "Speed: 15.0ms preprocess, 5856.7ms inference, 214.0ms postprocess per image at shape (1, 3, 2048, 2048)\n"
     ]
    },
    {
     "name": "stderr",
     "output_type": "stream",
     "text": [
      "277it [31:19,  6.77s/it]"
     ]
    },
    {
     "name": "stdout",
     "output_type": "stream",
     "text": [
      "\n",
      "image 1/1 E:\\4\\data\\data\\test\\DCM\\ID270\\image1664154396535.png: 2048x2048 1 finger-1, 1 finger-2, 1 finger-3, 1 finger-4, 1 finger-5, 1 finger-6, 1 finger-7, 1 finger-8, 1 finger-9, 1 finger-10, 1 finger-11, 1 finger-12, 1 finger-13, 1 finger-14, 1 finger-15, 1 finger-16, 1 finger-17, 1 finger-18, 1 finger-19, 1 Trapezium, 1 Trapezoid, 1 Capitate, 1 Hamate, 1 Scaphoid, 1 Lunate, 1 Triquetrum, 1 Pisiform, 1 Radius, 1 Ulna, 5853.2ms\n",
      "Speed: 15.0ms preprocess, 5853.2ms inference, 215.9ms postprocess per image at shape (1, 3, 2048, 2048)\n"
     ]
    },
    {
     "name": "stderr",
     "output_type": "stream",
     "text": [
      "278it [31:26,  6.79s/it]"
     ]
    },
    {
     "name": "stdout",
     "output_type": "stream",
     "text": [
      "\n",
      "image 1/1 E:\\4\\data\\data\\test\\DCM\\ID271\\image1664154449598.png: 2048x2048 1 finger-1, 1 finger-2, 1 finger-3, 1 finger-4, 1 finger-5, 2 finger-6s, 1 finger-7, 1 finger-8, 1 finger-9, 1 finger-10, 1 finger-11, 1 finger-12, 1 finger-13, 1 finger-14, 1 finger-15, 1 finger-16, 1 finger-17, 1 finger-18, 1 finger-19, 1 Trapezium, 1 Trapezoid, 1 Capitate, 1 Hamate, 1 Scaphoid, 1 Lunate, 1 Triquetrum, 1 Pisiform, 1 Radius, 1 Ulna, 5847.7ms\n",
      "Speed: 14.0ms preprocess, 5847.7ms inference, 211.0ms postprocess per image at shape (1, 3, 2048, 2048)\n"
     ]
    },
    {
     "name": "stderr",
     "output_type": "stream",
     "text": [
      "279it [31:33,  6.78s/it]"
     ]
    },
    {
     "name": "stdout",
     "output_type": "stream",
     "text": [
      "\n",
      "image 1/1 E:\\4\\data\\data\\test\\DCM\\ID271\\image1664154464821.png: 2048x2048 1 finger-1, 1 finger-2, 1 finger-3, 1 finger-4, 1 finger-5, 1 finger-6, 1 finger-7, 1 finger-8, 1 finger-9, 1 finger-10, 1 finger-11, 1 finger-12, 1 finger-13, 1 finger-14, 1 finger-15, 1 finger-16, 1 finger-17, 1 finger-18, 1 finger-19, 1 Trapezium, 1 Trapezoid, 1 Capitate, 1 Hamate, 1 Scaphoid, 1 Lunate, 1 Triquetrum, 1 Pisiform, 1 Radius, 1 Ulna, 5850.1ms\n",
      "Speed: 14.9ms preprocess, 5850.1ms inference, 222.0ms postprocess per image at shape (1, 3, 2048, 2048)\n"
     ]
    },
    {
     "name": "stderr",
     "output_type": "stream",
     "text": [
      "280it [31:40,  6.77s/it]"
     ]
    },
    {
     "name": "stdout",
     "output_type": "stream",
     "text": [
      "\n",
      "image 1/1 E:\\4\\data\\data\\test\\DCM\\ID272\\image1664154538676.png: 2048x2048 1 finger-1, 1 finger-2, 1 finger-3, 1 finger-4, 1 finger-5, 2 finger-6s, 1 finger-7, 1 finger-8, 1 finger-9, 1 finger-10, 1 finger-11, 1 finger-12, 1 finger-13, 1 finger-14, 1 finger-15, 1 finger-16, 1 finger-17, 1 finger-18, 1 finger-19, 1 Trapezium, 1 Trapezoid, 1 Capitate, 1 Hamate, 1 Scaphoid, 1 Lunate, 1 Triquetrum, 1 Pisiform, 1 Radius, 1 Ulna, 5803.3ms\n",
      "Speed: 13.0ms preprocess, 5803.3ms inference, 211.0ms postprocess per image at shape (1, 3, 2048, 2048)\n"
     ]
    },
    {
     "name": "stderr",
     "output_type": "stream",
     "text": [
      "281it [31:46,  6.78s/it]"
     ]
    },
    {
     "name": "stdout",
     "output_type": "stream",
     "text": [
      "\n",
      "image 1/1 E:\\4\\data\\data\\test\\DCM\\ID272\\image1664154558481.png: 2048x2048 1 finger-1, 1 finger-2, 1 finger-3, 1 finger-4, 1 finger-5, 1 finger-6, 1 finger-7, 1 finger-8, 1 finger-9, 1 finger-10, 1 finger-11, 1 finger-12, 1 finger-13, 1 finger-14, 1 finger-15, 1 finger-16, 1 finger-17, 1 finger-18, 1 finger-19, 1 Trapezium, 1 Trapezoid, 1 Capitate, 1 Hamate, 1 Scaphoid, 1 Lunate, 1 Triquetrum, 1 Pisiform, 1 Radius, 1 Ulna, 5812.2ms\n",
      "Speed: 17.0ms preprocess, 5812.2ms inference, 220.0ms postprocess per image at shape (1, 3, 2048, 2048)\n"
     ]
    },
    {
     "name": "stderr",
     "output_type": "stream",
     "text": [
      "282it [31:53,  6.80s/it]"
     ]
    },
    {
     "name": "stdout",
     "output_type": "stream",
     "text": [
      "\n",
      "image 1/1 E:\\4\\data\\data\\test\\DCM\\ID273\\image1664154611151.png: 2048x2048 1 finger-1, 1 finger-2, 1 finger-3, 1 finger-4, 1 finger-5, 1 finger-6, 1 finger-7, 1 finger-8, 1 finger-9, 1 finger-10, 1 finger-11, 1 finger-12, 1 finger-13, 1 finger-14, 1 finger-15, 1 finger-16, 1 finger-17, 1 finger-18, 1 finger-19, 1 Trapezium, 1 Trapezoid, 1 Capitate, 1 Hamate, 1 Scaphoid, 1 Lunate, 1 Triquetrum, 1 Pisiform, 1 Radius, 1 Ulna, 5805.9ms\n",
      "Speed: 14.0ms preprocess, 5805.9ms inference, 215.1ms postprocess per image at shape (1, 3, 2048, 2048)\n"
     ]
    },
    {
     "name": "stderr",
     "output_type": "stream",
     "text": [
      "283it [32:00,  6.78s/it]"
     ]
    },
    {
     "name": "stdout",
     "output_type": "stream",
     "text": [
      "\n",
      "image 1/1 E:\\4\\data\\data\\test\\DCM\\ID273\\image1664154624841.png: 2048x2048 1 finger-1, 1 finger-2, 1 finger-3, 1 finger-4, 1 finger-5, 1 finger-6, 1 finger-7, 1 finger-8, 1 finger-9, 1 finger-10, 1 finger-11, 1 finger-12, 1 finger-13, 1 finger-14, 1 finger-15, 1 finger-16, 1 finger-17, 1 finger-18, 1 finger-19, 1 Trapezium, 1 Trapezoid, 1 Capitate, 1 Hamate, 1 Scaphoid, 1 Lunate, 1 Triquetrum, 1 Pisiform, 1 Radius, 1 Ulna, 5874.5ms\n",
      "Speed: 16.0ms preprocess, 5874.5ms inference, 220.0ms postprocess per image at shape (1, 3, 2048, 2048)\n"
     ]
    },
    {
     "name": "stderr",
     "output_type": "stream",
     "text": [
      "284it [32:07,  6.78s/it]"
     ]
    },
    {
     "name": "stdout",
     "output_type": "stream",
     "text": [
      "\n",
      "image 1/1 E:\\4\\data\\data\\test\\DCM\\ID549\\image1667354218823.png: 2048x2048 1 finger-1, 1 finger-2, 1 finger-3, 1 finger-4, 1 finger-5, 1 finger-6, 1 finger-7, 1 finger-8, 1 finger-9, 1 finger-10, 1 finger-11, 1 finger-12, 1 finger-13, 1 finger-14, 1 finger-15, 1 finger-16, 1 finger-17, 1 finger-18, 1 finger-19, 1 Trapezium, 1 Trapezoid, 1 Capitate, 1 Hamate, 1 Scaphoid, 1 Lunate, 1 Triquetrum, 1 Pisiform, 1 Radius, 1 Ulna, 5854.1ms\n",
      "Speed: 15.0ms preprocess, 5854.1ms inference, 220.0ms postprocess per image at shape (1, 3, 2048, 2048)\n"
     ]
    },
    {
     "name": "stderr",
     "output_type": "stream",
     "text": [
      "285it [32:14,  6.78s/it]"
     ]
    },
    {
     "name": "stdout",
     "output_type": "stream",
     "text": [
      "\n",
      "image 1/1 E:\\4\\data\\data\\test\\DCM\\ID549\\image1667354234602.png: 2048x2048 1 finger-1, 1 finger-2, 1 finger-3, 1 finger-4, 1 finger-5, 1 finger-6, 1 finger-7, 1 finger-8, 1 finger-9, 1 finger-10, 1 finger-11, 1 finger-12, 1 finger-13, 1 finger-14, 1 finger-15, 1 finger-16, 1 finger-17, 1 finger-18, 1 finger-19, 1 Trapezium, 1 Trapezoid, 1 Capitate, 1 Hamate, 1 Scaphoid, 1 Lunate, 1 Triquetrum, 1 Pisiform, 1 Radius, 1 Ulna, 5771.8ms\n",
      "Speed: 16.0ms preprocess, 5771.8ms inference, 210.8ms postprocess per image at shape (1, 3, 2048, 2048)\n"
     ]
    },
    {
     "name": "stderr",
     "output_type": "stream",
     "text": [
      "286it [32:20,  6.76s/it]"
     ]
    },
    {
     "name": "stdout",
     "output_type": "stream",
     "text": [
      "\n",
      "image 1/1 E:\\4\\data\\data\\test\\DCM\\ID550\\image1667354405140.png: 2048x2048 1 finger-1, 1 finger-2, 1 finger-3, 1 finger-4, 1 finger-5, 1 finger-6, 1 finger-7, 1 finger-8, 1 finger-9, 1 finger-10, 1 finger-11, 1 finger-12, 1 finger-13, 1 finger-14, 1 finger-15, 1 finger-16, 1 finger-17, 1 finger-18, 1 finger-19, 1 Trapezium, 1 Trapezoid, 1 Capitate, 1 Hamate, 1 Scaphoid, 1 Lunate, 1 Triquetrum, 1 Pisiform, 1 Radius, 1 Ulna, 5883.1ms\n",
      "Speed: 16.0ms preprocess, 5883.1ms inference, 213.1ms postprocess per image at shape (1, 3, 2048, 2048)\n"
     ]
    },
    {
     "name": "stderr",
     "output_type": "stream",
     "text": [
      "287it [32:27,  6.77s/it]"
     ]
    },
    {
     "name": "stdout",
     "output_type": "stream",
     "text": [
      "\n",
      "image 1/1 E:\\4\\data\\data\\test\\DCM\\ID550\\image1667354424553.png: 2048x2048 1 finger-1, 1 finger-2, 1 finger-3, 1 finger-4, 1 finger-5, 1 finger-6, 1 finger-7, 1 finger-8, 1 finger-9, 1 finger-10, 1 finger-11, 1 finger-12, 1 finger-13, 1 finger-14, 1 finger-15, 1 finger-16, 1 finger-17, 1 finger-18, 1 finger-19, 1 Trapezium, 1 Trapezoid, 1 Capitate, 1 Hamate, 1 Scaphoid, 1 Lunate, 1 Triquetrum, 1 Pisiform, 1 Radius, 1 Ulna, 5797.6ms\n",
      "Speed: 14.0ms preprocess, 5797.6ms inference, 217.1ms postprocess per image at shape (1, 3, 2048, 2048)\n"
     ]
    },
    {
     "name": "stderr",
     "output_type": "stream",
     "text": [
      "288it [32:34,  6.79s/it]\n"
     ]
    }
   ],
   "source": [
    "from ultralytics import YOLO\n",
    "import pandas as pd\n",
    "import os\n",
    "from tqdm import tqdm\n",
    "import numpy as np\n",
    "from glob import glob\n",
    "import cv2\n",
    "CLASSES = [\n",
    "    'finger-1', 'finger-2', 'finger-3', 'finger-4', 'finger-5',\n",
    "    'finger-6', 'finger-7', 'finger-8', 'finger-9', 'finger-10',\n",
    "    'finger-11', 'finger-12', 'finger-13', 'finger-14', 'finger-15',\n",
    "    'finger-16', 'finger-17', 'finger-18', 'finger-19', 'Trapezium',\n",
    "    'Trapezoid', 'Capitate', 'Hamate', 'Scaphoid', 'Lunate',\n",
    "    'Triquetrum', 'Pisiform', 'Radius', 'Ulna',\n",
    "]\n",
    "CLASS2IND = {v: i for i, v in enumerate(CLASSES)}\n",
    "IND2CLASS = {v: k for k, v in CLASS2IND.items()}\n",
    "def rle_encode(mask):\n",
    "    pixels = mask.flatten()\n",
    "    pixels = np.concatenate([[0], pixels, [0]])\n",
    "    runs = np.where(pixels[1:] != pixels[:-1])[0] + 1\n",
    "    runs[1::2] -= runs[::2]\n",
    "    return ' '.join(str(x) for x in runs)\n",
    "\n",
    "\n",
    "def inference():\n",
    "    model = YOLO(r'E:\\프로젝트4\\yolo_is_coming\\runs\\segment\\train2\\weights\\best.pt').cuda()\n",
    "    infer_images = sorted(glob(r\"E:/프로젝트4/data/data/test/*/*/*.png\"))\n",
    "    \n",
    "    rles = []\n",
    "    filename_and_class = []\n",
    "\n",
    "    for idx, infer_image in tqdm(enumerate(infer_images)):\n",
    "        result = model.predict(infer_image, imgsz=2048)[0]\n",
    "        boxes = result.boxes.data.cpu().numpy()\n",
    "        scores, classes = boxes[:, 4].tolist(), boxes[:, 5].astype(np.uint8).tolist()\n",
    "        masks = result.masks.xy\n",
    "        \n",
    "        datas = [[a, b, c] for a, b, c, in zip(classes, scores, masks)]\n",
    "        datas = sorted(datas, key=lambda x: (x[0], -x[1]))\n",
    "        img_name = infer_image.split(\"/\")[-1]\n",
    "        \n",
    "        is_checked = [False] * 29\n",
    "        csv_idx, data_idx = 0, 0\n",
    "        while data_idx < len(datas):\n",
    "            c, s, mask_pts = datas[data_idx]\n",
    "            if is_checked[c]:\n",
    "                data_idx += 1\n",
    "                continue\n",
    "            \n",
    "            empty_mask = np.zeros((2048, 2048), dtype=np.uint8)\n",
    "            if c == csv_idx:\n",
    "                is_checked[c] = True\n",
    "                pts = [[int(x[0]), int(x[1])] for x in mask_pts]\n",
    "                cv2.fillPoly(empty_mask, [np.array(pts)], 1)\n",
    "                rle = rle_encode(empty_mask)\n",
    "                rles.append(rle)\n",
    "                filename_and_class.append(f\"{IND2CLASS[c]}_{img_name}\")\n",
    "                data_idx += 1\n",
    "            else:\n",
    "                rle = rle_encode(empty_mask)\n",
    "                rles.append(rle)\n",
    "                filename_and_class.append(f\"{IND2CLASS[csv_idx]}_{img_name}\")\n",
    "            csv_idx += 1\n",
    "            \n",
    "    classes, filename = zip(*[x.split(\"_\") for x in filename_and_class])\n",
    "    image_name = [os.path.basename(f) for f in filename]\n",
    "    df = pd.DataFrame({\n",
    "        \"image_name\": image_name,\n",
    "        \"class\": classes,\n",
    "        \"rle\": rles,\n",
    "    })\n",
    "\n",
    "    if not os.path.exists('./result'):                                                           \n",
    "        os.makedirs('./result')\n",
    "    f_name = 'yolov11output.csv'\n",
    "    df.to_csv(os.path.join('result', f_name), index=False)\n",
    "        \n",
    "    \n",
    "if __name__ == '__main__':\n",
    "    inference()"
   ]
  },
  {
   "cell_type": "code",
   "execution_count": null,
   "metadata": {},
   "outputs": [],
   "source": []
  }
 ],
 "metadata": {
  "kernelspec": {
   "display_name": "base",
   "language": "python",
   "name": "python3"
  },
  "language_info": {
   "codemirror_mode": {
    "name": "ipython",
    "version": 3
   },
   "file_extension": ".py",
   "mimetype": "text/x-python",
   "name": "python",
   "nbconvert_exporter": "python",
   "pygments_lexer": "ipython3",
   "version": "3.10.13"
  }
 },
 "nbformat": 4,
 "nbformat_minor": 4
}
